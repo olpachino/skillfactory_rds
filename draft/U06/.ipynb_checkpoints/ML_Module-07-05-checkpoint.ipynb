{
 "cells": [
  {
   "cell_type": "code",
   "execution_count": 9,
   "metadata": {},
   "outputs": [],
   "source": [
    "import numpy as np\n",
    "import matplotlib.pyplot as plt\n",
    "\n",
    "from sklearn.datasets import make_blobs\n",
    "from sklearn.cluster import KMeans, AgglomerativeClustering, DBSCAN\n",
    "from sklearn.metrics import silhouette_score\n",
    "from sklearn.mixture import GaussianMixture\n",
    "from sklearn.neighbors import kneighbors_graph"
   ]
  },
  {
   "cell_type": "code",
   "execution_count": 2,
   "metadata": {},
   "outputs": [],
   "source": [
    "n_samples = 1500\n",
    "dataset = make_blobs(n_samples=n_samples, centers=2, center_box=(-7.0, 7.5),\n",
    "                     cluster_std=[1.4, 1.7], random_state=42)"
   ]
  },
  {
   "cell_type": "code",
   "execution_count": 3,
   "metadata": {},
   "outputs": [],
   "source": [
    "X_2, _ = make_blobs(n_samples=n_samples, random_state=170, centers=[[-4, -3]], cluster_std=[1.9])\n",
    "transformation = [[1.2, -0.8], [-0.4, 1.7]]\n",
    "X_2 = np.dot(X_2, transformation)\n",
    "X, y = np.concatenate((dataset[0], X_2)), np.concatenate((dataset[1], np.array([2] * len(X_2))))"
   ]
  },
  {
   "cell_type": "markdown",
   "metadata": {},
   "source": [
    "Коэффициент силуэта можно посчитать при помощи реализации из библиотеки sklearn:"
   ]
  },
  {
   "cell_type": "code",
   "execution_count": 4,
   "metadata": {},
   "outputs": [
    {
     "data": {
      "text/plain": [
       "0.5131209788437305"
      ]
     },
     "execution_count": 4,
     "metadata": {},
     "output_type": "execute_result"
    }
   ],
   "source": [
    "# сначала получим предсказанные кластеры при помощи метода кластеризации\n",
    "kmeans = KMeans(n_clusters=3, random_state=42)\n",
    "kmeans.fit(X)\n",
    "kmeans_pred = kmeans.labels_\n",
    "\n",
    "# теперь посчитаем коэффициент силуэта\n",
    "silhouette_score(X=X, labels=kmeans_pred, metric='euclidean')"
   ]
  },
  {
   "cell_type": "markdown",
   "metadata": {},
   "source": [
    "В качестве параметров в функции silhouette_score используются:\n",
    "\n",
    "- X — массив признаков объектов выборки или массив попарных расстояний между объектами;\n",
    "- Y — массив предсказанных кластеров для объектов выборки;\n",
    "- metric — метрика, используемая для вычисления расстояния между объектами, мы будем использовать euclidean (Евклидово расстояние)\n",
    "\n",
    "При решении заданий модуля стандартизация должна быть выключена."
   ]
  },
  {
   "cell_type": "markdown",
   "metadata": {},
   "source": [
    "### Задание\n",
    "Обучите модель GaussianMixture с параметрами n_components=3 и random_state=42 на признаках исходного датасета. Посчитайте коэффициент силуэта для получившейся кластеризации. Ответ округлите до десятых и запишите с точкой."
   ]
  },
  {
   "cell_type": "code",
   "execution_count": 5,
   "metadata": {},
   "outputs": [],
   "source": [
    "em_gm = GaussianMixture(n_components=3, random_state=42)"
   ]
  },
  {
   "cell_type": "code",
   "execution_count": 6,
   "metadata": {},
   "outputs": [],
   "source": [
    "em_pred = em_gm.fit_predict(X)"
   ]
  },
  {
   "cell_type": "code",
   "execution_count": 8,
   "metadata": {},
   "outputs": [
    {
     "data": {
      "text/plain": [
       "0.49893287606943293"
      ]
     },
     "execution_count": 8,
     "metadata": {},
     "output_type": "execute_result"
    }
   ],
   "source": [
    "silhouette_score(X=X, labels=em_pred, metric='euclidean')"
   ]
  },
  {
   "cell_type": "markdown",
   "metadata": {},
   "source": [
    "### Задание\n",
    "Сравните результаты кластеризации четырёх рассмотренных алгоритмов на исходном датасете при помощи коэффициента силуэта, инициализируйте алгоритмы со следующими параметрами:\n",
    "\n",
    "- K-means — n_clusters=3, random_state=42\n",
    "- EM-алгоритм (GaussianMixture) — n_components=3, random_state=42\n",
    "- Агломеративная кластеризация – n_clusters=3\n",
    "- DBSCAN – eps=0.9, min_samples=35\n",
    "\n",
    "Укажите максимальное значение коэффициента силуэта, полученное при помощи данных моделей. Ответ округлите до сотых и запишите с точкой."
   ]
  },
  {
   "cell_type": "code",
   "execution_count": 11,
   "metadata": {},
   "outputs": [],
   "source": [
    "kmeans_1 = KMeans(n_clusters=3, random_state=42)\n",
    "kmeans_1.fit(X)\n",
    "kmeans_pred_1 = kmeans.labels_"
   ]
  },
  {
   "cell_type": "code",
   "execution_count": 12,
   "metadata": {},
   "outputs": [],
   "source": [
    "em_gm_1 = GaussianMixture(n_components=3, random_state=42)\n",
    "em_pred_1 = em_gm.fit_predict(X)"
   ]
  },
  {
   "cell_type": "code",
   "execution_count": 14,
   "metadata": {},
   "outputs": [],
   "source": [
    "ac_1 = AgglomerativeClustering(n_clusters=3)\n",
    "ac_1.fit(X)\n",
    "ac_pred_1 = ac_1.labels_"
   ]
  },
  {
   "cell_type": "code",
   "execution_count": 16,
   "metadata": {},
   "outputs": [],
   "source": [
    "dbscan_1 = DBSCAN(eps=0.9, min_samples=35)\n",
    "dbscan_1.fit(X)\n",
    "dbscan_pred_1 = dbscan_1.labels_"
   ]
  },
  {
   "cell_type": "code",
   "execution_count": 17,
   "metadata": {},
   "outputs": [
    {
     "name": "stdout",
     "output_type": "stream",
     "text": [
      "Коэффициент силуэта для K-means  0.5131209788437305\n",
      "Коэффициент силуэта для EM-алгоритма (GaussianMixture)  0.49893287606943293\n",
      "Коэффициент силуэта для Агломеративной кластеризации  0.4811992210663849\n",
      "Коэффициент силуэта для DBSCAN  0.4454335539277996\n"
     ]
    }
   ],
   "source": [
    "print('Коэффициент силуэта для K-means ',\n",
    "      silhouette_score(X=X, labels=kmeans_pred_1, metric='euclidean'))\n",
    "print('Коэффициент силуэта для EM-алгоритма (GaussianMixture) ',\n",
    "      silhouette_score(X=X, labels=em_pred_1, metric='euclidean'))\n",
    "print('Коэффициент силуэта для Агломеративной кластеризации ',\n",
    "      silhouette_score(X=X, labels=ac_pred_1, metric='euclidean'))\n",
    "print('Коэффициент силуэта для DBSCAN ',\n",
    "      silhouette_score(X=X, labels=dbscan_pred_1, metric='euclidean'))"
   ]
  },
  {
   "cell_type": "markdown",
   "metadata": {},
   "source": [
    "### Задание\n",
    "Подберите оптимальное количество кластеров с помощью коэффициента силуэта. Для этого найдите такое число кластеров, при котором значение коэффициента будет максимальным.\n",
    "\n",
    "В трёх из рассмотренных нами алгоритмов необходимо задать число кластеров при инициализации: K-means, EM-алгоритм и агломеративная кластеризация.\n",
    "\n",
    "Найдите значение коэффициента силуэта для данных алгоритмов при числе кластеров от 2 до 10 включительно. Для K-means и EM-алгоритма установите значение random_state=42.\n",
    "\n",
    "В качестве ответа через пробел введите число кластеров, при котором значение коэффициента силуэта для результатов кластеризации было наибольшим для каждого из алгоритмов. Вводите в следующем порядке: K-means, EM-алгоритм, агломеративная кластеризация."
   ]
  },
  {
   "cell_type": "code",
   "execution_count": 20,
   "metadata": {},
   "outputs": [
    {
     "name": "stdout",
     "output_type": "stream",
     "text": [
      "K-means : 3, 0.5131209788437305\n",
      "EM-алгоритм : 4, 0.510682306926087\n",
      "Агломеративная кластеризация : 4, 0.48470679039805054\n"
     ]
    }
   ],
   "source": [
    "from collections import defaultdict\n",
    "\n",
    "silhouette_dict = defaultdict(list)\n",
    "\n",
    "# цикл по числу кластеров: от 2 до 10\n",
    "for n in range(2, 11):\n",
    "    # инициализируем алгоритмы:\n",
    "    KM = KMeans(n_clusters=n, random_state=42)\n",
    "    gm = GaussianMixture(n_components=n, random_state=42)\n",
    "    ac = AgglomerativeClustering(n_clusters=n)\n",
    "    \n",
    "    # создаем словарь, где ключи - названия алгоритмов, значения - сами алгоритмы:\n",
    "    alg_dict = {'K-means': KM, 'EM-алгоритм': gm, 'Агломеративная кластеризация': ac}\n",
    "    \n",
    "    #цикл по словарю:\n",
    "    for alg_name, algo in alg_dict.items():\n",
    "        labels = algo.fit_predict(X)\n",
    "        #получаем предсказание\n",
    "        sil_score = silhouette_score(X, labels) #считаем коэффициент силуэта\n",
    "\n",
    "        # добавляем в словарь в list, соответствующему рассматриваемому алгоритму,\n",
    "        # пару вида: (число кластеров, коэффициент силуэта)\n",
    "        silhouette_dict[alg_name].append((n, sil_score))\n",
    "\n",
    "# цикл по ключам словаря с коэффициентами силуэта для алгоритмов:\n",
    "for alg_name in silhouette_dict.keys():\n",
    "    # сохраняем число кластеров и коэф. силуэта для пары,\n",
    "    # в которой коэф. максимальный для данного алгоритма:\n",
    "    n_clusters, sil_score = max(silhouette_dict[alg_name], key=lambda x: x[1])\n",
    "    \n",
    "    # выводим название алгоритма и искомое число кластеров (и коэф. силуэта):\n",
    "    print(f\"{alg_name} : {n_clusters}, {sil_score}\")"
   ]
  }
 ],
 "metadata": {
  "kernelspec": {
   "display_name": "Python 3",
   "language": "python",
   "name": "python3"
  },
  "language_info": {
   "codemirror_mode": {
    "name": "ipython",
    "version": 3
   },
   "file_extension": ".py",
   "mimetype": "text/x-python",
   "name": "python",
   "nbconvert_exporter": "python",
   "pygments_lexer": "ipython3",
   "version": "3.7.6"
  }
 },
 "nbformat": 4,
 "nbformat_minor": 4
}
