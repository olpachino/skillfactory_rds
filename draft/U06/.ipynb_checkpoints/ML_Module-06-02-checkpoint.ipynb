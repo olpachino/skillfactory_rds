{
 "cells": [
  {
   "cell_type": "code",
   "execution_count": 1,
   "metadata": {},
   "outputs": [],
   "source": [
    "import pandas as pd\n",
    "import numpy as np\n",
    "\n",
    "from sklearn.ensemble import (AdaBoostClassifier, GradientBoostingClassifier,\n",
    "                              RandomForestClassifier, ExtraTreesClassifier)\n",
    "from sklearn.linear_model import LogisticRegression\n",
    "from sklearn.tree import DecisionTreeClassifier\n",
    "from sklearn.base import clone\n",
    "from sklearn.neighbors import KNeighborsClassifier\n",
    "\n",
    "from sklearn.model_selection import train_test_split, KFold, StratifiedKFold\n",
    "from sklearn.metrics import f1_score\n",
    "from sklearn.datasets import load_digits\n",
    "\n",
    "from tqdm import tqdm\n",
    "\n",
    "from sklearn.model_selection import RandomizedSearchCV\n",
    "from scipy.stats.distributions import randint"
   ]
  },
  {
   "cell_type": "code",
   "execution_count": 2,
   "metadata": {},
   "outputs": [],
   "source": [
    "dataset = load_digits()"
   ]
  },
  {
   "cell_type": "code",
   "execution_count": 3,
   "metadata": {},
   "outputs": [],
   "source": [
    "X, y = dataset['data'], dataset['target']\n",
    "\n",
    "X_train, X_test, y_train, y_test = train_test_split(X, y, random_state=42, test_size=0.2)"
   ]
  },
  {
   "cell_type": "markdown",
   "metadata": {},
   "source": [
    "### Задание\n",
    "В скринкасте мы разобрали схему генерации признаков в стекинге, когда для тестовой выборки алгоритм заново переобучался на всей тренировочной выборке. Реализуйте схему, когда вместо этого производится агрегация ответов всех обученных на фолдах классификаторов на тестовой выборке при помощи усреднения.\n",
    "\n",
    "Логика решения:\n",
    "1. Создадим X_meta_test, заполним его нулями (по аналогии с X_meta_train);\n",
    "2. Далее на каждом шаге, где мы обучаем folded_clf.fit (X_fold_train, y_fold_train) и его предсказания на X_fold_predict запихиваем в X_meta_train[predict_fold_index] добавим еще одну строку, где в X_meta_test будем добавлять предсказания вероятностей folded_clf на X_test. Их можно сразу складывать друг с другом или сохранить много массивов, тогда в конце их нужно будет все сложить, а потом делить на количество сплитов (количество массивов равно количеству сплитов в кросс - валидации);\n",
    "3. После цикла останется только усреднить все эти массивы, это и будет наш X_meta_test.\n",
    "\n",
    "За основу нужно взять следующий код:"
   ]
  },
  {
   "cell_type": "markdown",
   "metadata": {},
   "source": [
    "def compute_meta_feature(clf, X_train, X_test, y_train, cv):\n",
    "\n",
    "    \"\"\"    Эта функция подсчитывает признаки для мета-классификатора.\n",
    "    Они являются вероятностями классов при решении задачи многоклассовой классификации. \n",
    "    :arg clf: классификатор   \n",
    "    :args X_train, y_train: обучающая выборка \n",
    "    :arg X_test: признаки тестовой выборки  \n",
    "    :arg cv: класс, генерирующий фолды (KFold)\n",
    "    :returns X_meta_train, X_meta_test: новые признаки для обучающей и тестовой выборок    \"\"\"\n",
    "    \n",
    "    n_classes = len(np.unique(y_train))\n",
    "    X_meta_train = np.zeros((len(X_train), n_classes), dtype=np.float32)\n",
    "    for train_fold_index, predict_fold_index in cv.split(X_train):\n",
    "        X_fold_train, X_fold_predict = X_train[train_fold_index], X_train[predict_fold_index]\n",
    "        y_fold_train = y_train[train_fold_index]\n",
    "\n",
    "        folded_clf = clone(clf)\n",
    "        folded_clf.fit(X_fold_train, y_fold_train)\n",
    "\n",
    "        X_meta_train[predict_fold_index] = folded_clf.predict_proba(X_fold_predict)\n",
    "\n",
    "    meta_clf = clone(clf)\n",
    "    meta_clf.fit(X_train, y_train)\n",
    "\n",
    "    X_meta_test = meta_clf.predict_proba(X_test)\n",
    "\n",
    "    return X_meta_train, X_meta_test"
   ]
  },
  {
   "cell_type": "code",
   "execution_count": null,
   "metadata": {},
   "outputs": [],
   "source": [
    "def compute_meta_feature_mean(clf, X_train, X_test, y_train, cv):\n",
    "    \"\"\"\n",
    "    Эта функция подсчитывает признаки для мета-классификатора. \n",
    "    Они являются вероятностями классов при решении задачи многоклассовой классификации.\n",
    "\n",
    "    :arg clf: классификатор\n",
    "    :args X_train, y_train: обучающая выборка\n",
    "    :arg X_test: признаки тестовой выборки\n",
    "    :arg cv: класс, генерирующий фолды (KFold)\n",
    "\n",
    "    :returns X_meta_train, X_meta_test: новые признаки для обучающей и тестовой выборок\n",
    "    \"\"\"\n",
    "    \n",
    "    n_classes = len(np.unique(y_train))\n",
    "    X_meta_train = np.zeros((len(X_train), n_classes), dtype=np.float32)\n",
    "    X_meta_test = np.zeros((len(X_test), n_classes), dtype=np.float32)\n",
    "    \n",
    "    for train_fold_index, predict_fold_index in cv.split(X_train):\n",
    "        X_fold_train, X_fold_predict = X_train[train_fold_index], X_train[predict_fold_index]\n",
    "        y_fold_train = y_train[train_fold_index]\n",
    "\n",
    "        folded_clf = clone(clf)\n",
    "        folded_clf.fit(X_fold_train, y_fold_train)\n",
    "\n",
    "        X_meta_train[predict_fold_index] = folded_clf.predict_proba(X_fold_predict)\n",
    "        X_meta_test += folded_clf.predict_proba(X_test)\n",
    "    \n",
    "    X_meta_test = X_meta_test / cv.n_splits\n",
    "\n",
    "    return X_meta_train, X_meta_test"
   ]
  },
  {
   "cell_type": "markdown",
   "metadata": {},
   "source": [
    "## Задача"
   ]
  },
  {
   "cell_type": "code",
   "execution_count": 4,
   "metadata": {},
   "outputs": [],
   "source": [
    "def compute_meta_feature(clf, X_train, X_test, y_train, cv):\n",
    "    \n",
    "    n_classes = len(np.unique(y_train))\n",
    "    X_meta_train = np.zeros((len(y_train), n_classes), dtype=np.float32)\n",
    "\n",
    "    splits = cv.split(X_train)\n",
    "    for train_fold_index, predict_fold_index in splits:\n",
    "        X_fold_train, X_fold_predict = X_train[train_fold_index], X_train[predict_fold_index]\n",
    "        y_fold_train = y_train[train_fold_index]\n",
    "        \n",
    "        folded_clf = clone(clf)\n",
    "        folded_clf.fit(X_fold_train, y_fold_train)\n",
    "        \n",
    "        X_meta_train[predict_fold_index] = folded_clf.predict_proba(X_fold_predict)\n",
    "    \n",
    "    meta_clf = clone(clf)\n",
    "    meta_clf.fit(X_train, y_train)\n",
    "    \n",
    "    X_meta_test = meta_clf.predict_proba(X_test)\n",
    "    \n",
    "    return X_meta_train, X_meta_test"
   ]
  },
  {
   "cell_type": "code",
   "execution_count": 5,
   "metadata": {},
   "outputs": [],
   "source": [
    "def generate_meta_features(classifiers, X_train, X_test, y_train, cv):\n",
    "   \n",
    "    features = [\n",
    "        compute_meta_feature(clf, X_train, X_test, y_train, cv)\n",
    "        for clf in tqdm(classifiers)\n",
    "    ]\n",
    "    \n",
    "    stacked_features_train = np.hstack([\n",
    "        features_train for features_train, features_test in features\n",
    "    ])\n",
    "\n",
    "    stacked_features_test = np.hstack([\n",
    "        features_test for features_train, features_test in features\n",
    "    ])\n",
    "    \n",
    "    return stacked_features_train, stacked_features_test"
   ]
  },
  {
   "cell_type": "code",
   "execution_count": 7,
   "metadata": {},
   "outputs": [],
   "source": [
    "cv = KFold(n_splits=10, shuffle=True, random_state=42)\n",
    "\n",
    "def compute_metric(clf, X_train=X_train, y_train=y_train, X_test=X_test, y_test=y_test):\n",
    "    clf.fit(X_train, y_train)\n",
    "    y_test_pred = clf.predict(X_test)\n",
    "    return np.round(f1_score(y_test, y_test_pred, average='macro'), 6)"
   ]
  },
  {
   "cell_type": "markdown",
   "metadata": {},
   "source": [
    "ПОДСКАЗКА\n",
    "- Во всех случаях, когда модель принимает random_state — обязательно указывайте его равным 42\n",
    "- На разных версиях sklearn ответы могут отличаться\n",
    "- В задании может понадобиться, а может не понадобиться нормализация и это нужно проверить во время решения задания."
   ]
  },
  {
   "cell_type": "markdown",
   "metadata": {},
   "source": [
    "### Задание\n",
    "Используйте функцию generate_meta_features для стекинга следующих алгоритмов:\n",
    "- логистическая регрессия с L1-регуляризацией, C=0.001, солвер — 'saga', схема работы мультиклассовой классификации — one-vs-rest, максимальное допустимое количество итераций — 2000\n",
    "- логистическая регрессия с L2-регуляризацией, C=0.001, солвер — 'saga', схема работы мультиклассовой классификации — multinomial, максимальное допустимое количество итераций — 2000\n",
    "- случайный лес из 300 деревьев\n",
    "- градиентный бустинг из 200 деревьев\n",
    "\n",
    "Как мета-алгоритм используйте логистическую регрессию без регуляризации со схемой работы мультиклассовой классификации — auto и солвером 'lbfgs'.\n",
    "\n",
    "Посчитайте качество при помощи передачи новых признаков в функцию compute_metric."
   ]
  },
  {
   "cell_type": "code",
   "execution_count": 9,
   "metadata": {},
   "outputs": [
    {
     "name": "stderr",
     "output_type": "stream",
     "text": [
      "100%|██████████| 4/4 [01:58<00:00, 29.51s/it]\n"
     ]
    }
   ],
   "source": [
    "lg_L1 = LogisticRegression(penalty='l1', C=0.001, solver='saga',\n",
    "                          multi_class='ovr', max_iter=2000,\n",
    "                          n_jobs=-1, random_state=42)\n",
    "lg_L2 = LogisticRegression(penalty='l2', C=0.001, solver='saga',\n",
    "                          multi_class='multinomial', max_iter=2000,\n",
    "                          n_jobs=-1, random_state=42)\n",
    "rfc = RandomForestClassifier(n_estimators=300, n_jobs=-1,\n",
    "                           random_state=42)\n",
    "gbc = GradientBoostingClassifier(n_estimators=200, random_state=42)\n",
    "\n",
    "stacked_features_train, stacked_features_test = generate_meta_features([lg_L1, lg_L2, rfc, gbc],\n",
    "                                                                      X_train, X_test, y_train, cv)"
   ]
  },
  {
   "cell_type": "code",
   "execution_count": 10,
   "metadata": {},
   "outputs": [],
   "source": [
    "meta_clf = LogisticRegression(penalty='none', solver='lbfgs', multi_class='auto', random_state=42)"
   ]
  },
  {
   "cell_type": "code",
   "execution_count": 11,
   "metadata": {},
   "outputs": [
    {
     "data": {
      "text/plain": [
       "0.978096"
      ]
     },
     "execution_count": 11,
     "metadata": {},
     "output_type": "execute_result"
    }
   ],
   "source": [
    "compute_metric(meta_clf, X_train=stacked_features_train, y_train=y_train,\n",
    "               X_test=stacked_features_test, y_test=y_test)"
   ]
  },
  {
   "cell_type": "markdown",
   "metadata": {},
   "source": [
    "### Задание\n",
    "Используйте функцию generate_meta_features для стекинга следующих алгоритмов:\n",
    "- случайный лес из 300 деревьев\n",
    "- случайный лес из 200 экстремальных деревьев\n",
    "\n",
    "Как мета-алгоритм используйте логистическую регрессию без регуляризации со схемой работы мультиклассовой классификации — auto и солвером 'lbfgs'.\n",
    "\n",
    "Посчитайте качество при помощи передачи новых признаков в функцию compute_metric."
   ]
  },
  {
   "cell_type": "code",
   "execution_count": 12,
   "metadata": {},
   "outputs": [
    {
     "name": "stderr",
     "output_type": "stream",
     "text": [
      "100%|██████████| 2/2 [00:10<00:00,  5.09s/it]\n"
     ]
    }
   ],
   "source": [
    "sf_train_2, sf_test_2 = generate_meta_features([RandomForestClassifier(n_estimators=300, n_jobs=-1, random_state=42),\n",
    "                                             ExtraTreesClassifier(n_estimators=200, n_jobs=-1, random_state=42)],\n",
    "                                             X_train, X_test, y_train, cv)"
   ]
  },
  {
   "cell_type": "code",
   "execution_count": 13,
   "metadata": {},
   "outputs": [
    {
     "data": {
      "text/plain": [
       "0.982421"
      ]
     },
     "execution_count": 13,
     "metadata": {},
     "output_type": "execute_result"
    }
   ],
   "source": [
    "compute_metric(meta_clf, X_train=sf_train_2, y_train=y_train,\n",
    "               X_test=sf_test_2, y_test=y_test)"
   ]
  },
  {
   "cell_type": "markdown",
   "metadata": {},
   "source": [
    "### Задание\n",
    "Используйте функцию generate_meta_features для стекинга следующих алгоритмов:\n",
    "- метод ближайшего соседа (k-NN) со стандартными параметрами\n",
    "- случайный лес из 300 экстремальных деревьев\n",
    "\n",
    "Как мета-алгоритм используйте логистическую регрессию без регуляризации со схемой работы мультиклассовой классификации — auto и солвером 'lbfgs'.\n",
    "\n",
    "Посчитайте качество при помощи передачи новых признаков в функцию compute_metric."
   ]
  },
  {
   "cell_type": "code",
   "execution_count": 17,
   "metadata": {},
   "outputs": [
    {
     "name": "stderr",
     "output_type": "stream",
     "text": [
      "\n",
      "  0%|          | 0/2 [00:00<?, ?it/s]\u001b[A\n",
      " 50%|█████     | 1/2 [00:01<00:01,  1.42s/it]\u001b[A\n",
      "100%|██████████| 2/2 [00:06<00:00,  3.03s/it]\u001b[A\n"
     ]
    }
   ],
   "source": [
    "sf_train_3, sf_test_3 = generate_meta_features([KNeighborsClassifier(n_jobs = -1),\n",
    "                                             ExtraTreesClassifier(n_estimators=300, n_jobs=-1, random_state=42)],\n",
    "                                             X_train, X_test, y_train, cv)"
   ]
  },
  {
   "cell_type": "code",
   "execution_count": 18,
   "metadata": {},
   "outputs": [
    {
     "name": "stderr",
     "output_type": "stream",
     "text": [
      "C:\\Users\\obond\\anaconda3\\lib\\site-packages\\sklearn\\linear_model\\_logistic.py:764: ConvergenceWarning: lbfgs failed to converge (status=1):\n",
      "STOP: TOTAL NO. of ITERATIONS REACHED LIMIT.\n",
      "\n",
      "Increase the number of iterations (max_iter) or scale the data as shown in:\n",
      "    https://scikit-learn.org/stable/modules/preprocessing.html\n",
      "Please also refer to the documentation for alternative solver options:\n",
      "    https://scikit-learn.org/stable/modules/linear_model.html#logistic-regression\n",
      "  extra_warning_msg=_LOGISTIC_SOLVER_CONVERGENCE_MSG)\n"
     ]
    },
    {
     "data": {
      "text/plain": [
       "0.989904"
      ]
     },
     "execution_count": 18,
     "metadata": {},
     "output_type": "execute_result"
    }
   ],
   "source": [
    "compute_metric(meta_clf, X_train=sf_train_3, y_train=y_train,\n",
    "               X_test=sf_test_3, y_test=y_test)"
   ]
  },
  {
   "cell_type": "markdown",
   "metadata": {},
   "source": [
    "### Задание\n",
    "Используйте функцию generate_meta_features для стекинга следующих алгоритмов:\n",
    "- логистическая регрессия с L1-регуляризацией, C=0.001, солвер — 'saga', схема работы мультиклассовой классификации — one-vs-rest, максимальное допустимоей количество итераций — 2000\n",
    "- метод ближайшего соседа со стандартными параметрами\n",
    "- случайный лес из 300 экстремальных деревьев\n",
    "- AdaBoost со стандартными параметрами\n",
    "\n",
    "Как мета-алгоритм используйте логистическую регрессию без регуляризации со схемой работы мультиклассовой классификации — auto и солвером 'lbfgs'.\n",
    "\n",
    "Посчитайте качество при помощи передачи новых признаков в функцию compute_metric."
   ]
  },
  {
   "cell_type": "code",
   "execution_count": 19,
   "metadata": {},
   "outputs": [
    {
     "name": "stderr",
     "output_type": "stream",
     "text": [
      "\n",
      "  0%|          | 0/4 [00:00<?, ?it/s]\u001b[A\n",
      " 25%|██▌       | 1/4 [00:11<00:35, 11.74s/it]\u001b[A\n",
      " 50%|█████     | 2/4 [00:13<00:17,  8.64s/it]\u001b[A\n",
      " 75%|███████▌  | 3/4 [00:17<00:07,  7.47s/it]\u001b[A\n",
      "100%|██████████| 4/4 [00:19<00:00,  4.86s/it]\u001b[A\n"
     ]
    }
   ],
   "source": [
    "sf_train_4, sf_test_4 = generate_meta_features([LogisticRegression(penalty='l1', C=0.001, solver='saga',\n",
    "                                                                   multi_class='ovr', max_iter=2000,\n",
    "                                                                   n_jobs=-1, random_state=42),\n",
    "                                                KNeighborsClassifier(n_jobs = -1),\n",
    "                                                ExtraTreesClassifier(n_estimators=300, n_jobs=-1, random_state=42),\n",
    "                                                AdaBoostClassifier(random_state=42)], \n",
    "                                               X_train, X_test, y_train, cv)"
   ]
  },
  {
   "cell_type": "code",
   "execution_count": 20,
   "metadata": {},
   "outputs": [
    {
     "data": {
      "text/plain": [
       "0.987404"
      ]
     },
     "execution_count": 20,
     "metadata": {},
     "output_type": "execute_result"
    }
   ],
   "source": [
    "compute_metric(meta_clf, X_train=sf_train_4, y_train=y_train,\n",
    "               X_test=sf_test_4, y_test=y_test)"
   ]
  },
  {
   "cell_type": "markdown",
   "metadata": {},
   "source": [
    "### Задание\n",
    "Используйте функцию generate_meta_features для стекинга следующих алгоритмов:\n",
    "- случайный лес из 300 деревьев\n",
    "- случайный лес из 300 экстремальных деревьев\n",
    "\n",
    "Для генерации фолдов используйте класс StratifiedKFold, который позволяет делать так называемые стратифицированные разбиения (в каждом фолде будет одинаковое соотношение классов).\n",
    "\n",
    "Для корректной работы необходимо подправить код в функции compute_meta_feature. Как мета-алгоритм используйте логистическую регрессию без регуляризации со схемой работы мультиклассовой классификации — auto и солвером 'lbfgs'.\n",
    "\n",
    "Посчитайте качество при помощи передачи новых признаков в функцию compute_metric. Количество фолдов = 10"
   ]
  },
  {
   "cell_type": "code",
   "execution_count": 29,
   "metadata": {},
   "outputs": [],
   "source": [
    "cv_new = StratifiedKFold(n_splits=10, shuffle=True, random_state=42)"
   ]
  },
  {
   "cell_type": "code",
   "execution_count": 23,
   "metadata": {},
   "outputs": [],
   "source": [
    "def compute_meta_feature(clf, X_train, X_test, y_train, cv):\n",
    "    \n",
    "    n_classes = len(np.unique(y_train))\n",
    "    X_meta_train = np.zeros((len(y_train), n_classes), dtype=np.float32)\n",
    "\n",
    "    splits = cv.split(X_train, y_train) # все изменения свелись к добавлению аргумента: y_train\n",
    "    for train_fold_index, predict_fold_index in splits:\n",
    "        X_fold_train, X_fold_predict = X_train[train_fold_index], X_train[predict_fold_index]\n",
    "        y_fold_train = y_train[train_fold_index]\n",
    "        \n",
    "        folded_clf = clone(clf)\n",
    "        folded_clf.fit(X_fold_train, y_fold_train)\n",
    "        \n",
    "        X_meta_train[predict_fold_index] = folded_clf.predict_proba(X_fold_predict)\n",
    "    \n",
    "    meta_clf = clone(clf)\n",
    "    meta_clf.fit(X_train, y_train)\n",
    "    \n",
    "    X_meta_test = meta_clf.predict_proba(X_test)\n",
    "    \n",
    "    return X_meta_train, X_meta_test"
   ]
  },
  {
   "cell_type": "code",
   "execution_count": 30,
   "metadata": {},
   "outputs": [
    {
     "name": "stderr",
     "output_type": "stream",
     "text": [
      "\n",
      "  0%|          | 0/2 [00:00<?, ?it/s]\u001b[A\n",
      " 50%|█████     | 1/2 [00:03<00:03,  3.23s/it]\u001b[A\n",
      "100%|██████████| 2/2 [00:05<00:00,  2.88s/it]\u001b[A\n"
     ]
    }
   ],
   "source": [
    "sf_train_5, sf_test_5 = generate_meta_features([RandomForestClassifier(n_estimators=300, n_jobs=-1, random_state=42),\n",
    "                                             ExtraTreesClassifier(n_estimators=300, n_jobs=-1, random_state=42)],\n",
    "                                             X_train, X_test, y_train, cv_new)"
   ]
  },
  {
   "cell_type": "code",
   "execution_count": 28,
   "metadata": {},
   "outputs": [
    {
     "data": {
      "text/plain": [
       "0.984228"
      ]
     },
     "execution_count": 28,
     "metadata": {},
     "output_type": "execute_result"
    }
   ],
   "source": [
    "compute_metric(meta_clf, X_train=sf_train_5, y_train=y_train,\n",
    "               X_test=sf_test_5, y_test=y_test)"
   ]
  },
  {
   "cell_type": "code",
   "execution_count": 35,
   "metadata": {},
   "outputs": [],
   "source": [
    "meta_clf_new = GradientBoostingClassifier(random_state=42)"
   ]
  },
  {
   "cell_type": "code",
   "execution_count": 36,
   "metadata": {},
   "outputs": [
    {
     "data": {
      "text/plain": [
       "0.984925"
      ]
     },
     "execution_count": 36,
     "metadata": {},
     "output_type": "execute_result"
    }
   ],
   "source": [
    "compute_metric(meta_clf_new, X_train=sf_train_5, y_train=y_train,\n",
    "               X_test=sf_test_5, y_test=y_test)"
   ]
  },
  {
   "cell_type": "markdown",
   "metadata": {},
   "source": [
    "### Задание\n",
    "Используйте функцию generate_meta_features для стекинга следующих алгоритмов:\n",
    "- случайный лес из 300 деревьев, критерий Джини, максимальная глубина — 24\n",
    "- случайный лес из 300 экстремальных деревьев\n",
    "\n",
    "Для генерации фолдов используйте класс StratifiedKFold, который позволяет делать так называемые стратифицированные разбиения (в каждом фолде будет одинаковое соотношение классов).\n",
    "\n",
    "Для генерации фолдов используйте класс StratifiedKFold и поправленный Вами ранее код в функции compute_meta_feature.\n",
    "Выполните разбиение на 3 фолда.\n",
    "\n",
    "Как мета-алгортм используйте случайный лес из 100 экстремальных деревьев. Посчитайте качество при помощи передачи новых признаков в функцию compute_metric."
   ]
  },
  {
   "cell_type": "code",
   "execution_count": 37,
   "metadata": {},
   "outputs": [],
   "source": [
    "cv_new_2 = StratifiedKFold(n_splits=3, shuffle=True, random_state=42)"
   ]
  },
  {
   "cell_type": "code",
   "execution_count": 38,
   "metadata": {},
   "outputs": [
    {
     "name": "stderr",
     "output_type": "stream",
     "text": [
      "\n",
      "  0%|          | 0/2 [00:00<?, ?it/s]\u001b[A\n",
      " 50%|█████     | 1/2 [00:02<00:02,  2.14s/it]\u001b[A\n",
      "100%|██████████| 2/2 [00:03<00:00,  1.97s/it]\u001b[A\n"
     ]
    }
   ],
   "source": [
    "sf_train_6, sf_test_6 = generate_meta_features([RandomForestClassifier(n_estimators=300, n_jobs=-1,\n",
    "                                                                       criterion = 'gini', max_depth = 24,\n",
    "                                                                       random_state=42),\n",
    "                                             ExtraTreesClassifier(n_estimators=300, n_jobs=-1, random_state=42)],\n",
    "                                             X_train, X_test, y_train, cv_new_2)"
   ]
  },
  {
   "cell_type": "code",
   "execution_count": 39,
   "metadata": {},
   "outputs": [],
   "source": [
    "meta_clf_new_2 = ExtraTreesClassifier(n_estimators=100, n_jobs=-1, random_state=42)"
   ]
  },
  {
   "cell_type": "code",
   "execution_count": 40,
   "metadata": {},
   "outputs": [
    {
     "data": {
      "text/plain": [
       "0.986498"
      ]
     },
     "execution_count": 40,
     "metadata": {},
     "output_type": "execute_result"
    }
   ],
   "source": [
    "compute_metric(meta_clf_new_2, X_train=sf_train_6, y_train=y_train,\n",
    "               X_test=sf_test_6, y_test=y_test)"
   ]
  },
  {
   "cell_type": "markdown",
   "metadata": {},
   "source": [
    "### Задание\n",
    "Обучите на тренировочной выборке следующие алгоритмы:\n",
    "- случайный лес из 300 деревьев, критерий Джини, максимальная глубина — 24\n",
    "- случайный лес из 300 экстремальных деревьев\n",
    "- логистическую регрессию со стандартными параметрами\n",
    "\n",
    "Усредните их ответы на тестовой выборке методом сложения предсказаний и затем взятия функции argmax: answer = (prediction1 + prediction2 + prediction3).argmax(axis = 1).\n",
    "\n",
    "Посчитайте качество, аналогично функции compute_metric (F1-score с макро-усреднением, округленный до 6 знака)."
   ]
  },
  {
   "cell_type": "code",
   "execution_count": 47,
   "metadata": {},
   "outputs": [
    {
     "name": "stderr",
     "output_type": "stream",
     "text": [
      "\n",
      "  0%|          | 0/3 [00:00<?, ?it/s]\u001b[A\n",
      " 33%|███▎      | 1/3 [00:00<00:01,  1.86it/s]\u001b[A\n",
      " 67%|██████▋   | 2/3 [00:01<00:00,  1.87it/s]\u001b[AC:\\Users\\obond\\anaconda3\\lib\\site-packages\\sklearn\\linear_model\\_logistic.py:764: ConvergenceWarning: lbfgs failed to converge (status=1):\n",
      "STOP: TOTAL NO. of ITERATIONS REACHED LIMIT.\n",
      "\n",
      "Increase the number of iterations (max_iter) or scale the data as shown in:\n",
      "    https://scikit-learn.org/stable/modules/preprocessing.html\n",
      "Please also refer to the documentation for alternative solver options:\n",
      "    https://scikit-learn.org/stable/modules/linear_model.html#logistic-regression\n",
      "  extra_warning_msg=_LOGISTIC_SOLVER_CONVERGENCE_MSG)\n",
      "\n",
      "100%|██████████| 3/3 [00:01<00:00,  2.58it/s]\u001b[A"
     ]
    },
    {
     "name": "stdout",
     "output_type": "stream",
     "text": [
      "0.976259\n"
     ]
    },
    {
     "name": "stderr",
     "output_type": "stream",
     "text": [
      "\n"
     ]
    }
   ],
   "source": [
    "def compute_predicts(classifiers, X_train, y_train, X_test):\n",
    "    predicts = []\n",
    "    for clf in tqdm(classifiers):\n",
    "        clf.fit(X_train, y_train)\n",
    "        predicts.append(clf.predict_proba(X_test))\n",
    "    return predicts\n",
    "\n",
    "predicts = compute_predicts([RandomForestClassifier(n_estimators=300, criterion='gini',\n",
    "                                                    max_depth=24, n_jobs=-1, random_state=42),\n",
    "                             ExtraTreesClassifier(n_estimators=300, n_jobs=-1, random_state=42), \n",
    "                             LogisticRegression()], X_train, y_train, X_test)\n",
    "\n",
    "y_test_pred = np.sum(predicts, axis=0).argmax(axis=1)\n",
    "\n",
    "print(np.round(f1_score(y_test, y_test_pred, average='macro'), 6))"
   ]
  },
  {
   "cell_type": "code",
   "execution_count": null,
   "metadata": {},
   "outputs": [],
   "source": []
  }
 ],
 "metadata": {
  "kernelspec": {
   "display_name": "Python 3",
   "language": "python",
   "name": "python3"
  },
  "language_info": {
   "codemirror_mode": {
    "name": "ipython",
    "version": 3
   },
   "file_extension": ".py",
   "mimetype": "text/x-python",
   "name": "python",
   "nbconvert_exporter": "python",
   "pygments_lexer": "ipython3",
   "version": "3.7.6"
  }
 },
 "nbformat": 4,
 "nbformat_minor": 4
}
