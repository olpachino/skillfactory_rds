{
 "cells": [
  {
   "cell_type": "markdown",
   "id": "editorial-beatles",
   "metadata": {},
   "source": [
    "### Задача\n",
    "Составьте оптимальный план перевозок, со Склада № 1 и Склада № 2, в три торговых центра, с учётом тарифов, запасов и потребностей, которые указаны в таблице: ТЦ1, ТЦ2, ТЦ3 = 110шт, 150шт, 140шт соответственно; Склад№1, Склад№2 = 180шт, 220шт соответственно; транспортные затраты с11, с12, с13, с21, с22, с23 = 2у.е., 5у.е., 3у.е., 7у.е., 7у.е., 6у.е. соответственно.\n",
    "\n",
    "Сформулируйте задачу, как задачу линейного программирования, и решите её любым способом (желательно программным).\n",
    "\n",
    "В ответ запишите минимальную суммарную стоимость поставки (с точностью до целых):"
   ]
  },
  {
   "cell_type": "code",
   "execution_count": 1,
   "id": "neutral-anderson",
   "metadata": {},
   "outputs": [],
   "source": [
    "import numpy as np\n",
    "import cvxpy"
   ]
  },
  {
   "cell_type": "code",
   "execution_count": 2,
   "id": "cathedral-detail",
   "metadata": {},
   "outputs": [],
   "source": [
    "n = 6\n",
    "stores = [180, 220]\n",
    "malls = [110, 150, 140]\n",
    "cost = [2, 5, 3, 7, 7, 6]"
   ]
  },
  {
   "cell_type": "code",
   "execution_count": 3,
   "id": "rental-stadium",
   "metadata": {},
   "outputs": [],
   "source": [
    "c = np.array(cost)"
   ]
  },
  {
   "cell_type": "code",
   "execution_count": 4,
   "id": "exotic-serbia",
   "metadata": {},
   "outputs": [],
   "source": [
    "x = cvxpy.Variable(shape=n, integer = True)"
   ]
  },
  {
   "cell_type": "code",
   "execution_count": 5,
   "id": "classical-energy",
   "metadata": {},
   "outputs": [
    {
     "name": "stderr",
     "output_type": "stream",
     "text": [
      "C:\\Users\\obond\\anaconda3\\lib\\site-packages\\cvxpy\\expressions\\expression.py:550: UserWarning: \n",
      "This use of ``*`` has resulted in matrix multiplication.\n",
      "Using ``*`` for matrix multiplication has been deprecated since CVXPY 1.1.\n",
      "    Use ``*`` for matrix-scalar and vector-scalar multiplication.\n",
      "    Use ``@`` for matrix-matrix and matrix-vector multiplication.\n",
      "    Use ``multiply`` for elementwise multiplication.\n",
      "\n",
      "  warnings.warn(__STAR_MATMUL_WARNING__, UserWarning)\n"
     ]
    }
   ],
   "source": [
    "total_value = c * x\n",
    "\n",
    "mass1 = (x[0] + x[1] + x[2] <= stores[0])\n",
    "mass2 = (x[3] + x[4] + x[5] <= stores[1])\n",
    "\n",
    "mass3 = (x[0] + x[3] == malls[0])\n",
    "mass4 = (x[1] + x[4] == malls[1])\n",
    "mass5 = (x[2] + x[5] == malls[2])\n",
    "\n",
    "x_positive = (x >= 0)"
   ]
  },
  {
   "cell_type": "code",
   "execution_count": 14,
   "id": "reduced-integral",
   "metadata": {},
   "outputs": [
    {
     "data": {
      "text/plain": [
       "1900.0000000102355"
      ]
     },
     "execution_count": 14,
     "metadata": {},
     "output_type": "execute_result"
    }
   ],
   "source": [
    "problem = cvxpy.Problem(cvxpy.Minimize(total_value), constraints=[mass1, mass2, mass3, mass4, mass5, x_positive])\n",
    "problem.solve(solver='ECOS_BB')  "
   ]
  },
  {
   "cell_type": "code",
   "execution_count": 15,
   "id": "billion-acoustic",
   "metadata": {},
   "outputs": [
    {
     "name": "stdout",
     "output_type": "stream",
     "text": [
      "Результат:\n",
      "[1.10000000e+02 3.50528622e-09 7.00000000e+01 3.36650310e-09\n",
      " 1.50000000e+02 7.00000000e+01]\n"
     ]
    }
   ],
   "source": [
    "problem.status\n",
    "print(\"Результат:\")\n",
    "print(x.value)"
   ]
  },
  {
   "cell_type": "markdown",
   "id": "lyric-kazakhstan",
   "metadata": {},
   "source": [
    "### Задание\n",
    "Решите задачу о назначениях\n",
    "\n",
    "Каждый исполнитель должен выполнить одну задачу, и каждая задача должна быть выполнена одним исполнителем.\n",
    "В ответ запишите минимальную стоимость:"
   ]
  },
  {
   "cell_type": "code",
   "execution_count": 41,
   "id": "ancient-county",
   "metadata": {},
   "outputs": [],
   "source": [
    "n_2 = 25\n",
    "cost_2 = [1000, 12, 10, 19, 8, 12, 1000, 3, 7, 2, 10, 3, 1000, 6, 20, 19, 7, 6, 1000, 4, 8, 2, 20, 4, 1000]"
   ]
  },
  {
   "cell_type": "code",
   "execution_count": 42,
   "id": "reliable-profit",
   "metadata": {},
   "outputs": [],
   "source": [
    "c_2 = np.array(cost_2)"
   ]
  },
  {
   "cell_type": "code",
   "execution_count": 43,
   "id": "coordinate-basics",
   "metadata": {},
   "outputs": [],
   "source": [
    "x_2 = cvxpy.Variable(shape=n_2, boolean = True)"
   ]
  },
  {
   "cell_type": "code",
   "execution_count": 47,
   "id": "fitted-mountain",
   "metadata": {},
   "outputs": [
    {
     "name": "stderr",
     "output_type": "stream",
     "text": [
      "C:\\Users\\obond\\anaconda3\\lib\\site-packages\\cvxpy\\expressions\\expression.py:550: UserWarning: \n",
      "This use of ``*`` has resulted in matrix multiplication.\n",
      "Using ``*`` for matrix multiplication has been deprecated since CVXPY 1.1.\n",
      "    Use ``*`` for matrix-scalar and vector-scalar multiplication.\n",
      "    Use ``@`` for matrix-matrix and matrix-vector multiplication.\n",
      "    Use ``multiply`` for elementwise multiplication.\n",
      "\n",
      "  warnings.warn(__STAR_MATMUL_WARNING__, UserWarning)\n"
     ]
    }
   ],
   "source": [
    "total_value_2 = c_2 * x_2\n",
    "\n",
    "mass_1 = (x_2[0] + x_2[1] + x_2[2] + x_2[3] + x_2[4] == 1)\n",
    "mass_2 = (x_2[5] + x_2[6] + x_2[7] + x_2[8] + x_2[9] == 1)\n",
    "mass_3 = (x_2[10] + x_2[11] + x_2[12] + x_2[13] + x_2[14] == 1)\n",
    "mass_4 = (x_2[15] + x_2[16] + x_2[17] + x_2[18] + x_2[19] == 1)\n",
    "mass_5 = (x_2[20] + x_2[21] + x_2[22] + x_2[23] + x_2[24] == 1)\n",
    "\n",
    "mass_6 = (x_2[0] + x_2[5] + x_2[10] + x_2[15] + x_2[20] == 1)\n",
    "mass_7 = (x_2[1] + x_2[6] + x_2[11] + x_2[16] + x_2[21] == 1)\n",
    "mass_8 = (x_2[2] + x_2[7] + x_2[12] + x_2[17] + x_2[22] == 1)\n",
    "mass_9 = (x_2[3] + x_2[8] + x_2[13] + x_2[18] + x_2[23] == 1)\n",
    "mass_10 = (x_2[4] + x_2[9] + x_2[14] + x_2[19] + x_2[24] == 1)\n",
    "\n",
    "x_positive_2 = (x_2 >= 0)"
   ]
  },
  {
   "cell_type": "code",
   "execution_count": 48,
   "id": "potential-limitation",
   "metadata": {},
   "outputs": [
    {
     "name": "stderr",
     "output_type": "stream",
     "text": [
      "C:\\Users\\obond\\anaconda3\\lib\\site-packages\\ipykernel\\ipkernel.py:287: DeprecationWarning: `should_run_async` will not call `transform_cell` automatically in the future. Please pass the result to `transformed_cell` argument and any exception that happen during thetransform in `preprocessing_exc_tuple` in IPython 7.17 and above.\n",
      "  and should_run_async(code)\n"
     ]
    },
    {
     "data": {
      "text/plain": [
       "32.0"
      ]
     },
     "execution_count": 48,
     "metadata": {},
     "output_type": "execute_result"
    }
   ],
   "source": [
    "problem_2 = cvxpy.Problem(cvxpy.Minimize(total_value_2),\n",
    "                          constraints=[mass_1, mass_2, mass_3, mass_4, mass_5,\n",
    "                                       mass_6, mass_7, mass_8, mass_9, mass_10, x_positive_2])\n",
    "round(problem_2.solve(solver='ECOS_BB'), 0)  "
   ]
  },
  {
   "cell_type": "code",
   "execution_count": 49,
   "id": "cognitive-combine",
   "metadata": {},
   "outputs": [
    {
     "name": "stdout",
     "output_type": "stream",
     "text": [
      "Результат:\n",
      "[-2.87155546e-14  6.11945559e-14  1.00000000e+00  5.23124857e-14\n",
      "  5.37790286e-14  6.14739429e-14 -1.13543857e-13  6.51395084e-14\n",
      "  1.00000000e+00  6.67538629e-14  5.09570754e-14  1.00000000e+00\n",
      " -4.87444331e-14  5.51020816e-14  5.49140423e-14  5.19621315e-14\n",
      "  6.50477153e-14  5.58863819e-14 -5.71110865e-14  1.00000000e+00\n",
      "  1.00000000e+00  6.66780798e-14  5.62604097e-14  5.81312868e-14\n",
      " -6.29781673e-14]\n"
     ]
    }
   ],
   "source": [
    "print(\"Результат:\")\n",
    "print(x_2.value)"
   ]
  },
  {
   "cell_type": "code",
   "execution_count": null,
   "id": "alternative-worker",
   "metadata": {},
   "outputs": [],
   "source": []
  }
 ],
 "metadata": {
  "kernelspec": {
   "display_name": "Python 3",
   "language": "python",
   "name": "python3"
  },
  "language_info": {
   "codemirror_mode": {
    "name": "ipython",
    "version": 3
   },
   "file_extension": ".py",
   "mimetype": "text/x-python",
   "name": "python",
   "nbconvert_exporter": "python",
   "pygments_lexer": "ipython3",
   "version": "3.7.9"
  }
 },
 "nbformat": 4,
 "nbformat_minor": 5
}
