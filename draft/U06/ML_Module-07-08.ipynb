{
 "cells": [
  {
   "cell_type": "code",
   "execution_count": 1,
   "metadata": {},
   "outputs": [],
   "source": [
    "import numpy as np\n",
    "import pandas as pd\n",
    "import matplotlib.pyplot as plt\n",
    "\n",
    "from sklearn.datasets import make_blobs\n",
    "from sklearn.cluster import KMeans, AgglomerativeClustering, DBSCAN, MiniBatchKMeans\n",
    "from sklearn.metrics.cluster import v_measure_score\n",
    "from sklearn.mixture import GaussianMixture\n",
    "from sklearn.neighbors import kneighbors_graph\n",
    "from sklearn.preprocessing import StandardScaler, MinMaxScaler"
   ]
  },
  {
   "cell_type": "code",
   "execution_count": 2,
   "metadata": {},
   "outputs": [],
   "source": [
    "n_samples = 1500\n",
    "dataset = make_blobs(n_samples=n_samples, centers=2, center_box=(-7.0, 7.5),\n",
    "                     cluster_std=[1.4, 1.7], random_state=42)"
   ]
  },
  {
   "cell_type": "code",
   "execution_count": 3,
   "metadata": {},
   "outputs": [],
   "source": [
    "X_2, _ = make_blobs(n_samples=n_samples, random_state=170, centers=[[-4, -3]], cluster_std=[1.9])\n",
    "transformation = [[1.2, -0.8], [-0.4, 1.7]]\n",
    "X_2 = np.dot(X_2, transformation)\n",
    "X, y = np.concatenate((dataset[0], X_2)), np.concatenate((dataset[1], np.array([2] * len(X_2))))"
   ]
  },
  {
   "cell_type": "code",
   "execution_count": 4,
   "metadata": {},
   "outputs": [],
   "source": [
    "X_std = StandardScaler().fit_transform(X)"
   ]
  },
  {
   "cell_type": "markdown",
   "metadata": {},
   "source": [
    "V-меру можно посчитать при помощи реализации из библиотеки sklearn:"
   ]
  },
  {
   "cell_type": "code",
   "execution_count": null,
   "metadata": {},
   "outputs": [],
   "source": [
    "# сначала получим предсказанные кластеры при помощи метода кластеризации\n",
    "kmeans = KMeans(n_clusters=3, random_state=42)\n",
    "kmeans.fit(X)\n",
    "kmeans_pred = kmeans.labels_"
   ]
  },
  {
   "cell_type": "code",
   "execution_count": null,
   "metadata": {},
   "outputs": [],
   "source": [
    "# теперь посчитаем однородность\n",
    "v_measure_score(labels_true=y, labels_pred=kmeans_pred)"
   ]
  },
  {
   "cell_type": "markdown",
   "metadata": {},
   "source": [
    "### Задание\n",
    "Обучите модель GaussianMixture с параметрами n_components=3 и random_state=42 на признаках исходного датасета. Посчитайте v-меру для получившейся кластеризации.\n",
    "\n",
    "Подсказка: При решении задания модуля стандартизация должна быть включена. Ответ округлите до сотых и запишите с точкой."
   ]
  },
  {
   "cell_type": "code",
   "execution_count": 5,
   "metadata": {},
   "outputs": [],
   "source": [
    "em_gm = GaussianMixture(n_components=3, random_state=42)\n",
    "em_pred = em_gm.fit_predict(X_std)"
   ]
  },
  {
   "cell_type": "code",
   "execution_count": 6,
   "metadata": {},
   "outputs": [
    {
     "data": {
      "text/plain": [
       "0.9332760595996924"
      ]
     },
     "execution_count": 6,
     "metadata": {},
     "output_type": "execute_result"
    }
   ],
   "source": [
    "v_measure_score(labels_true=y, labels_pred=em_pred)"
   ]
  },
  {
   "cell_type": "markdown",
   "metadata": {},
   "source": [
    "### Задание\n",
    "Сравните результаты кластеризации алгоритмов k-means, GaussianMixture, AgglomerativeClustering и DBSCAN на исходном датасете при помощи v-меры, инициализируйте алгоритмы со следующими параметрами:\n",
    "\n",
    "- k-means — n_clusters=3, random_state=42\n",
    "- GaussianMixture — n_components=3, random_state=42\n",
    "- AgglomerativeClustering — n_clusters=3\n",
    "- DBSCAN — eps=0.9, min_samples=35\n",
    "\n",
    "В качестве ответа укажите максимальное значение v-меры, полученное при помощи данных моделей. Ответ округлите до сотых и запишите с точкой."
   ]
  },
  {
   "cell_type": "code",
   "execution_count": 7,
   "metadata": {},
   "outputs": [],
   "source": [
    "kmeans = KMeans(n_clusters=3, random_state=42)\n",
    "kmeans.fit(X_std)\n",
    "kmeans_pred = kmeans.labels_"
   ]
  },
  {
   "cell_type": "code",
   "execution_count": 8,
   "metadata": {},
   "outputs": [],
   "source": [
    "gm = GaussianMixture(n_components=3, random_state=42)\n",
    "gm_pred = gm.fit_predict(X_std)"
   ]
  },
  {
   "cell_type": "code",
   "execution_count": 9,
   "metadata": {},
   "outputs": [],
   "source": [
    "ac = AgglomerativeClustering(n_clusters=3)\n",
    "ac.fit(X_std)\n",
    "ac_pred = ac.labels_"
   ]
  },
  {
   "cell_type": "code",
   "execution_count": 10,
   "metadata": {},
   "outputs": [],
   "source": [
    "dbscan = DBSCAN(eps=0.9, min_samples=35)\n",
    "dbscan.fit(X_std)\n",
    "dbscan_pred = dbscan.labels_"
   ]
  },
  {
   "cell_type": "code",
   "execution_count": 11,
   "metadata": {},
   "outputs": [
    {
     "name": "stdout",
     "output_type": "stream",
     "text": [
      "V-мера для K-means  0.791546668267586\n",
      "V-мера для EM-алгоритма (GaussianMixture)  0.9332760595996924\n",
      "V-мера для Агломеративной кластеризации  0.9079037199053294\n",
      "V-мера для DBSCAN  0.000884601531943088\n"
     ]
    }
   ],
   "source": [
    "print('V-мера для K-means ',\n",
    "      v_measure_score(labels_true=y, labels_pred=kmeans_pred))\n",
    "print('V-мера для EM-алгоритма (GaussianMixture) ',\n",
    "      v_measure_score(labels_true=y, labels_pred=gm_pred))\n",
    "print('V-мера для Агломеративной кластеризации ',\n",
    "      v_measure_score(labels_true=y, labels_pred=ac_pred))\n",
    "print('V-мера для DBSCAN ',\n",
    "      v_measure_score(labels_true=y, labels_pred=dbscan_pred))"
   ]
  },
  {
   "cell_type": "markdown",
   "metadata": {},
   "source": [
    "### Задание\n",
    "Сравним модификации K-means с использованием случайной инициализации центроид и с использованием алгоритма K-means++ для инициализации центроид.\n",
    "\n",
    "Для этого обучим на исходном датасете 2 модели k-means со следующими параметрами:\n",
    "\n",
    "- n_clusters=3, init='k-means++', n_init=1, random_state=42\n",
    "- n_clusters=3, init='random', n_init=1, random_state=42\n",
    "\n",
    "В качестве ответа укажите максимальное значение v-меры, полученное при помощи данных моделей.\n",
    "\n",
    "Подсказка: При решении задания модуля стандартизация должна быть включена. Ответ округлите до сотых и запишите с точкой."
   ]
  },
  {
   "cell_type": "code",
   "execution_count": 12,
   "metadata": {},
   "outputs": [],
   "source": [
    "kmeans_1 = KMeans(n_clusters=3, init='k-means++', n_init=1, random_state=42)\n",
    "kmeans_1.fit(X_std)\n",
    "kmeans_pred_1 = kmeans_1.labels_"
   ]
  },
  {
   "cell_type": "code",
   "execution_count": 13,
   "metadata": {},
   "outputs": [],
   "source": [
    "kmeans_random = KMeans(n_clusters=3, init='random', n_init=1, random_state=42)\n",
    "kmeans_random.fit(X_std)\n",
    "kmeans_pred_random = kmeans_random.labels_"
   ]
  },
  {
   "cell_type": "code",
   "execution_count": 14,
   "metadata": {},
   "outputs": [
    {
     "name": "stdout",
     "output_type": "stream",
     "text": [
      "V-мера для K-means++  0.7892280957870129\n",
      "V-мера для K-means random  0.7903450330611903\n"
     ]
    }
   ],
   "source": [
    "print('V-мера для K-means++ ',\n",
    "      v_measure_score(labels_true=y, labels_pred=kmeans_pred_1))\n",
    "print('V-мера для K-means random ',\n",
    "      v_measure_score(labels_true=y, labels_pred=kmeans_pred_random))"
   ]
  },
  {
   "cell_type": "markdown",
   "metadata": {},
   "source": [
    "### Задание\n",
    "Теперь сравним k-means с ещё одной модификацией — K-means mini batch.\n",
    "\n",
    "Механизм кластеризации версии K-means mini batch схож с оригинальной версией алгоритма. Обучите на исходном датасете две модели:\n",
    "\n",
    "- k-means с параметрами n_clusters=3, n_init=1, random_state=42\n",
    "- MiniBatchKMeans с параметрами n_clusters=3, n_init=1, random_state=42\n",
    "\n",
    "В качестве ответа введите максимальное значение v-меры, полученное при помощи данных моделей. В задании может понадобиться, а может не понадобиться нормализация и это нужно проверить во время решения задания. Ответ округлите до десятых и запишите с точкой."
   ]
  },
  {
   "cell_type": "code",
   "execution_count": 15,
   "metadata": {},
   "outputs": [],
   "source": [
    "kmeans_2 = KMeans(n_clusters=3, n_init=1, random_state=42)\n",
    "kmeans_2.fit(X_std)\n",
    "kmeans_pred_2 = kmeans_2.labels_"
   ]
  },
  {
   "cell_type": "code",
   "execution_count": 16,
   "metadata": {},
   "outputs": [
    {
     "name": "stderr",
     "output_type": "stream",
     "text": [
      "C:\\Users\\bou\\Anaconda3\\lib\\site-packages\\sklearn\\cluster\\_kmeans.py:888: UserWarning: MiniBatchKMeans is known to have a memory leak on Windows with MKL, when there are less chunks than available threads. You can prevent it by setting batch_size >= 1024 or by setting the environment variable OMP_NUM_THREADS=1\n",
      "  f\"MiniBatchKMeans is known to have a memory leak on \"\n"
     ]
    }
   ],
   "source": [
    "kmeans_mini_batch = MiniBatchKMeans(n_clusters=3, n_init=1, random_state=42)\n",
    "kmeans_mini_batch.fit(X_std)\n",
    "kmeans_mini_batch_pred = kmeans_mini_batch.labels_"
   ]
  },
  {
   "cell_type": "code",
   "execution_count": 17,
   "metadata": {},
   "outputs": [
    {
     "name": "stdout",
     "output_type": "stream",
     "text": [
      "V-мера для K-means  0.7892280957870129\n",
      "V-мера для K-means mini batch  0.7497460092948622\n"
     ]
    }
   ],
   "source": [
    "print('V-мера для K-means ',\n",
    "      v_measure_score(labels_true=y, labels_pred=kmeans_pred_2))\n",
    "print('V-мера для K-means mini batch ',\n",
    "      v_measure_score(labels_true=y, labels_pred=kmeans_mini_batch_pred))"
   ]
  },
  {
   "cell_type": "markdown",
   "metadata": {},
   "source": [
    "### Задание\n",
    "Рассмотрим агломеративную кластеризацию. Сравним, как влияет на качество кластеризации разный тип расстояния между кластерами.\n",
    "\n",
    "Обучите на исходном датасете четыре модели AgglomerativeClustering с параметром n_clusters=3, меняя параметр linkage.\n",
    "\n",
    "В качестве ответа укажите максимальное значение v-меры, полученное при помощи данных моделей. В задании может понадобиться, а может не понадобиться нормализация и это нужно проверить во время решения задания. Ответ округлите до десятых и запишите с точкой."
   ]
  },
  {
   "cell_type": "code",
   "execution_count": 18,
   "metadata": {},
   "outputs": [],
   "source": [
    "ac_1 = AgglomerativeClustering(n_clusters=3, linkage='ward')\n",
    "ac_1.fit(X_std)\n",
    "ac_pred_1 = ac_1.labels_"
   ]
  },
  {
   "cell_type": "code",
   "execution_count": 19,
   "metadata": {},
   "outputs": [],
   "source": [
    "ac_2 = AgglomerativeClustering(n_clusters=3, linkage='complete')\n",
    "ac_2.fit(X_std)\n",
    "ac_pred_2 = ac_2.labels_"
   ]
  },
  {
   "cell_type": "code",
   "execution_count": 20,
   "metadata": {},
   "outputs": [],
   "source": [
    "ac_3 = AgglomerativeClustering(n_clusters=3, linkage='average')\n",
    "ac_3.fit(X_std)\n",
    "ac_pred_3 = ac_3.labels_"
   ]
  },
  {
   "cell_type": "code",
   "execution_count": 21,
   "metadata": {},
   "outputs": [],
   "source": [
    "ac_4 = AgglomerativeClustering(n_clusters=3, linkage='single')\n",
    "ac_4.fit(X_std)\n",
    "ac_pred_4 = ac_4.labels_"
   ]
  },
  {
   "cell_type": "code",
   "execution_count": 22,
   "metadata": {},
   "outputs": [
    {
     "name": "stdout",
     "output_type": "stream",
     "text": [
      "V-мера для Агломеративной кластеризации ward  0.9079037199053294\n",
      "V-мера для Агломеративной кластеризации complete  0.5805530251504777\n",
      "V-мера для Агломеративной кластеризации average  0.678656551579543\n",
      "V-мера для Агломеративной кластеризации single  0.0008842106330108959\n"
     ]
    }
   ],
   "source": [
    "print('V-мера для Агломеративной кластеризации ward ',\n",
    "      v_measure_score(labels_true=y, labels_pred=ac_pred_1))\n",
    "print('V-мера для Агломеративной кластеризации complete ',\n",
    "      v_measure_score(labels_true=y, labels_pred=ac_pred_2))\n",
    "print('V-мера для Агломеративной кластеризации average ',\n",
    "      v_measure_score(labels_true=y, labels_pred=ac_pred_3))\n",
    "print('V-мера для Агломеративной кластеризации single ',\n",
    "      v_measure_score(labels_true=y, labels_pred=ac_pred_4))"
   ]
  },
  {
   "cell_type": "markdown",
   "metadata": {},
   "source": [
    "### Задание\n",
    "Сравним, как влияет предварительный расчёт матрицы смежности на качество агломеративной кластеризации.\n",
    "\n",
    "Обучите на исходном датасете две модели AgglomerativeClustering:\n",
    "\n",
    "- с параметром n_clusters=3\n",
    "- с параметром n_clusters=3 и предварительно посчитанной матрицей смежности для объектов датасета\n",
    "\n",
    "В качестве ответа введите максимальное значение v-меры, полученное при помощи данных моделей. В задании может понадобиться, а может не понадобиться нормализация и это нужно проверить во время решения задания. Ответ округлите до сотых и запишите с точкой."
   ]
  },
  {
   "cell_type": "code",
   "execution_count": 24,
   "metadata": {},
   "outputs": [],
   "source": [
    "connectivity = kneighbors_graph(X_std, n_neighbors=6, include_self=False)\n",
    "connectivity = 0.5 * (connectivity + connectivity.T)"
   ]
  },
  {
   "cell_type": "code",
   "execution_count": 41,
   "metadata": {},
   "outputs": [],
   "source": [
    "ac_5 = AgglomerativeClustering(n_clusters=3)\n",
    "ac_5.fit(X_std)\n",
    "ac_pred_5 = ac_5.labels_"
   ]
  },
  {
   "cell_type": "code",
   "execution_count": 26,
   "metadata": {},
   "outputs": [],
   "source": [
    "ac_6 = AgglomerativeClustering(n_clusters=3, connectivity=connectivity)\n",
    "ac_6.fit(X_std)\n",
    "ac_pred_6 = ac_6.labels_"
   ]
  },
  {
   "cell_type": "code",
   "execution_count": 27,
   "metadata": {},
   "outputs": [
    {
     "name": "stdout",
     "output_type": "stream",
     "text": [
      "V-мера для Агломеративной кластеризации  0.9079037199053294\n",
      "V-мера для Агломеративной кластеризации с матрицей смежности  0.883942992495597\n"
     ]
    }
   ],
   "source": [
    "print('V-мера для Агломеративной кластеризации ',\n",
    "      v_measure_score(labels_true=y, labels_pred=ac_pred_5))\n",
    "print('V-мера для Агломеративной кластеризации с матрицей смежности ',\n",
    "      v_measure_score(labels_true=y, labels_pred=ac_pred_6))"
   ]
  },
  {
   "cell_type": "markdown",
   "metadata": {},
   "source": [
    "### Задание\n",
    "Алгоритм DBSCAN очень требователен к параметрам: небольшое изменение в параметре eps или max_samples может изменить результат и качество кластеризации.\n",
    "\n",
    "Обучите на исходном датасете две модели DBSCAN:\n",
    "\n",
    "- с параметрами eps=0.9, min_samples=35\n",
    "- с параметрами eps=0.8, min_samples=35\n",
    "\n",
    "В качестве ответа укажите максимальное значение v-меры, полученное при помощи данных моделей. В задании может понадобиться, а может не понадобиться нормализация и это нужно проверить во время решения задания. Ответ округлите до сотых и запишите с точкой."
   ]
  },
  {
   "cell_type": "code",
   "execution_count": 31,
   "metadata": {},
   "outputs": [],
   "source": [
    "dbscan_1 = DBSCAN(eps=0.9, min_samples=35)\n",
    "dbscan_1.fit(X)\n",
    "dbscan_pred_1 = dbscan_1.labels_"
   ]
  },
  {
   "cell_type": "code",
   "execution_count": 32,
   "metadata": {},
   "outputs": [],
   "source": [
    "dbscan_2 = DBSCAN(eps=0.8, min_samples=35)\n",
    "dbscan_2.fit(X)\n",
    "dbscan_pred_2 = dbscan_2.labels_"
   ]
  },
  {
   "cell_type": "code",
   "execution_count": 33,
   "metadata": {},
   "outputs": [
    {
     "name": "stdout",
     "output_type": "stream",
     "text": [
      "V-мера для DBSCAN 0.9  0.7732549110297919\n",
      "V-мера для DBSCAN 0.8  0.7063100442576922\n"
     ]
    }
   ],
   "source": [
    "print('V-мера для DBSCAN 0.9 ',\n",
    "      v_measure_score(labels_true=y, labels_pred=dbscan_pred_1))\n",
    "print('V-мера для DBSCAN 0.8 ',\n",
    "      v_measure_score(labels_true=y, labels_pred=dbscan_pred_2))"
   ]
  },
  {
   "cell_type": "markdown",
   "metadata": {},
   "source": [
    "### Задание\n",
    "Особенностью алгоритма DBSCAN является то, что помимо кластеризации этот алгоритм определяет выбросы в выборке. Посмотрим на качество кластеризации без учёта таких объектов.\n",
    "\n",
    "Обучите на исходном датасете модель DBSCAN с параметрами eps=0.9, min_samples=35. Посчитайте значение v-меры только для основных и граничных объектов выборки, то есть для объектов, что не являются выбросами. Ответ округлите до сотых и запишите с точкой."
   ]
  },
  {
   "cell_type": "code",
   "execution_count": 38,
   "metadata": {},
   "outputs": [],
   "source": [
    "dbscan_3 = DBSCAN(eps=0.9, min_samples=35)\n",
    "dbscan_3.fit(X)\n",
    "dbscan_pred_3 = dbscan_3.labels_"
   ]
  },
  {
   "cell_type": "code",
   "execution_count": 39,
   "metadata": {},
   "outputs": [],
   "source": [
    "not_noise_ind = np.where(dbscan_pred_3 != -1)"
   ]
  },
  {
   "cell_type": "code",
   "execution_count": 40,
   "metadata": {},
   "outputs": [
    {
     "name": "stdout",
     "output_type": "stream",
     "text": [
      "V-мера для DBSCAN  0.9667281300681958\n"
     ]
    }
   ],
   "source": [
    "print('V-мера для DBSCAN ',\n",
    "      v_measure_score(labels_true=y[not_noise_ind],\n",
    "                      labels_pred=dbscan_pred_3[not_noise_ind]))"
   ]
  },
  {
   "cell_type": "markdown",
   "metadata": {},
   "source": [
    "### Задание\n",
    "В курсе мы рассмотрели две метода нормализации данных:\n",
    "\n",
    "- MinMax нормализация — приведение данных к масштабу между 0 и 1.\n",
    "- Стандартная нормализация — данные имеют среднее 0 и стандартное отклонение 1.\n",
    "\n",
    "Проверим, влияет ли предобработка данных на результат кластеризации. Обучите две модели AgglomerativeClustering с параметрами n_clusters=3:\n",
    "\n",
    "- на признаках исходного датасета,\n",
    "- предварительно трансформируйте признаки при помощи стандартной нормализации.\n",
    "\n",
    "Посчитайте v-меру для получившихся результатов, в качестве ответа введите наибольшее значение. Ответ округлите до сотых и запишите с точкой."
   ]
  },
  {
   "cell_type": "code",
   "execution_count": 42,
   "metadata": {},
   "outputs": [],
   "source": [
    "ac_7 = AgglomerativeClustering(n_clusters=3)\n",
    "ac_7.fit(X)\n",
    "ac_pred_7 = ac_7.labels_"
   ]
  },
  {
   "cell_type": "code",
   "execution_count": 43,
   "metadata": {},
   "outputs": [],
   "source": [
    "ac_8 = AgglomerativeClustering(n_clusters=3)\n",
    "ac_8.fit(X_std)\n",
    "ac_pred_8 = ac_8.labels_"
   ]
  },
  {
   "cell_type": "code",
   "execution_count": 45,
   "metadata": {},
   "outputs": [
    {
     "name": "stdout",
     "output_type": "stream",
     "text": [
      "V-мера для Агломеративной кластеризации на исходных данных  0.703747024360433\n",
      "V-мера для Агломеративной кластеризации со стандартизацией  0.9079037199053294\n"
     ]
    }
   ],
   "source": [
    "print('V-мера для Агломеративной кластеризации на исходных данных ',\n",
    "      v_measure_score(labels_true=y, labels_pred=ac_pred_7))\n",
    "print('V-мера для Агломеративной кластеризации со стандартизацией ',\n",
    "      v_measure_score(labels_true=y, labels_pred=ac_pred_8))"
   ]
  },
  {
   "cell_type": "markdown",
   "metadata": {},
   "source": [
    "### Задание\n",
    "Обучите две модели AgglomerativeClustering с параметрами n_clusters=3:\n",
    "\n",
    "- на признаках исходного датасета,\n",
    "- предварительно трансформируйте признаки при помощи MinMax нормализации.\n",
    "\n",
    "Посчитайте v-меру для получившихся результатов, в качестве ответа введите наибольшее значение. Ответ округлите до сотых и запишите с точкой."
   ]
  },
  {
   "cell_type": "code",
   "execution_count": 46,
   "metadata": {},
   "outputs": [],
   "source": [
    "X_minmax = MinMaxScaler().fit_transform(X)"
   ]
  },
  {
   "cell_type": "code",
   "execution_count": 47,
   "metadata": {},
   "outputs": [],
   "source": [
    "ac_9 = AgglomerativeClustering(n_clusters=3)\n",
    "ac_9.fit(X_minmax)\n",
    "ac_pred_9 = ac_9.labels_"
   ]
  },
  {
   "cell_type": "code",
   "execution_count": 48,
   "metadata": {},
   "outputs": [
    {
     "name": "stdout",
     "output_type": "stream",
     "text": [
      "V-мера для Агломеративной кластеризации на исходных данных  0.703747024360433\n",
      "V-мера для Агломеративной кластеризации со стандартизацией MinMax  0.8929241488344335\n"
     ]
    }
   ],
   "source": [
    "print('V-мера для Агломеративной кластеризации на исходных данных ',\n",
    "      v_measure_score(labels_true=y, labels_pred=ac_pred_7))\n",
    "print('V-мера для Агломеративной кластеризации со стандартизацией MinMax ',\n",
    "      v_measure_score(labels_true=y, labels_pred=ac_pred_9))"
   ]
  }
 ],
 "metadata": {
  "kernelspec": {
   "display_name": "Python 3",
   "language": "python",
   "name": "python3"
  },
  "language_info": {
   "codemirror_mode": {
    "name": "ipython",
    "version": 3
   },
   "file_extension": ".py",
   "mimetype": "text/x-python",
   "name": "python",
   "nbconvert_exporter": "python",
   "pygments_lexer": "ipython3",
   "version": "3.7.6"
  }
 },
 "nbformat": 4,
 "nbformat_minor": 4
}
