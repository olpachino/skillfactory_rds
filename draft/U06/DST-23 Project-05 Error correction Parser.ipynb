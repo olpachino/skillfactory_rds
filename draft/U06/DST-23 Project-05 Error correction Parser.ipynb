{
 "cells": [
  {
   "cell_type": "code",
   "execution_count": 1,
   "id": "hydraulic-barbados",
   "metadata": {},
   "outputs": [],
   "source": [
    "import pandas as pd"
   ]
  },
  {
   "cell_type": "code",
   "execution_count": 3,
   "id": "proper-store",
   "metadata": {},
   "outputs": [],
   "source": [
    "df = pd.read_csv('car_parser.csv')"
   ]
  },
  {
   "cell_type": "code",
   "execution_count": 4,
   "id": "crude-stephen",
   "metadata": {},
   "outputs": [
    {
     "name": "stdout",
     "output_type": "stream",
     "text": [
      "<class 'pandas.core.frame.DataFrame'>\n",
      "RangeIndex: 59292 entries, 0 to 59291\n",
      "Data columns (total 24 columns):\n",
      " #   Column                 Non-Null Count  Dtype  \n",
      "---  ------                 --------------  -----  \n",
      " 0   brand                  59292 non-null  object \n",
      " 1   model_name             59292 non-null  object \n",
      " 2   generation             59292 non-null  object \n",
      " 3   engine_displacement    59288 non-null  object \n",
      " 4   engine_power           59288 non-null  object \n",
      " 5   vehicle_transmissione  59288 non-null  object \n",
      " 6   fuel_type              57502 non-null  object \n",
      " 7   drive_unit             59288 non-null  object \n",
      " 8   vendor                 59288 non-null  object \n",
      " 9   number_of_doors        59287 non-null  object \n",
      " 10  url_car                59292 non-null  object \n",
      " 11  price                  53895 non-null  object \n",
      " 12  sell_id                0 non-null      float64\n",
      " 13  production_date        59292 non-null  int64  \n",
      " 14  mileage                59292 non-null  object \n",
      " 15  body_type              59292 non-null  object \n",
      " 16  color                  59292 non-null  object \n",
      " 17  steering_position      59292 non-null  object \n",
      " 18  condition              59284 non-null  object \n",
      " 19  owners                 59283 non-null  object \n",
      " 20  possession             17689 non-null  object \n",
      " 21  PTS                    59289 non-null  object \n",
      " 22  customs                59291 non-null  object \n",
      " 23  description            57460 non-null  object \n",
      "dtypes: float64(1), int64(1), object(22)\n",
      "memory usage: 10.9+ MB\n"
     ]
    }
   ],
   "source": [
    "df.info()"
   ]
  },
  {
   "cell_type": "code",
   "execution_count": 6,
   "id": "diverse-amino",
   "metadata": {},
   "outputs": [],
   "source": [
    "pd.set_option('display.max_columns', None)"
   ]
  },
  {
   "cell_type": "code",
   "execution_count": 7,
   "id": "significant-moses",
   "metadata": {},
   "outputs": [
    {
     "data": {
      "text/html": [
       "<div>\n",
       "<style scoped>\n",
       "    .dataframe tbody tr th:only-of-type {\n",
       "        vertical-align: middle;\n",
       "    }\n",
       "\n",
       "    .dataframe tbody tr th {\n",
       "        vertical-align: top;\n",
       "    }\n",
       "\n",
       "    .dataframe thead th {\n",
       "        text-align: right;\n",
       "    }\n",
       "</style>\n",
       "<table border=\"1\" class=\"dataframe\">\n",
       "  <thead>\n",
       "    <tr style=\"text-align: right;\">\n",
       "      <th></th>\n",
       "      <th>brand</th>\n",
       "      <th>model_name</th>\n",
       "      <th>generation</th>\n",
       "      <th>engine_displacement</th>\n",
       "      <th>engine_power</th>\n",
       "      <th>vehicle_transmissione</th>\n",
       "      <th>fuel_type</th>\n",
       "      <th>drive_unit</th>\n",
       "      <th>vendor</th>\n",
       "      <th>number_of_doors</th>\n",
       "      <th>url_car</th>\n",
       "      <th>price</th>\n",
       "      <th>sell_id</th>\n",
       "      <th>production_date</th>\n",
       "      <th>mileage</th>\n",
       "      <th>body_type</th>\n",
       "      <th>color</th>\n",
       "      <th>steering_position</th>\n",
       "      <th>condition</th>\n",
       "      <th>owners</th>\n",
       "      <th>possession</th>\n",
       "      <th>PTS</th>\n",
       "      <th>customs</th>\n",
       "      <th>description</th>\n",
       "    </tr>\n",
       "  </thead>\n",
       "  <tbody>\n",
       "    <tr>\n",
       "      <th>0</th>\n",
       "      <td>Audi</td>\n",
       "      <td>Q7</td>\n",
       "      <td>I (4L)</td>\n",
       "      <td>3.6 л</td>\n",
       "      <td>280 л.с.</td>\n",
       "      <td>автомат</td>\n",
       "      <td>бензин</td>\n",
       "      <td>полный</td>\n",
       "      <td>Германия</td>\n",
       "      <td>5</td>\n",
       "      <td>https://auto.ru/cars/used/sale/audi/q7/1102251...</td>\n",
       "      <td>780 000 ₽</td>\n",
       "      <td>NaN</td>\n",
       "      <td>2007</td>\n",
       "      <td>185 000 км</td>\n",
       "      <td>внедорожник 5 дв.</td>\n",
       "      <td>серый</td>\n",
       "      <td>Левый</td>\n",
       "      <td>Не требует ремонта</td>\n",
       "      <td>3 или более</td>\n",
       "      <td>NaN</td>\n",
       "      <td>Оригинал</td>\n",
       "      <td>Растаможен</td>\n",
       "      <td>7 МЕСТ!!ПАНОРАМНАЯ КРЫША!!4-х ЗОННЫЙ КЛИМАТ КО...</td>\n",
       "    </tr>\n",
       "    <tr>\n",
       "      <th>1</th>\n",
       "      <td>Audi</td>\n",
       "      <td>A6 allroad</td>\n",
       "      <td>III (C7) Рестайлинг</td>\n",
       "      <td>3.0 л</td>\n",
       "      <td>333 л.с.</td>\n",
       "      <td>робот</td>\n",
       "      <td>бензин</td>\n",
       "      <td>полный</td>\n",
       "      <td>Германия</td>\n",
       "      <td>5</td>\n",
       "      <td>https://auto.ru/cars/used/sale/audi/allroad/11...</td>\n",
       "      <td>2 650 000 ₽</td>\n",
       "      <td>NaN</td>\n",
       "      <td>2016</td>\n",
       "      <td>91 000 км</td>\n",
       "      <td>универсал 5 дв.</td>\n",
       "      <td>чёрный</td>\n",
       "      <td>Левый</td>\n",
       "      <td>Не требует ремонта</td>\n",
       "      <td>2 владельца</td>\n",
       "      <td>3 года и 1 месяц</td>\n",
       "      <td>Оригинал</td>\n",
       "      <td>Растаможен</td>\n",
       "      <td>По ПТС 2016г. ПТС ОРИГИНАЛ. Два собственника Ю...</td>\n",
       "    </tr>\n",
       "    <tr>\n",
       "      <th>2</th>\n",
       "      <td>Audi</td>\n",
       "      <td>A4</td>\n",
       "      <td>II (B6)</td>\n",
       "      <td>2.0 л</td>\n",
       "      <td>130 л.с.</td>\n",
       "      <td>вариатор</td>\n",
       "      <td>бензин</td>\n",
       "      <td>передний</td>\n",
       "      <td>Германия</td>\n",
       "      <td>4</td>\n",
       "      <td>https://auto.ru/cars/used/sale/audi/a4/1102312...</td>\n",
       "      <td>350 000 ₽</td>\n",
       "      <td>NaN</td>\n",
       "      <td>2001</td>\n",
       "      <td>251 000 км</td>\n",
       "      <td>седан</td>\n",
       "      <td>серебристый</td>\n",
       "      <td>Левый</td>\n",
       "      <td>Не требует ремонта</td>\n",
       "      <td>3 или более</td>\n",
       "      <td>NaN</td>\n",
       "      <td>Дубликат</td>\n",
       "      <td>Растаможен</td>\n",
       "      <td>Авто в хорошем состоянии для своих лет много п...</td>\n",
       "    </tr>\n",
       "    <tr>\n",
       "      <th>3</th>\n",
       "      <td>Audi</td>\n",
       "      <td>Q3</td>\n",
       "      <td>I (8U)</td>\n",
       "      <td>2.0 л</td>\n",
       "      <td>170 л.с.</td>\n",
       "      <td>робот</td>\n",
       "      <td>бензин</td>\n",
       "      <td>полный</td>\n",
       "      <td>Германия</td>\n",
       "      <td>5</td>\n",
       "      <td>https://auto.ru/cars/used/sale/audi/q3/1102057...</td>\n",
       "      <td>NaN</td>\n",
       "      <td>NaN</td>\n",
       "      <td>2013</td>\n",
       "      <td>80 000 км</td>\n",
       "      <td>внедорожник 5 дв.</td>\n",
       "      <td>чёрный</td>\n",
       "      <td>Левый</td>\n",
       "      <td>Не требует ремонта</td>\n",
       "      <td>2 владельца</td>\n",
       "      <td>NaN</td>\n",
       "      <td>Оригинал</td>\n",
       "      <td>Растаможен</td>\n",
       "      <td>Оригинал ПТС!Все 100% автомобилей, проходят хи...</td>\n",
       "    </tr>\n",
       "    <tr>\n",
       "      <th>4</th>\n",
       "      <td>Audi</td>\n",
       "      <td>A4</td>\n",
       "      <td>IV (B8) Рестайлинг</td>\n",
       "      <td>1.8 л</td>\n",
       "      <td>170 л.с.</td>\n",
       "      <td>вариатор</td>\n",
       "      <td>бензин</td>\n",
       "      <td>передний</td>\n",
       "      <td>Германия</td>\n",
       "      <td>4</td>\n",
       "      <td>https://auto.ru/cars/used/sale/audi/a4/1101876...</td>\n",
       "      <td>NaN</td>\n",
       "      <td>NaN</td>\n",
       "      <td>2013</td>\n",
       "      <td>79 720 км</td>\n",
       "      <td>седан</td>\n",
       "      <td>чёрный</td>\n",
       "      <td>Левый</td>\n",
       "      <td>Не требует ремонта</td>\n",
       "      <td>2 владельца</td>\n",
       "      <td>NaN</td>\n",
       "      <td>Оригинал</td>\n",
       "      <td>Растаможен</td>\n",
       "      <td>Автомобиль куплен новым у дилера.Оригинал ПТС....</td>\n",
       "    </tr>\n",
       "  </tbody>\n",
       "</table>\n",
       "</div>"
      ],
      "text/plain": [
       "  brand  model_name           generation engine_displacement engine_power  \\\n",
       "0  Audi          Q7               I (4L)               3.6 л     280 л.с.   \n",
       "1  Audi  A6 allroad  III (C7) Рестайлинг               3.0 л     333 л.с.   \n",
       "2  Audi          A4              II (B6)               2.0 л     130 л.с.   \n",
       "3  Audi          Q3               I (8U)               2.0 л     170 л.с.   \n",
       "4  Audi          A4   IV (B8) Рестайлинг               1.8 л     170 л.с.   \n",
       "\n",
       "  vehicle_transmissione fuel_type drive_unit    vendor number_of_doors  \\\n",
       "0               автомат    бензин     полный  Германия               5   \n",
       "1                 робот    бензин     полный  Германия               5   \n",
       "2              вариатор    бензин   передний  Германия               4   \n",
       "3                 робот    бензин     полный  Германия               5   \n",
       "4              вариатор    бензин   передний  Германия               4   \n",
       "\n",
       "                                             url_car        price  sell_id  \\\n",
       "0  https://auto.ru/cars/used/sale/audi/q7/1102251...    780 000 ₽      NaN   \n",
       "1  https://auto.ru/cars/used/sale/audi/allroad/11...  2 650 000 ₽      NaN   \n",
       "2  https://auto.ru/cars/used/sale/audi/a4/1102312...    350 000 ₽      NaN   \n",
       "3  https://auto.ru/cars/used/sale/audi/q3/1102057...          NaN      NaN   \n",
       "4  https://auto.ru/cars/used/sale/audi/a4/1101876...          NaN      NaN   \n",
       "\n",
       "   production_date     mileage          body_type        color  \\\n",
       "0             2007  185 000 км  внедорожник 5 дв.        серый   \n",
       "1             2016   91 000 км    универсал 5 дв.       чёрный   \n",
       "2             2001  251 000 км              седан  серебристый   \n",
       "3             2013   80 000 км  внедорожник 5 дв.       чёрный   \n",
       "4             2013   79 720 км              седан       чёрный   \n",
       "\n",
       "  steering_position           condition       owners        possession  \\\n",
       "0             Левый  Не требует ремонта  3 или более               NaN   \n",
       "1             Левый  Не требует ремонта  2 владельца  3 года и 1 месяц   \n",
       "2             Левый  Не требует ремонта  3 или более               NaN   \n",
       "3             Левый  Не требует ремонта  2 владельца               NaN   \n",
       "4             Левый  Не требует ремонта  2 владельца               NaN   \n",
       "\n",
       "        PTS     customs                                        description  \n",
       "0  Оригинал  Растаможен  7 МЕСТ!!ПАНОРАМНАЯ КРЫША!!4-х ЗОННЫЙ КЛИМАТ КО...  \n",
       "1  Оригинал  Растаможен  По ПТС 2016г. ПТС ОРИГИНАЛ. Два собственника Ю...  \n",
       "2  Дубликат  Растаможен  Авто в хорошем состоянии для своих лет много п...  \n",
       "3  Оригинал  Растаможен  Оригинал ПТС!Все 100% автомобилей, проходят хи...  \n",
       "4  Оригинал  Растаможен  Автомобиль куплен новым у дилера.Оригинал ПТС....  "
      ]
     },
     "execution_count": 7,
     "metadata": {},
     "output_type": "execute_result"
    }
   ],
   "source": [
    "df.head()"
   ]
  },
  {
   "cell_type": "code",
   "execution_count": 9,
   "id": "efficient-tradition",
   "metadata": {},
   "outputs": [
    {
     "data": {
      "text/plain": [
       "LADA (ВАЗ)       4862\n",
       "Mercedes-Benz    4659\n",
       "BMW              3898\n",
       "Volkswagen       3741\n",
       "Kia              3670\n",
       "Hyundai          3375\n",
       "Nissan           3077\n",
       "Toyota           3007\n",
       "Ford             2712\n",
       "Audi             2376\n",
       "Skoda            2041\n",
       "Chevrolet        2003\n",
       "Renault          1854\n",
       "Opel             1852\n",
       "Mitsubishi       1780\n",
       "Mazda            1520\n",
       "Volvo            1001\n",
       "Land Rover       1001\n",
       "Peugeot           892\n",
       "Lexus             743\n",
       "Honda             743\n",
       "УАЗ               669\n",
       "ГАЗ               668\n",
       "Citroen           632\n",
       "Infiniti          595\n",
       "Porsche           557\n",
       "Suzuki            521\n",
       "Daewoo            521\n",
       "Subaru            447\n",
       "SsangYong         409\n",
       "Jeep              335\n",
       "Chery             261\n",
       "Dodge             261\n",
       "Jaguar            261\n",
       "Chrysler          224\n",
       "Great Wall        224\n",
       "Cadillac          224\n",
       "MINI              223\n",
       "Fiat              187\n",
       "ЗАЗ               186\n",
       "Москвич           150\n",
       "Lifan             147\n",
       "Saab              113\n",
       "Bentley           113\n",
       "Geely             113\n",
       "Smart             111\n",
       "Datsun            111\n",
       "ИЖ                 74\n",
       "SEAT               74\n",
       "Ravon              74\n",
       "Name: brand, dtype: int64"
      ]
     },
     "execution_count": 9,
     "metadata": {},
     "output_type": "execute_result"
    }
   ],
   "source": [
    "df.brand.value_counts()"
   ]
  },
  {
   "cell_type": "code",
   "execution_count": 11,
   "id": "sharing-trustee",
   "metadata": {},
   "outputs": [
    {
     "data": {
      "text/plain": [
       "array(['3.6 л', '3.0 л', '2.0 л', '1.8 л', '2.3 л', '1.4 л', '6.3 л',\n",
       "       '2.8 л', '436 км', '4.2 л', '1.2 л', '4.0 л', '2.9 л', '336 км',\n",
       "       '3.1 л', '1.6 л', '4.1 л', '1.9 л', '2.5 л', '2.4 л', '3.2 л',\n",
       "       '5.2 л', '5.9 л', '3.7 л', '5.0 л', '2.7 л', '3.3 л', '2.2 л',\n",
       "       '1.5 л', '2.1 л', '2.6 л', '6.0 л', '6.8 л', '4.4 л', '6.2 л', nan,\n",
       "       '3.4 л', '6.6 л', '4.8 л', '0.7 л', '200 км', '4.9 л', '260 км',\n",
       "       '5.4 л', '3.8 л', '0.6 л', '3.9 л', '3.5 л', '4.6 л', '130 км',\n",
       "       '6.4 л', '7.7 л', '4.5 л', '5.7 л', '5.3 л', '8.2 л', '1.3 л',\n",
       "       '0.8 л', '1.1 л', '1.7 л', '1.0 л', '6.5 л', '7.0 л', '8.1 л',\n",
       "       '4.3 л', '322 км', '7.4 л', '132 км', '6.1 л', '7.2 л', '4.7 л',\n",
       "       '6.7 л', '0.5 л', '140 км', '0.9 л', '5.8 л', '7.3 л', '5.6 л',\n",
       "       '480 км', '250 км', '150 км', '5.5 л', '67 л.с.', '400 км',\n",
       "       '175 км', '199 км', '412 км', '100 км', '50 км', '115 л.с.'],\n",
       "      dtype=object)"
      ]
     },
     "execution_count": 11,
     "metadata": {},
     "output_type": "execute_result"
    }
   ],
   "source": [
    "df.engine_displacement.unique()"
   ]
  },
  {
   "cell_type": "code",
   "execution_count": 12,
   "id": "equipped-superior",
   "metadata": {},
   "outputs": [
    {
     "data": {
      "text/plain": [
       "36465    https://auto.ru/cars/used/sale/mitsubishi/i_mi...\n",
       "Name: url_car, dtype: object"
      ]
     },
     "execution_count": 12,
     "metadata": {},
     "output_type": "execute_result"
    }
   ],
   "source": [
    "df.url_car[df.engine_displacement == '67 л.с.']"
   ]
  },
  {
   "cell_type": "code",
   "execution_count": 13,
   "id": "dress-memory",
   "metadata": {},
   "outputs": [
    {
     "data": {
      "text/plain": [
       "'https://auto.ru/cars/used/sale/mitsubishi/i_miev/1101238446-ecb3e3f6/'"
      ]
     },
     "execution_count": 13,
     "metadata": {},
     "output_type": "execute_result"
    }
   ],
   "source": [
    "df.url_car[36465]"
   ]
  },
  {
   "cell_type": "code",
   "execution_count": 16,
   "id": "physical-bench",
   "metadata": {},
   "outputs": [
    {
     "name": "stderr",
     "output_type": "stream",
     "text": [
      "C:\\Users\\bou\\Anaconda3\\lib\\site-packages\\ipykernel_launcher.py:1: SettingWithCopyWarning: \n",
      "A value is trying to be set on a copy of a slice from a DataFrame\n",
      "\n",
      "See the caveats in the documentation: https://pandas.pydata.org/pandas-docs/stable/user_guide/indexing.html#returning-a-view-versus-a-copy\n",
      "  \"\"\"Entry point for launching an IPython kernel.\n"
     ]
    }
   ],
   "source": [
    "df.engine_power[df.engine_displacement == '115 л.с.'] = '115 л.с.'"
   ]
  },
  {
   "cell_type": "code",
   "execution_count": 17,
   "id": "opponent-carroll",
   "metadata": {},
   "outputs": [
    {
     "data": {
      "text/plain": [
       "array(['280 л.с.', '333 л.с.', '130 л.с.', '170 л.с.', '249 л.с.',\n",
       "       '340 л.с.', '245 л.с.', '133 л.с.', '211 л.с.', '310 л.с.',\n",
       "       '150 л.с.', '500 л.с.', '180 л.с.', '125 л.с.', '204 л.с.',\n",
       "       '230 л.с.', '122 л.с.', '120 л.с.', '239 л.с.', '408 л.с.',\n",
       "       '350 л.с.', '105 л.с.', '422 л.с.', '250 л.с.', '450 л.с.',\n",
       "       '190 л.с.', '225 л.с.', '313 л.с.', '200 л.с.', '435 л.с.',\n",
       "       '220 л.с.', '160 л.с.', '177 л.с.', '300 л.с.', '102 л.с.',\n",
       "       '163 л.с.', '143 л.с.', '218 л.с.', '90 л.с.', '460 л.с.',\n",
       "       '290 л.с.', '165 л.с.', '140 л.с.', '354 л.с.', '560 л.с.',\n",
       "       '233 л.с.', '238 л.с.', '265 л.с.', '271 л.с.', '610 л.с.',\n",
       "       '101 л.с.', '112 л.с.', '256 л.с.', '174 л.с.', '272 л.с.',\n",
       "       '88 л.с.', '110 л.с.', '420 л.с.', '255 л.с.', '520 л.с.',\n",
       "       '193 л.с.', '605 л.с.', '367 л.с.', '525 л.с.', '372 л.с.',\n",
       "       '580 л.с.', '260 л.с.', '430 л.с.', '75 л.с.', '3 км', '335 л.с.',\n",
       "       '115 л.с.', '113 л.с.', '85 л.с.', '224 л.с.', '360 л.с.',\n",
       "       '240 л.с.', '210 л.с.', '136 л.с.', '326 л.с.', '137 л.с.',\n",
       "       '338 л.с.', '155 л.с.', '70 л.с.', '254 л.с.', '252 л.с.',\n",
       "       '270 л.с.', '100 л.с.', '625 л.с.', '507 л.с.', '512 л.с.',\n",
       "       '575 л.с.', '635 л.с.', '608 л.с.', '528 л.с.', '537 л.с.',\n",
       "       '552 л.с.', '405 л.с.', nan, '184 л.с.', '55 км', '320 л.с.',\n",
       "       '530 л.с.', '231 л.с.', '600 л.с.', '400 л.с.', '306 л.с.',\n",
       "       '192 л.с.', '185 л.с.', '555 л.с.', '235 л.с.', '258 л.с.',\n",
       "       '156 л.с.', '116 л.с.', '269 л.с.', '381 л.с.', '407 л.с.',\n",
       "       '197 л.с.', '286 л.с.', '387 л.с.', '264 л.с.', '431 л.с.',\n",
       "       '609 л.с.', '462 л.с.', '355 л.с.', '445 л.с.', '544 л.с.',\n",
       "       '510 л.с.', '370 л.с.', '129 л.с.', '118 л.с.', '343 л.с.',\n",
       "       '321 л.с.', '19 л.с.', '139 л.с.', '188 л.с.', '347 л.с.',\n",
       "       '51 л.с.', '171 л.с.', '46 л.с.', '410 л.с.', '409 л.с.',\n",
       "       '324 л.с.', '426 л.с.', '318 л.с.', '314 л.с.', '175 л.с.',\n",
       "       '311 л.с.', '276 л.с.', '649 л.с.', '173 л.с.', '564 л.с.',\n",
       "       '325 л.с.', '305 л.с.', '226 л.с.', '380 л.с.', '135 л.с.',\n",
       "       '330 л.с.', '309 л.с.', '158 л.с.', '295 л.с.', '279 л.с.',\n",
       "       '322 л.с.', '299 л.с.', '304 л.с.', '119 л.с.', '126 л.с.',\n",
       "       '132 л.с.', '94 л.с.', '109 л.с.', '83 л.с.', '106 л.с.',\n",
       "       '117 л.с.', '52 л.с.', '53 л.с.', '147 л.с.', '68 л.с.',\n",
       "       '141 л.с.', '455 л.с.', '80 л.с.', '167 л.с.', '84 л.с.',\n",
       "       '72 л.с.', '86 л.с.', '121 л.с.', '273 л.с.', '67 л.с.',\n",
       "       '466 л.с.', '294 л.с.', '312 л.с.', '288 л.с.', '172 л.с.',\n",
       "       '365 л.с.', '437 л.с.', '513 л.с.', '344 л.с.', '328 л.с.',\n",
       "       '275 л.с.', '85 км', '285 л.с.', '182 л.с.', '589 л.с.',\n",
       "       '282 л.с.', '213 л.с.', '145 л.с.', '124 л.с.', '92 л.с.',\n",
       "       '301 л.с.', '131 л.с.', '161 л.с.', '403 л.с.', '441 л.с.',\n",
       "       '162 л.с.', '63 л.с.', '152 л.с.', '79 л.с.', '97 л.с.',\n",
       "       '253 л.с.', '203 л.с.', '296 л.с.', '214 л.с.', '283 л.с.',\n",
       "       '248 л.с.', '425 л.с.', '287 л.с.', '215 л.с.', '189 л.с.',\n",
       "       '257 л.с.', '164 л.с.', '396 л.с.', '114 л.с.', '127 л.с.',\n",
       "       '95 л.с.', '82 л.с.', '128 л.с.', '71 л.с.', '69 л.с.', '138 л.с.',\n",
       "       '98 л.с.', '207 л.с.', '61 л.с.', '107 л.с.', '64 л.с.',\n",
       "       '148 л.с.', '41 л.с.', '38 л.с.', '87 л.с.', '492 л.с.',\n",
       "       '375 л.с.', '345 л.с.', '364 л.с.', '395 л.с.', '166 л.с.',\n",
       "       '477 л.с.', '149 л.с.', '144 л.с.', '77 л.с.', '18 л.с.',\n",
       "       '111 л.с.', '60 л.с.', '103 л.с.', '73 л.с.', '55 л.с.', '78 л.с.',\n",
       "       '317 л.с.', '199 л.с.', '96 л.с.', '411 л.с.', '123 л.с.',\n",
       "       '212 л.с.', '262 л.с.', '662 л.с.', '181 л.с.', '263 л.с.',\n",
       "       '202 л.с.', '228 л.с.', '40 л.с.', '232 л.с.', '20 л.с.',\n",
       "       '205 л.с.', '242 л.с.', '66 л.с.', '178 л.с.', '50 л.с.',\n",
       "       '243 л.с.', '194 л.с.', '281 л.с.', '201 л.с.', '58 л.с.',\n",
       "       '142 л.с.', '186 л.с.', '154 л.с.', '91 л.с.', '247 л.с.',\n",
       "       '334 л.с.', '146 л.с.', '315 л.с.', '373 л.с.', '99 л.с.',\n",
       "       '81 л.с.', '93 л.с.', '179 л.с.', '222 л.с.', '307 л.с.',\n",
       "       '221 л.с.', '302 л.с.', '284 л.с.', '168 л.с.', '278 л.с.',\n",
       "       '234 л.с.', '363 л.с.', '550 л.с.', '385 л.с.', '196 л.с.',\n",
       "       '268 л.с.', '416 л.с.', '298 л.с.', '468 л.с.', '352 л.с.',\n",
       "       '241 л.с.', '169 л.с.', '261 л.с.', '65 л.с.', '62 л.с.',\n",
       "       '187 л.с.', '266 л.с.', '424 л.с.', '198 л.с.', '195 л.с.',\n",
       "       '274 л.с.', '74 л.с.', '33 л.с.', '59 л.с.', '89 л.с.', '35 л.с.',\n",
       "       '76 л.с.', '54 л.с.', '29 л.с.', '292 л.с.', '339 л.с.',\n",
       "       '390 л.с.', '565 л.с.', '421 л.с.', '208 л.с.', '277 л.с.',\n",
       "       '394 л.с.', '223 л.с.', '383 л.с.', '303 л.с.', '104 л.с.',\n",
       "       '244 л.с.', '151 л.с.', '153 л.с.', '612 л.с.', '585 л.с.',\n",
       "       '388 л.с.', '591 л.с.', '639 л.с.', '558 л.с.', '571 л.с.',\n",
       "       '469 л.с.', '557 л.с.', '401 л.с.', '517 л.с.', '514 л.с.',\n",
       "       '476 л.с.', '487 л.с.', '626 л.с.', '630 л.с.', '522 л.с.',\n",
       "       '32 л.с.', '382 л.с.', '227 л.с.', '209 л.с.', '49 л.с.',\n",
       "       '48 л.с.', '540 л.с.', '485 л.с.', '108 л.с.', '44 л.с.',\n",
       "       '45 л.с.', '440 л.с.', '480 л.с.', '761 л.с.', '475 л.с.',\n",
       "       '650 л.с.', '18 км', '570 л.с.', '11 л.с.', '308 л.с.', '159 л.с.',\n",
       "       '7 л.с.', '157 л.с.', '183 л.с.', '57 л.с.', '42 л.с.', '27 л.с.',\n",
       "       '30 л.с.', '26 л.с.', '23 л.с.'], dtype=object)"
      ]
     },
     "execution_count": 17,
     "metadata": {},
     "output_type": "execute_result"
    }
   ],
   "source": [
    "df.engine_power.unique()"
   ]
  },
  {
   "cell_type": "code",
   "execution_count": 27,
   "id": "hidden-aluminum",
   "metadata": {},
   "outputs": [
    {
     "data": {
      "text/plain": [
       "725    https://auto.ru/cars/used/sale/audi/q5/1102273...\n",
       "Name: url_car, dtype: object"
      ]
     },
     "execution_count": 27,
     "metadata": {},
     "output_type": "execute_result"
    }
   ],
   "source": [
    "df.url_car[df.engine_power == '3 км']"
   ]
  },
  {
   "cell_type": "code",
   "execution_count": 28,
   "id": "nominated-softball",
   "metadata": {},
   "outputs": [
    {
     "data": {
      "text/plain": [
       "'https://auto.ru/cars/used/sale/audi/q5/1102273139-d8af8202/'"
      ]
     },
     "execution_count": 28,
     "metadata": {},
     "output_type": "execute_result"
    }
   ],
   "source": [
    "df.url_car[725]"
   ]
  },
  {
   "cell_type": "code",
   "execution_count": 29,
   "id": "modified-newcastle",
   "metadata": {},
   "outputs": [
    {
     "name": "stderr",
     "output_type": "stream",
     "text": [
      "C:\\Users\\bou\\Anaconda3\\lib\\site-packages\\ipykernel_launcher.py:1: SettingWithCopyWarning: \n",
      "A value is trying to be set on a copy of a slice from a DataFrame\n",
      "\n",
      "See the caveats in the documentation: https://pandas.pydata.org/pandas-docs/stable/user_guide/indexing.html#returning-a-view-versus-a-copy\n",
      "  \"\"\"Entry point for launching an IPython kernel.\n"
     ]
    }
   ],
   "source": [
    "df.engine_power[df.engine_power == '3 км'] = '211 л.с.'"
   ]
  },
  {
   "cell_type": "code",
   "execution_count": 30,
   "id": "fifteen-treat",
   "metadata": {},
   "outputs": [
    {
     "data": {
      "text/plain": [
       "автомат     29886\n",
       "механика    20521\n",
       "робот        5256\n",
       "вариатор     3609\n",
       "231 л.с.        7\n",
       "электро         5\n",
       "101 л.с.        2\n",
       "211 л.с.        1\n",
       "333 л.с.        1\n",
       "Name: vehicle_transmissione, dtype: int64"
      ]
     },
     "execution_count": 30,
     "metadata": {},
     "output_type": "execute_result"
    }
   ],
   "source": [
    "df.vehicle_transmissione.value_counts()"
   ]
  },
  {
   "cell_type": "code",
   "execution_count": 44,
   "id": "meaningful-huntington",
   "metadata": {},
   "outputs": [
    {
     "data": {
      "text/plain": [
       "2492    https://auto.ru/cars/used/sale/bmw/i8/11018049...\n",
       "2530    https://auto.ru/cars/used/sale/bmw/i8/11018049...\n",
       "6201    https://auto.ru/cars/used/sale/bmw/i8/11018049...\n",
       "6239    https://auto.ru/cars/used/sale/bmw/i8/11018049...\n",
       "6277    https://auto.ru/cars/used/sale/bmw/i8/11018049...\n",
       "6315    https://auto.ru/cars/used/sale/bmw/i8/11018049...\n",
       "6353    https://auto.ru/cars/used/sale/bmw/i8/11018049...\n",
       "Name: url_car, dtype: object"
      ]
     },
     "execution_count": 44,
     "metadata": {},
     "output_type": "execute_result"
    }
   ],
   "source": [
    "df.url_car[df.vehicle_transmissione == '231 л.с.']"
   ]
  },
  {
   "cell_type": "code",
   "execution_count": 45,
   "id": "compatible-separation",
   "metadata": {},
   "outputs": [
    {
     "data": {
      "text/plain": [
       "'https://auto.ru/cars/used/sale/bmw/i8/1101804949-f251e1da/'"
      ]
     },
     "execution_count": 45,
     "metadata": {},
     "output_type": "execute_result"
    }
   ],
   "source": [
    "df.url_car[2492]"
   ]
  },
  {
   "cell_type": "code",
   "execution_count": 46,
   "id": "automated-senegal",
   "metadata": {},
   "outputs": [
    {
     "name": "stderr",
     "output_type": "stream",
     "text": [
      "C:\\Users\\bou\\Anaconda3\\lib\\site-packages\\ipykernel_launcher.py:1: SettingWithCopyWarning: \n",
      "A value is trying to be set on a copy of a slice from a DataFrame\n",
      "\n",
      "See the caveats in the documentation: https://pandas.pydata.org/pandas-docs/stable/user_guide/indexing.html#returning-a-view-versus-a-copy\n",
      "  \"\"\"Entry point for launching an IPython kernel.\n"
     ]
    }
   ],
   "source": [
    "df.vehicle_transmissione[df.vehicle_transmissione == '231 л.с.'] = 'автомат'"
   ]
  },
  {
   "cell_type": "code",
   "execution_count": 47,
   "id": "breeding-robert",
   "metadata": {},
   "outputs": [
    {
     "data": {
      "text/plain": [
       "бензин      49388\n",
       "дизель       7913\n",
       "гибрид        179\n",
       "СУГ            11\n",
       "автомат         9\n",
       "вариатор        2\n",
       "Name: fuel_type, dtype: int64"
      ]
     },
     "execution_count": 47,
     "metadata": {},
     "output_type": "execute_result"
    }
   ],
   "source": [
    "df.fuel_type.value_counts()"
   ]
  },
  {
   "cell_type": "code",
   "execution_count": 51,
   "id": "aggressive-somalia",
   "metadata": {},
   "outputs": [
    {
     "data": {
      "text/plain": [
       "725      https://auto.ru/cars/used/sale/audi/q5/1102273...\n",
       "2492     https://auto.ru/cars/used/sale/bmw/i8/11018049...\n",
       "2530     https://auto.ru/cars/used/sale/bmw/i8/11018049...\n",
       "6201     https://auto.ru/cars/used/sale/bmw/i8/11018049...\n",
       "6239     https://auto.ru/cars/used/sale/bmw/i8/11018049...\n",
       "6277     https://auto.ru/cars/used/sale/bmw/i8/11018049...\n",
       "6315     https://auto.ru/cars/used/sale/bmw/i8/11018049...\n",
       "6353     https://auto.ru/cars/used/sale/bmw/i8/11018049...\n",
       "43820    https://auto.ru/cars/used/sale/porsche/cayenne...\n",
       "Name: url_car, dtype: object"
      ]
     },
     "execution_count": 51,
     "metadata": {},
     "output_type": "execute_result"
    }
   ],
   "source": [
    "df.url_car[df.fuel_type == 'автомат']"
   ]
  },
  {
   "cell_type": "code",
   "execution_count": 54,
   "id": "angry-religion",
   "metadata": {},
   "outputs": [
    {
     "data": {
      "text/plain": [
       "'https://auto.ru/cars/used/sale/porsche/cayenne/1102188087-5ade2b77/'"
      ]
     },
     "execution_count": 54,
     "metadata": {},
     "output_type": "execute_result"
    }
   ],
   "source": [
    "df.url_car[43820]"
   ]
  },
  {
   "cell_type": "code",
   "execution_count": 55,
   "id": "checked-plastic",
   "metadata": {},
   "outputs": [
    {
     "name": "stderr",
     "output_type": "stream",
     "text": [
      "C:\\Users\\bou\\Anaconda3\\lib\\site-packages\\ipykernel_launcher.py:1: SettingWithCopyWarning: \n",
      "A value is trying to be set on a copy of a slice from a DataFrame\n",
      "\n",
      "See the caveats in the documentation: https://pandas.pydata.org/pandas-docs/stable/user_guide/indexing.html#returning-a-view-versus-a-copy\n",
      "  \"\"\"Entry point for launching an IPython kernel.\n"
     ]
    }
   ],
   "source": [
    "df.fuel_type[df.fuel_type == 'автомат'] = 'гибрид'"
   ]
  },
  {
   "cell_type": "code",
   "execution_count": 799,
   "id": "determined-collins",
   "metadata": {},
   "outputs": [
    {
     "data": {
      "text/plain": [
       "передний    32538\n",
       "полный      19558\n",
       "задний       7192\n",
       "Name: drive_unit, dtype: int64"
      ]
     },
     "execution_count": 799,
     "metadata": {},
     "output_type": "execute_result"
    }
   ],
   "source": [
    "df.drive_unit.value_counts()"
   ]
  },
  {
   "cell_type": "code",
   "execution_count": 782,
   "id": "reasonable-berry",
   "metadata": {},
   "outputs": [
    {
     "data": {
      "text/plain": [
       "38993    https://auto.ru/cars/used/sale/nissan/stagea/1...\n",
       "39366    https://auto.ru/cars/used/sale/nissan/bluebird...\n",
       "39451    https://auto.ru/cars/used/sale/nissan/otti/110...\n",
       "39729    https://auto.ru/cars/used/sale/nissan/cefiro/1...\n",
       "40142    https://auto.ru/cars/used/sale/nissan/altima/1...\n",
       "40247    https://auto.ru/cars/used/sale/nissan/gloria/1...\n",
       "40335    https://auto.ru/cars/used/sale/nissan/cefiro/1...\n",
       "40627    https://auto.ru/cars/used/sale/nissan/bluebird...\n",
       "40752    https://auto.ru/cars/used/sale/nissan/sunny/11...\n",
       "40849    https://auto.ru/cars/used/sale/nissan/prairie/...\n",
       "Name: url_car, dtype: object"
      ]
     },
     "execution_count": 782,
     "metadata": {},
     "output_type": "execute_result"
    }
   ],
   "source": [
    "df.url_car[df.drive_unit == 'АИ-95']"
   ]
  },
  {
   "cell_type": "code",
   "execution_count": 797,
   "id": "forced-antigua",
   "metadata": {},
   "outputs": [
    {
     "data": {
      "text/plain": [
       "'https://auto.ru/cars/used/sale/nissan/prairie/1101698810-4901c1be/'"
      ]
     },
     "execution_count": 797,
     "metadata": {},
     "output_type": "execute_result"
    }
   ],
   "source": [
    "df.url_car[40849]"
   ]
  },
  {
   "cell_type": "code",
   "execution_count": 798,
   "id": "expired-genius",
   "metadata": {},
   "outputs": [
    {
     "name": "stderr",
     "output_type": "stream",
     "text": [
      "C:\\Users\\bou\\Anaconda3\\lib\\site-packages\\ipykernel_launcher.py:1: SettingWithCopyWarning: \n",
      "A value is trying to be set on a copy of a slice from a DataFrame\n",
      "\n",
      "See the caveats in the documentation: https://pandas.pydata.org/pandas-docs/stable/user_guide/indexing.html#returning-a-view-versus-a-copy\n",
      "  \"\"\"Entry point for launching an IPython kernel.\n"
     ]
    }
   ],
   "source": [
    "df.drive_unit[(df.brand=='Nissan')&(df.model_name=='Prairie')] = 'передний'"
   ]
  },
  {
   "cell_type": "code",
   "execution_count": 1049,
   "id": "hungarian-fiber",
   "metadata": {},
   "outputs": [
    {
     "data": {
      "text/plain": [
       "Германия          17194\n",
       "Япония            12544\n",
       "Южная Корея        7975\n",
       "Россия             6423\n",
       "США                5759\n",
       "Франция            3378\n",
       "Чехия              2041\n",
       "Великобритания     1598\n",
       "Швеция             1114\n",
       "Китай               745\n",
       "Италия              187\n",
       "Украина             186\n",
       "Испания              74\n",
       "Узбекистан           74\n",
       "Name: vendor, dtype: int64"
      ]
     },
     "execution_count": 1049,
     "metadata": {},
     "output_type": "execute_result"
    }
   ],
   "source": [
    "df.vendor.value_counts()"
   ]
  },
  {
   "cell_type": "code",
   "execution_count": 1046,
   "id": "widespread-elevation",
   "metadata": {},
   "outputs": [
    {
     "data": {
      "text/plain": [
       "13524    https://auto.ru/cars/used/sale/geely/atlas/110...\n",
       "13533    https://auto.ru/cars/used/sale/geely/emgrand_x...\n",
       "13536    https://auto.ru/cars/used/sale/geely/atlas/110...\n",
       "13537    https://auto.ru/cars/used/sale/geely/atlas/110...\n",
       "13540    https://auto.ru/cars/used/sale/geely/emgrand_x...\n",
       "13546    https://auto.ru/cars/used/sale/geely/atlas/109...\n",
       "13549    https://auto.ru/cars/used/sale/geely/emgrand_x...\n",
       "13562    https://auto.ru/cars/used/sale/geely/atlas/110...\n",
       "13572    https://auto.ru/cars/used/sale/geely/emgrand_x...\n",
       "13575    https://auto.ru/cars/used/sale/geely/atlas/110...\n",
       "13576    https://auto.ru/cars/used/sale/geely/atlas/110...\n",
       "13579    https://auto.ru/cars/used/sale/geely/emgrand_x...\n",
       "13585    https://auto.ru/cars/used/sale/geely/atlas/109...\n",
       "13587    https://auto.ru/cars/used/sale/geely/emgrand_x...\n",
       "13613    https://auto.ru/cars/used/sale/geely/emgrand_x...\n",
       "13626    https://auto.ru/cars/used/sale/geely/emgrand_x...\n",
       "13633    https://auto.ru/cars/used/sale/geely/atlas/110...\n",
       "Name: url_car, dtype: object"
      ]
     },
     "execution_count": 1046,
     "metadata": {},
     "output_type": "execute_result"
    }
   ],
   "source": [
    "df.url_car[df.vendor == 'J']"
   ]
  },
  {
   "cell_type": "code",
   "execution_count": 1047,
   "id": "capable-violence",
   "metadata": {},
   "outputs": [
    {
     "data": {
      "text/plain": [
       "'https://auto.ru/cars/used/sale/geely/atlas/1099128840-addde401/'"
      ]
     },
     "execution_count": 1047,
     "metadata": {},
     "output_type": "execute_result"
    }
   ],
   "source": [
    "df.url_car[13546]"
   ]
  },
  {
   "cell_type": "code",
   "execution_count": 1048,
   "id": "accepted-corner",
   "metadata": {},
   "outputs": [
    {
     "name": "stderr",
     "output_type": "stream",
     "text": [
      "C:\\Users\\bou\\Anaconda3\\lib\\site-packages\\ipykernel_launcher.py:1: SettingWithCopyWarning: \n",
      "A value is trying to be set on a copy of a slice from a DataFrame\n",
      "\n",
      "See the caveats in the documentation: https://pandas.pydata.org/pandas-docs/stable/user_guide/indexing.html#returning-a-view-versus-a-copy\n",
      "  \"\"\"Entry point for launching an IPython kernel.\n"
     ]
    }
   ],
   "source": [
    "df.vendor[df.brand == 'Geely'] = 'Китай'"
   ]
  },
  {
   "cell_type": "code",
   "execution_count": 1050,
   "id": "interstate-living",
   "metadata": {},
   "outputs": [
    {
     "data": {
      "text/plain": [
       "array(['5', '4', '2', '4901', '3', '1610', 'J', '4573', '5034', '4790',\n",
       "       '4390', '4394', '4, 5', '5378', nan, 'S', '4859', '4910', '1450',\n",
       "       '3999', '4011', '4230', '1375', '4325', '1641', '1630', '1500',\n",
       "       '5, 7', '4321', '7, 8', '5697', '2037', '4643', '2000', '5202',\n",
       "       '4846', '5240', '1380', '7', '4200', '5560', '5278', '5131',\n",
       "       '4837', '4893', '2019', '2360', '4836', '4775', '5844', '4788',\n",
       "       '9', '5570', '1768', 'C', '5558', '4166', '4 / 5', '1758', '1430',\n",
       "       '4877', '5631', '1615', '2022', '4526', '5, 6', '4625', '4059',\n",
       "       '4602', '5103', '6062', '6025', '5052', '4908', '3632', '4805',\n",
       "       '5218', '4552', '5095', '5268', '4902', '5155', '6, 7', '4380',\n",
       "       '1803', '1470', '4590', '4770', '5816', '1948', '6', '6297',\n",
       "       '4755', '4560', '5308', '2120', '4536', '1320', '3546', '6, 9',\n",
       "       '5 / 5', '1722', '1832', '3 / 5', '4354', '8', '2 / 5', '4450',\n",
       "       '5603', '4613', '4480', '5050', '5382', '4585', '4572', '1649',\n",
       "       '4630', '4520', '5253', '5413', '5227', '1702', '5364', '5758',\n",
       "       '5088', '4930', '4760', '4653', '1765', '5, 9', '1800', '3950',\n",
       "       '4813', '5006', '1600', '4834', '1695', '4810', '5565', '4740',\n",
       "       '4610', '5397', '4440', '5230', '4340', '1701', '4438', '4362',\n",
       "       '3 / 4', '4870', '4774', '4882', '4190', '4574', '7, 9', '4470',\n",
       "       '4455', '4110', '4570', '4460', '4395', '4690', '1475', '5150',\n",
       "       '1820', '4695', '4685', '4530', '4747', '4085', '4820', '4117',\n",
       "       '4816', '4845', '4322', '3883', '4550', '4350', '4360', '4140',\n",
       "       '4245', '5550', '11', '1810', '3595', '4040', '4445', '5, 8',\n",
       "       '5047', '4429', '3808', '3925', '4490', '1763', '4655', '4670',\n",
       "       '1645', '1690', '4990', '4315', '1575', '4430', '4580', '1750',\n",
       "       '1590', '4665', '4295', '4700', '5008', '4686', '4880', '2, 4',\n",
       "       '5286', '4660', '5140', '2255', '4285', '6158', '4725', '4640',\n",
       "       '4290', '5238', '4950', '1880', '4920', '4595', '3295', '6, 8',\n",
       "       '4600', '1680', '4075', '4515', '4420', '3885', '4830', '4275',\n",
       "       '4100', '3395', '4320', '4650', '4720', '4400', '4821', '4915',\n",
       "       '4620', '5280', '1775', '1689', '4800', '3720', '4885', '4890',\n",
       "       '4565', '4850', '3825', '1679', '3695', '4636', '3980', '4795',\n",
       "       '4780', '4860', '4675', '4825', '4895', '4522', '4229', '4545',\n",
       "       '1540', '1580', '1573', '1625', '1420', '4212', '4703', '4137',\n",
       "       '4146', '4963', '1295', '1670', '4250', '1191', '4559', '3859',\n",
       "       '4202', '3430', '4205', '1520', '1400', '1620', '4485', '4415',\n",
       "       '4635', '3645', '3470', '4031', '4150', '4125', '3560', '3745',\n",
       "       '5300', '4300', '4801', '5220', '3635', '4705', '5809', '1095',\n",
       "       '4715', '4966', '5105', '4970', '4, 8', '4995', '4875', '5380',\n",
       "       '4351', '3841', '5250', '3995', '4500', '4840', '3900', '5210',\n",
       "       '5260', '4070', '4215', '1655', '5545', '4330', '4171', '4750',\n",
       "       '3970', '3990', '4435', '4045', '4145', '3955', '4214', '4155',\n",
       "       '3785', '4410', '4365', '4270', '4080', '5090', '4865', '1440',\n",
       "       '5036', '4053', '2, 3', 'EuroNCAP', '1845', '1960', '4789', '1840',\n",
       "       '4060', '4569', '5292', '1665', '4659', '1700', '4669', '4707',\n",
       "       '1707', '4735', '3850', '1790', '5700', '3730', '4210', '5125',\n",
       "       '4025'], dtype=object)"
      ]
     },
     "execution_count": 1050,
     "metadata": {},
     "output_type": "execute_result"
    }
   ],
   "source": [
    "df.number_of_doors.unique()"
   ]
  },
  {
   "cell_type": "code",
   "execution_count": 1051,
   "id": "changing-plymouth",
   "metadata": {},
   "outputs": [],
   "source": [
    "df.to_csv('car_parser_ver02.csv', index=False)"
   ]
  },
  {
   "cell_type": "code",
   "execution_count": null,
   "id": "continuing-energy",
   "metadata": {},
   "outputs": [],
   "source": []
  }
 ],
 "metadata": {
  "kernelspec": {
   "display_name": "Python 3",
   "language": "python",
   "name": "python3"
  },
  "language_info": {
   "codemirror_mode": {
    "name": "ipython",
    "version": 3
   },
   "file_extension": ".py",
   "mimetype": "text/x-python",
   "name": "python",
   "nbconvert_exporter": "python",
   "pygments_lexer": "ipython3",
   "version": "3.7.9"
  }
 },
 "nbformat": 4,
 "nbformat_minor": 5
}
