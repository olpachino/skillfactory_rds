{
 "cells": [
  {
   "cell_type": "code",
   "execution_count": 1,
   "id": "adjusted-sauce",
   "metadata": {},
   "outputs": [],
   "source": [
    "# Импортируем наши библиотеки    \n",
    "from bs4 import BeautifulSoup    \n",
    "import requests    "
   ]
  },
  {
   "cell_type": "code",
   "execution_count": 2,
   "id": "partial-prevention",
   "metadata": {},
   "outputs": [],
   "source": [
    "# Получаем данные\n",
    "url = 'https://nplus1.ru/news/2019/06/04/slothbot'   \n",
    "response = requests.get(url)    "
   ]
  },
  {
   "cell_type": "code",
   "execution_count": 3,
   "id": "suspended-strand",
   "metadata": {},
   "outputs": [],
   "source": [
    "# Теперь создадим объект BeautifulSoup, указывая html парсер    \n",
    "page = BeautifulSoup(response.text, 'html.parser')    "
   ]
  },
  {
   "cell_type": "code",
   "execution_count": 4,
   "id": "damaged-orange",
   "metadata": {},
   "outputs": [
    {
     "name": "stdout",
     "output_type": "stream",
     "text": [
      "<title>Робота-ленивца научили лазать по паутине из тросов</title>\n"
     ]
    }
   ],
   "source": [
    "# Всё готово, чтобы получать данные из страницы    \n",
    "# Для начала получим title, отображающийся на закладках браузера    \n",
    "print(page.title)  "
   ]
  },
  {
   "cell_type": "code",
   "execution_count": 5,
   "id": "psychological-machine",
   "metadata": {},
   "outputs": [
    {
     "data": {
      "text/plain": [
       "'Робота-ленивца научили лазать по паутине из тросов'"
      ]
     },
     "execution_count": 5,
     "metadata": {},
     "output_type": "execute_result"
    }
   ],
   "source": [
    "# Мы получили тэг. Чтобы достать из него текст, вызовем атрибут text    \n",
    "page.title.text    "
   ]
  },
  {
   "cell_type": "markdown",
   "id": "casual-rubber",
   "metadata": {},
   "source": [
    "Мы получили данные из title, но как нам забрать текст с самой страницы? Мы можем сделать это, запросив содержимое определённых тэгов. \n",
    "\n",
    "Пусть мы знаем, что заголовок статьи находится в тэге h1. Тогда мы можем получить его текст с помощью метода find"
   ]
  },
  {
   "cell_type": "code",
   "execution_count": 6,
   "id": "transsexual-acceptance",
   "metadata": {},
   "outputs": [
    {
     "name": "stdout",
     "output_type": "stream",
     "text": [
      "Робота-ленивца научили лазать по паутине из тросов\n"
     ]
    }
   ],
   "source": [
    "print(page.find('h1').text)   "
   ]
  },
  {
   "cell_type": "markdown",
   "id": "small-environment",
   "metadata": {},
   "source": [
    "### Задание\n",
    "Напишите функцию wiki_header, которая по адресу страницы возвращает заголовок для статей на википедии\n",
    "\n",
    "wiki_header('https://en.wikipedia.org/wiki/Operating_system')\n",
    "\n",
    "=> 'Operating system'"
   ]
  },
  {
   "cell_type": "code",
   "execution_count": 7,
   "id": "arabic-elizabeth",
   "metadata": {},
   "outputs": [],
   "source": [
    "def wiki_header(wiki_url):\n",
    "    wiki_response = requests.get(wiki_url)\n",
    "    wiki_page = BeautifulSoup(wiki_response.text, 'html.parser') \n",
    "    return wiki_page.find('h1').text  "
   ]
  },
  {
   "cell_type": "code",
   "execution_count": 8,
   "id": "complimentary-november",
   "metadata": {},
   "outputs": [
    {
     "data": {
      "text/plain": [
       "'Operating system'"
      ]
     },
     "execution_count": 8,
     "metadata": {},
     "output_type": "execute_result"
    }
   ],
   "source": [
    "wiki_header('https://en.wikipedia.org/wiki/Operating_system')"
   ]
  },
  {
   "cell_type": "markdown",
   "id": "olympic-commodity",
   "metadata": {},
   "source": [
    "У вас есть переменная page, в которой хранится содержимое html-страницы. На странице есть элемент в тэге span, у которого атрибут id равен 'target'. Напишите строчку кода, которая присвоит текст этого элемента переменной value.\n",
    "\n",
    "Запишите ваш код в одну строку без пробелов. Используйте апострофы для передачи параметров, содержащих значение тэга и его id."
   ]
  },
  {
   "cell_type": "code",
   "execution_count": null,
   "id": "geological-hughes",
   "metadata": {},
   "outputs": [],
   "source": [
    "value = page.find('span', id='target').text"
   ]
  },
  {
   "cell_type": "markdown",
   "id": "enclosed-given",
   "metadata": {},
   "source": [
    "### Задание\n",
    "Напишите функцию get_actors, которая по ссылке на страницу фильма на кинопоиске возвращает список актёров из колонки справа\n",
    "\n",
    "##### NB: Если делать запросы слишком часто, Кинопоиск начинает выдавать капчу, поэтому старайтесь при отладке не делать больше одного запроса в секунду.\n",
    "\n",
    "##### ВНИМАНИЕ! В настоящий момент времени на сайте Кинопоиска изменилась структура контента и применяется более интеллектуальная капча. Задание находится на стадии доработки и не обязательно для выполнения.\n",
    "\n"
   ]
  },
  {
   "cell_type": "code",
   "execution_count": null,
   "id": "damaged-things",
   "metadata": {},
   "outputs": [],
   "source": [
    "# Решение может не работать для новой платформы Кинопоиска\n",
    "from bs4 import BeautifulSoup\n",
    "import requests\n",
    "\n",
    "def get_actors(url):\n",
    "    list_actors = []\n",
    "    response = requests.get(url)\n",
    "    page = BeautifulSoup(response.text, 'html.parser')\n",
    "    actors = page.find_all('li', itemprop='actors')\n",
    "    for actor in actors:\n",
    "        list_actors.append(actor.text)\n",
    "    return list_actors"
   ]
  },
  {
   "cell_type": "markdown",
   "id": "separate-program",
   "metadata": {},
   "source": [
    "### Задание\n",
    "Напишите программу, которая забирает данные из таблицы рейтинга банков с https://www.banki.ru/banks/ratings/, делает из него датафрейм и сохраняет его в переменую df."
   ]
  },
  {
   "cell_type": "code",
   "execution_count": 9,
   "id": "serious-washington",
   "metadata": {},
   "outputs": [],
   "source": [
    "from bs4 import BeautifulSoup\n",
    "import pandas as pd\n",
    "import requests\n",
    "\n",
    "url = 'https://www.banki.ru/banks/ratings/'\n",
    "soup = BeautifulSoup(requests.get(url, headers={'User-Agent': 'Mozilla/5.0'}).text, 'html.parser')\n",
    "data = soup.find('table')\n",
    "df = pd.read_html(str(data))[0]"
   ]
  }
 ],
 "metadata": {
  "kernelspec": {
   "display_name": "Python 3",
   "language": "python",
   "name": "python3"
  },
  "language_info": {
   "codemirror_mode": {
    "name": "ipython",
    "version": 3
   },
   "file_extension": ".py",
   "mimetype": "text/x-python",
   "name": "python",
   "nbconvert_exporter": "python",
   "pygments_lexer": "ipython3",
   "version": "3.7.9"
  }
 },
 "nbformat": 4,
 "nbformat_minor": 5
}
