{
 "cells": [
  {
   "cell_type": "code",
   "execution_count": 2,
   "metadata": {},
   "outputs": [],
   "source": [
    "import pandas as pd\n",
    "import numpy as np\n",
    "from datetime import datetime, timedelta\n",
    "\n",
    "log = pd.read_csv('log.csv', header=None, names=['user_id', 'time', 'bet', 'win'])"
   ]
  },
  {
   "cell_type": "code",
   "execution_count": 3,
   "metadata": {},
   "outputs": [],
   "source": [
    "log = log.dropna()"
   ]
  },
  {
   "cell_type": "code",
   "execution_count": 4,
   "metadata": {},
   "outputs": [
    {
     "name": "stdout",
     "output_type": "stream",
     "text": [
      "<class 'pandas.core.frame.DataFrame'>\n",
      "Int64Index: 133 entries, 14 to 991\n",
      "Data columns (total 4 columns):\n",
      " #   Column   Non-Null Count  Dtype  \n",
      "---  ------   --------------  -----  \n",
      " 0   user_id  133 non-null    object \n",
      " 1   time     133 non-null    object \n",
      " 2   bet      133 non-null    float64\n",
      " 3   win      133 non-null    float64\n",
      "dtypes: float64(2), object(2)\n",
      "memory usage: 5.2+ KB\n"
     ]
    },
    {
     "data": {
      "text/html": [
       "<div>\n",
       "<style scoped>\n",
       "    .dataframe tbody tr th:only-of-type {\n",
       "        vertical-align: middle;\n",
       "    }\n",
       "\n",
       "    .dataframe tbody tr th {\n",
       "        vertical-align: top;\n",
       "    }\n",
       "\n",
       "    .dataframe thead th {\n",
       "        text-align: right;\n",
       "    }\n",
       "</style>\n",
       "<table border=\"1\" class=\"dataframe\">\n",
       "  <thead>\n",
       "    <tr style=\"text-align: right;\">\n",
       "      <th></th>\n",
       "      <th>user_id</th>\n",
       "      <th>time</th>\n",
       "      <th>bet</th>\n",
       "      <th>win</th>\n",
       "    </tr>\n",
       "  </thead>\n",
       "  <tbody>\n",
       "    <tr>\n",
       "      <th>14</th>\n",
       "      <td>Запись пользователя № - user_917</td>\n",
       "      <td>[2019-01-02 8:57:36</td>\n",
       "      <td>145732.0</td>\n",
       "      <td>1987653.0</td>\n",
       "    </tr>\n",
       "    <tr>\n",
       "      <th>29</th>\n",
       "      <td>Запись пользователя № - user_942</td>\n",
       "      <td>[2019-01-04 13:59:42</td>\n",
       "      <td>1678321.0</td>\n",
       "      <td>9876543.0</td>\n",
       "    </tr>\n",
       "    <tr>\n",
       "      <th>151</th>\n",
       "      <td>Запись пользователя № - user_982</td>\n",
       "      <td>[2019-01-16 21:54:22</td>\n",
       "      <td>100.0</td>\n",
       "      <td>4749.0</td>\n",
       "    </tr>\n",
       "    <tr>\n",
       "      <th>189</th>\n",
       "      <td>Запись пользователя № - user_964</td>\n",
       "      <td>[2019-01-21 18:34:44</td>\n",
       "      <td>200.0</td>\n",
       "      <td>4667.0</td>\n",
       "    </tr>\n",
       "    <tr>\n",
       "      <th>205</th>\n",
       "      <td>Запись пользователя № - user_931</td>\n",
       "      <td>[2019-01-22 5:26:59</td>\n",
       "      <td>300.0</td>\n",
       "      <td>4319.0</td>\n",
       "    </tr>\n",
       "  </tbody>\n",
       "</table>\n",
       "</div>"
      ],
      "text/plain": [
       "                              user_id                  time        bet  \\\n",
       "14   Запись пользователя № - user_917   [2019-01-02 8:57:36   145732.0   \n",
       "29   Запись пользователя № - user_942  [2019-01-04 13:59:42  1678321.0   \n",
       "151  Запись пользователя № - user_982  [2019-01-16 21:54:22      100.0   \n",
       "189  Запись пользователя № - user_964  [2019-01-21 18:34:44      200.0   \n",
       "205  Запись пользователя № - user_931   [2019-01-22 5:26:59      300.0   \n",
       "\n",
       "           win  \n",
       "14   1987653.0  \n",
       "29   9876543.0  \n",
       "151     4749.0  \n",
       "189     4667.0  \n",
       "205     4319.0  "
      ]
     },
     "execution_count": 4,
     "metadata": {},
     "output_type": "execute_result"
    }
   ],
   "source": [
    "log.info()\n",
    "log.head()"
   ]
  },
  {
   "cell_type": "code",
   "execution_count": 6,
   "metadata": {},
   "outputs": [],
   "source": [
    "log.time = log.time.apply(lambda x: x[1:])\n",
    "log.time = pd.to_datetime(log['time'])  "
   ]
  },
  {
   "cell_type": "code",
   "execution_count": 8,
   "metadata": {},
   "outputs": [
    {
     "data": {
      "text/html": [
       "<div>\n",
       "<style scoped>\n",
       "    .dataframe tbody tr th:only-of-type {\n",
       "        vertical-align: middle;\n",
       "    }\n",
       "\n",
       "    .dataframe tbody tr th {\n",
       "        vertical-align: top;\n",
       "    }\n",
       "\n",
       "    .dataframe thead th {\n",
       "        text-align: right;\n",
       "    }\n",
       "</style>\n",
       "<table border=\"1\" class=\"dataframe\">\n",
       "  <thead>\n",
       "    <tr style=\"text-align: right;\">\n",
       "      <th></th>\n",
       "      <th>user_id</th>\n",
       "      <th>time</th>\n",
       "      <th>bet</th>\n",
       "      <th>win</th>\n",
       "      <th>hour</th>\n",
       "    </tr>\n",
       "  </thead>\n",
       "  <tbody>\n",
       "    <tr>\n",
       "      <th>14</th>\n",
       "      <td>Запись пользователя № - user_917</td>\n",
       "      <td>2019-01-02 08:57:36</td>\n",
       "      <td>145732.0</td>\n",
       "      <td>1987653.0</td>\n",
       "      <td>8</td>\n",
       "    </tr>\n",
       "    <tr>\n",
       "      <th>29</th>\n",
       "      <td>Запись пользователя № - user_942</td>\n",
       "      <td>2019-01-04 13:59:42</td>\n",
       "      <td>1678321.0</td>\n",
       "      <td>9876543.0</td>\n",
       "      <td>13</td>\n",
       "    </tr>\n",
       "    <tr>\n",
       "      <th>151</th>\n",
       "      <td>Запись пользователя № - user_982</td>\n",
       "      <td>2019-01-16 21:54:22</td>\n",
       "      <td>100.0</td>\n",
       "      <td>4749.0</td>\n",
       "      <td>21</td>\n",
       "    </tr>\n",
       "    <tr>\n",
       "      <th>189</th>\n",
       "      <td>Запись пользователя № - user_964</td>\n",
       "      <td>2019-01-21 18:34:44</td>\n",
       "      <td>200.0</td>\n",
       "      <td>4667.0</td>\n",
       "      <td>18</td>\n",
       "    </tr>\n",
       "    <tr>\n",
       "      <th>205</th>\n",
       "      <td>Запись пользователя № - user_931</td>\n",
       "      <td>2019-01-22 05:26:59</td>\n",
       "      <td>300.0</td>\n",
       "      <td>4319.0</td>\n",
       "      <td>5</td>\n",
       "    </tr>\n",
       "  </tbody>\n",
       "</table>\n",
       "</div>"
      ],
      "text/plain": [
       "                              user_id                time        bet  \\\n",
       "14   Запись пользователя № - user_917 2019-01-02 08:57:36   145732.0   \n",
       "29   Запись пользователя № - user_942 2019-01-04 13:59:42  1678321.0   \n",
       "151  Запись пользователя № - user_982 2019-01-16 21:54:22      100.0   \n",
       "189  Запись пользователя № - user_964 2019-01-21 18:34:44      200.0   \n",
       "205  Запись пользователя № - user_931 2019-01-22 05:26:59      300.0   \n",
       "\n",
       "           win  hour  \n",
       "14   1987653.0     8  \n",
       "29   9876543.0    13  \n",
       "151     4749.0    21  \n",
       "189     4667.0    18  \n",
       "205     4319.0     5  "
      ]
     },
     "execution_count": 8,
     "metadata": {},
     "output_type": "execute_result"
    }
   ],
   "source": [
    "log['hour'] = log.time.apply(lambda x: x.hour)\n",
    "log.head()"
   ]
  }
 ],
 "metadata": {
  "kernelspec": {
   "display_name": "Python 3",
   "language": "python",
   "name": "python3"
  },
  "language_info": {
   "codemirror_mode": {
    "name": "ipython",
    "version": 3
   },
   "file_extension": ".py",
   "mimetype": "text/x-python",
   "name": "python",
   "nbconvert_exporter": "python",
   "pygments_lexer": "ipython3",
   "version": "3.7.6"
  }
 },
 "nbformat": 4,
 "nbformat_minor": 4
}
