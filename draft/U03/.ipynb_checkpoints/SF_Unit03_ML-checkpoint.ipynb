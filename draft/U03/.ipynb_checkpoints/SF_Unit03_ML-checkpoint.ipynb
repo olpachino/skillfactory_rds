{
 "cells": [
  {
   "cell_type": "code",
   "execution_count": 1,
   "metadata": {},
   "outputs": [],
   "source": [
    "import pandas as pd\n",
    "import numpy as np\n",
    "import re\n",
    "from datetime import datetime, timedelta"
   ]
  },
  {
   "cell_type": "code",
   "execution_count": 2,
   "metadata": {},
   "outputs": [],
   "source": [
    "main = pd.read_csv('main_task.csv')"
   ]
  },
  {
   "cell_type": "code",
   "execution_count": null,
   "metadata": {},
   "outputs": [],
   "source": [
    "main.info()"
   ]
  },
  {
   "cell_type": "code",
   "execution_count": null,
   "metadata": {},
   "outputs": [],
   "source": [
    "main.head(5)"
   ]
  },
  {
   "cell_type": "code",
   "execution_count": null,
   "metadata": {},
   "outputs": [],
   "source": [
    "main.iloc[16]"
   ]
  },
  {
   "cell_type": "code",
   "execution_count": null,
   "metadata": {},
   "outputs": [],
   "source": [
    "list_city = list(main['City'].unique())"
   ]
  },
  {
   "cell_type": "code",
   "execution_count": null,
   "metadata": {},
   "outputs": [],
   "source": [
    "main['City'].value_counts()"
   ]
  },
  {
   "cell_type": "code",
   "execution_count": null,
   "metadata": {},
   "outputs": [],
   "source": [
    "main['Price Range'].value_counts()"
   ]
  },
  {
   "cell_type": "code",
   "execution_count": 3,
   "metadata": {},
   "outputs": [
    {
     "name": "stdout",
     "output_type": "stream",
     "text": [
      "<class 'pandas.core.frame.DataFrame'>\n",
      "RangeIndex: 40000 entries, 0 to 39999\n",
      "Data columns (total 10 columns):\n",
      " #   Column             Non-Null Count  Dtype  \n",
      "---  ------             --------------  -----  \n",
      " 0   Restaurant_id      40000 non-null  object \n",
      " 1   City               40000 non-null  object \n",
      " 2   Cuisine Style      40000 non-null  object \n",
      " 3   Ranking            40000 non-null  float64\n",
      " 4   Rating             40000 non-null  float64\n",
      " 5   Price Range        26114 non-null  object \n",
      " 6   Number of Reviews  37457 non-null  float64\n",
      " 7   Reviews            40000 non-null  object \n",
      " 8   URL_TA             40000 non-null  object \n",
      " 9   ID_TA              40000 non-null  object \n",
      "dtypes: float64(3), object(7)\n",
      "memory usage: 3.1+ MB\n"
     ]
    }
   ],
   "source": [
    "main['Cuisine Style'].fillna(\"['Not data']\", axis=0, inplace=True)\n",
    "main.info()"
   ]
  },
  {
   "cell_type": "code",
   "execution_count": 4,
   "metadata": {},
   "outputs": [],
   "source": [
    "main['Cuisine Style'] = main['Cuisine Style'].apply(lambda x: x[2:-2])"
   ]
  },
  {
   "cell_type": "code",
   "execution_count": 5,
   "metadata": {},
   "outputs": [],
   "source": [
    "main['Cuisine Style'] = main['Cuisine Style'].str.split(\"', '\")"
   ]
  },
  {
   "cell_type": "code",
   "execution_count": null,
   "metadata": {},
   "outputs": [],
   "source": [
    "main['Cuisine Style']"
   ]
  },
  {
   "cell_type": "code",
   "execution_count": 6,
   "metadata": {},
   "outputs": [
    {
     "data": {
      "text/plain": [
       "126"
      ]
     },
     "execution_count": 6,
     "metadata": {},
     "output_type": "execute_result"
    }
   ],
   "source": [
    "cuisins = set()\n",
    "for cuisins_style in main['Cuisine Style']:\n",
    "    for cuisin in cuisins_style:\n",
    "        cuisins.add(cuisin)\n",
    "\n",
    "len(cuisins)"
   ]
  },
  {
   "cell_type": "code",
   "execution_count": 7,
   "metadata": {},
   "outputs": [
    {
     "data": {
      "text/plain": [
       "{'Wine Bar': 697,\n",
       " 'European': 10060,\n",
       " 'Romanian': 10,\n",
       " 'Danish': 177,\n",
       " 'Seafood': 1505,\n",
       " 'Yunnan': 1,\n",
       " 'Cafe': 2325,\n",
       " 'Mongolian': 14,\n",
       " 'Cambodian': 20,\n",
       " 'Croatian': 27,\n",
       " 'Moroccan': 141,\n",
       " 'Central Asian': 12,\n",
       " 'Burmese': 1,\n",
       " 'Fujian': 2,\n",
       " 'Halal': 598,\n",
       " 'Welsh': 2,\n",
       " 'Belgian': 270,\n",
       " 'Chilean': 8,\n",
       " 'Polish': 365,\n",
       " 'Brazilian': 127,\n",
       " 'German': 662,\n",
       " 'Diner': 295,\n",
       " 'Xinjiang': 1,\n",
       " 'Fast Food': 1705,\n",
       " 'Pakistani': 123,\n",
       " 'Central American': 135,\n",
       " 'Azerbaijani': 2,\n",
       " 'Japanese': 1464,\n",
       " 'Scottish': 163,\n",
       " 'Afghani': 22,\n",
       " 'Grill': 490,\n",
       " 'Indian': 1041,\n",
       " 'Korean': 167,\n",
       " 'Caucasian': 4,\n",
       " 'Delicatessen': 392,\n",
       " 'Israeli': 74,\n",
       " 'Arabic': 51,\n",
       " 'Irish': 284,\n",
       " 'Pizza': 2849,\n",
       " 'Balti': 83,\n",
       " 'South American': 372,\n",
       " 'Taiwanese': 22,\n",
       " 'Chinese': 1145,\n",
       " 'Singaporean': 19,\n",
       " 'Thai': 743,\n",
       " 'Hawaiian': 21,\n",
       " 'Dutch': 294,\n",
       " 'Austrian': 380,\n",
       " 'Brew Pub': 225,\n",
       " 'Mediterranean': 6277,\n",
       " 'Norwegian': 75,\n",
       " 'Asian': 3011,\n",
       " 'Swiss': 178,\n",
       " 'Vegetarian Friendly': 11189,\n",
       " 'Sushi': 1156,\n",
       " 'Barbecue': 555,\n",
       " 'Slovenian': 68,\n",
       " 'Native American': 4,\n",
       " 'Armenian': 14,\n",
       " 'Peruvian': 94,\n",
       " 'Venezuelan': 40,\n",
       " 'Caribbean': 93,\n",
       " 'Steakhouse': 573,\n",
       " 'American': 1315,\n",
       " 'Persian': 53,\n",
       " 'Vegan Options': 4486,\n",
       " 'Vietnamese': 513,\n",
       " 'French': 3190,\n",
       " 'New Zealand': 6,\n",
       " 'Pub': 2449,\n",
       " 'Filipino': 12,\n",
       " 'Salvadoran': 1,\n",
       " 'Central European': 1393,\n",
       " 'Albanian': 8,\n",
       " 'Latvian': 1,\n",
       " 'Middle Eastern': 782,\n",
       " 'Soups': 494,\n",
       " 'Tibetan': 24,\n",
       " 'Colombian': 20,\n",
       " 'Street Food': 263,\n",
       " 'Italian': 5964,\n",
       " 'Mexican': 445,\n",
       " 'Polynesian': 2,\n",
       " 'Hungarian': 352,\n",
       " 'Gastropub': 471,\n",
       " 'African': 154,\n",
       " 'Uzbek': 5,\n",
       " 'Georgian': 17,\n",
       " 'Fusion': 577,\n",
       " 'Jamaican': 25,\n",
       " 'Tunisian': 21,\n",
       " 'Argentinean': 169,\n",
       " 'Portuguese': 1107,\n",
       " 'Sri Lankan': 25,\n",
       " 'Gluten Free Options': 4113,\n",
       " 'Ecuadorean': 4,\n",
       " 'Nepali': 83,\n",
       " 'Bangladeshi': 76,\n",
       " 'Spanish': 2798,\n",
       " 'Czech': 595,\n",
       " 'Cuban': 23,\n",
       " 'Greek': 604,\n",
       " 'Australian': 24,\n",
       " 'Eastern European': 496,\n",
       " 'Cajun & Creole': 20,\n",
       " 'British': 1595,\n",
       " 'Not data': 9283,\n",
       " 'Southwestern': 17,\n",
       " 'Contemporary': 523,\n",
       " 'Lebanese': 329,\n",
       " 'Scandinavian': 342,\n",
       " 'Healthy': 620,\n",
       " 'Latin': 302,\n",
       " 'Russian': 58,\n",
       " 'Egyptian': 20,\n",
       " 'Indonesian': 59,\n",
       " 'Canadian': 5,\n",
       " 'Kosher': 48,\n",
       " 'International': 1584,\n",
       " 'Minority Chinese': 11,\n",
       " 'Ethiopian': 42,\n",
       " 'Bar': 3297,\n",
       " 'Malaysian': 31,\n",
       " 'Turkish': 444,\n",
       " 'Ukrainian': 18,\n",
       " 'Swedish': 171}"
      ]
     },
     "execution_count": 7,
     "metadata": {},
     "output_type": "execute_result"
    }
   ],
   "source": [
    "popular_cuisins = {}\n",
    "for item in cuisins:\n",
    "    popular_cuisins[item] = 0\n",
    "for cuisins in main['Cuisine Style']:\n",
    "    for item in cuisins:\n",
    "        popular_cuisins[item] += 1\n",
    "        \n",
    "popular_cuisins"
   ]
  },
  {
   "cell_type": "code",
   "execution_count": 8,
   "metadata": {},
   "outputs": [],
   "source": [
    "main['Many cuisins'] = main['Cuisine Style'].apply(lambda x: len(x))"
   ]
  },
  {
   "cell_type": "code",
   "execution_count": null,
   "metadata": {},
   "outputs": [],
   "source": [
    "main['Many cuisins'].mean()"
   ]
  },
  {
   "cell_type": "code",
   "execution_count": null,
   "metadata": {},
   "outputs": [],
   "source": [
    "main['Reviews'][0]"
   ]
  },
  {
   "cell_type": "code",
   "execution_count": null,
   "metadata": {},
   "outputs": [],
   "source": [
    "main['Reviews'][3]"
   ]
  },
  {
   "cell_type": "code",
   "execution_count": 9,
   "metadata": {},
   "outputs": [],
   "source": [
    "main['Date reviews'] = main['Reviews'].apply(lambda x: re.findall(r'\\d{2}/\\d{2}/\\d{4}', x))"
   ]
  },
  {
   "cell_type": "code",
   "execution_count": 10,
   "metadata": {},
   "outputs": [
    {
     "data": {
      "text/plain": [
       "0     [12/31/2017, 11/20/2017]\n",
       "1     [07/06/2017, 06/19/2016]\n",
       "2     [01/08/2018, 01/06/2018]\n",
       "3                           []\n",
       "4     [11/18/2017, 02/19/2017]\n",
       "5     [09/16/2017, 05/31/2017]\n",
       "6     [08/04/2017, 11/05/2017]\n",
       "7     [02/16/2014, 06/13/2012]\n",
       "8                           []\n",
       "9     [11/07/2017, 03/27/2017]\n",
       "10                          []\n",
       "11    [12/15/2017, 11/22/2017]\n",
       "12    [01/07/2018, 12/27/2017]\n",
       "13    [07/25/2017, 05/30/2017]\n",
       "14                          []\n",
       "15    [12/01/2017, 09/14/2017]\n",
       "16                [04/12/2017]\n",
       "17    [02/28/2017, 10/31/2016]\n",
       "18    [08/16/2017, 10/21/2016]\n",
       "19    [04/12/2016, 08/13/2015]\n",
       "Name: Date reviews, dtype: object"
      ]
     },
     "execution_count": 10,
     "metadata": {},
     "output_type": "execute_result"
    }
   ],
   "source": [
    "main['Date reviews'].head(20)"
   ]
  },
  {
   "cell_type": "code",
   "execution_count": null,
   "metadata": {},
   "outputs": [],
   "source": [
    "main.info()"
   ]
  },
  {
   "cell_type": "code",
   "execution_count": 11,
   "metadata": {},
   "outputs": [],
   "source": [
    "time_date = set()\n",
    "for date_reviews in main['Date reviews']:\n",
    "    for date in date_reviews:\n",
    "        time_date.add(date)\n",
    "\n",
    "time_date = list(time_date)\n",
    "#time_date = time_date.apply(lambda x: datetime.strptime(x, '%m/%d/%Y'))\n",
    "time_date = [datetime.strptime(x, '%m/%d/%Y') for x in time_date]"
   ]
  },
  {
   "cell_type": "code",
   "execution_count": 23,
   "metadata": {},
   "outputs": [
    {
     "data": {
      "text/plain": [
       "'Mon Feb 26 00:00:00 2018'"
      ]
     },
     "execution_count": 23,
     "metadata": {},
     "output_type": "execute_result"
    }
   ],
   "source": [
    "import time\n",
    "\n",
    "time.ctime(max(list(map(datetime.timestamp, time_date))))"
   ]
  },
  {
   "cell_type": "code",
   "execution_count": 19,
   "metadata": {},
   "outputs": [
    {
     "name": "stderr",
     "output_type": "stream",
     "text": [
      "C:\\Users\\obond\\anaconda3\\lib\\site-packages\\ipykernel_launcher.py:2: SettingWithCopyWarning: \n",
      "A value is trying to be set on a copy of a slice from a DataFrame\n",
      "\n",
      "See the caveats in the documentation: https://pandas.pydata.org/pandas-docs/stable/user_guide/indexing.html#returning-a-view-versus-a-copy\n",
      "  \n"
     ]
    }
   ],
   "source": [
    "for i in range(len(main['Date reviews'])):\n",
    "    main['Date reviews'][i] = [datetime.strptime(x, '%m/%d/%Y') for x in main['Date reviews'][i]]"
   ]
  },
  {
   "cell_type": "code",
   "execution_count": 21,
   "metadata": {},
   "outputs": [
    {
     "data": {
      "text/plain": [
       "[datetime.datetime(2017, 12, 31, 0, 0), datetime.datetime(2017, 11, 20, 0, 0)]"
      ]
     },
     "execution_count": 21,
     "metadata": {},
     "output_type": "execute_result"
    }
   ],
   "source": [
    "main['Date reviews'][0]"
   ]
  },
  {
   "cell_type": "code",
   "execution_count": 26,
   "metadata": {},
   "outputs": [
    {
     "data": {
      "text/plain": [
       "3207"
      ]
     },
     "execution_count": 26,
     "metadata": {},
     "output_type": "execute_result"
    }
   ],
   "source": [
    "max_time_delta = 0\n",
    "for date_reviews in main['Date reviews']:\n",
    "    if len(date_reviews) == 2:\n",
    "        delta = abs(date_reviews[0] - date_reviews[1])\n",
    "        if delta.days > max_time_delta:\n",
    "            max_time_delta = delta.days\n",
    "            \n",
    "            \n",
    "max_time_delta"
   ]
  },
  {
   "cell_type": "code",
   "execution_count": null,
   "metadata": {},
   "outputs": [],
   "source": []
  }
 ],
 "metadata": {
  "kernelspec": {
   "display_name": "Python 3",
   "language": "python",
   "name": "python3"
  },
  "language_info": {
   "codemirror_mode": {
    "name": "ipython",
    "version": 3
   },
   "file_extension": ".py",
   "mimetype": "text/x-python",
   "name": "python",
   "nbconvert_exporter": "python",
   "pygments_lexer": "ipython3",
   "version": "3.7.6"
  }
 },
 "nbformat": 4,
 "nbformat_minor": 4
}
