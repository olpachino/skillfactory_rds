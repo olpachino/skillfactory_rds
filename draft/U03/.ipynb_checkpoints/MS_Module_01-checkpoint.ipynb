{
 "cells": [
  {
   "cell_type": "code",
   "execution_count": 14,
   "metadata": {},
   "outputs": [],
   "source": [
    "import numpy as np\n",
    "apartment = np.array([59.50, 31.40, 19, 2, 60550, 2])"
   ]
  },
  {
   "cell_type": "code",
   "execution_count": 15,
   "metadata": {},
   "outputs": [
    {
     "name": "stdout",
     "output_type": "stream",
     "text": [
      "ndim: 1\n",
      "shape: (6,)\n"
     ]
    }
   ],
   "source": [
    "print(\"ndim:\", apartment.ndim) # число осей (измерений) массива - n.dim: 1\n",
    "print(\"shape:\", apartment.shape) # размеры массива, для вектора определена только длина - shape: (6, )"
   ]
  },
  {
   "cell_type": "code",
   "execution_count": 16,
   "metadata": {},
   "outputs": [],
   "source": [
    "# вычислим долю жилой площади в квартире\n",
    "share_living_space = apartment[1] / apartment[0]"
   ]
  },
  {
   "cell_type": "code",
   "execution_count": 17,
   "metadata": {},
   "outputs": [],
   "source": [
    "apartment = np.delete(apartment, [0, 1])"
   ]
  },
  {
   "cell_type": "code",
   "execution_count": 18,
   "metadata": {},
   "outputs": [
    {
     "data": {
      "text/plain": [
       "array([1.90000000e+01, 2.00000000e+00, 6.05500000e+04, 2.00000000e+00,\n",
       "       5.27731092e-01])"
      ]
     },
     "metadata": {},
     "output_type": "display_data"
    }
   ],
   "source": [
    "apartment = np.append(apartment, share_living_space)\n",
    "display(apartment)"
   ]
  },
  {
   "cell_type": "code",
   "execution_count": 19,
   "metadata": {},
   "outputs": [],
   "source": [
    "t = np.array([12, 14, 17, 19, 24, 28, 31, 31, 27, 22, 17, 13])"
   ]
  },
  {
   "cell_type": "code",
   "execution_count": null,
   "metadata": {},
   "outputs": [],
   "source": []
  }
 ],
 "metadata": {
  "kernelspec": {
   "display_name": "Python 3",
   "language": "python",
   "name": "python3"
  },
  "language_info": {
   "codemirror_mode": {
    "name": "ipython",
    "version": 3
   },
   "file_extension": ".py",
   "mimetype": "text/x-python",
   "name": "python",
   "nbconvert_exporter": "python",
   "pygments_lexer": "ipython3",
   "version": "3.7.6"
  }
 },
 "nbformat": 4,
 "nbformat_minor": 4
}
