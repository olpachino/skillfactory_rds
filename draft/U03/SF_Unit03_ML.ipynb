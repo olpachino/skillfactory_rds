{
 "cells": [
  {
   "cell_type": "code",
   "execution_count": 11,
   "metadata": {},
   "outputs": [],
   "source": [
    "import pandas as pd\n",
    "import numpy as np\n",
    "import re\n",
    "from datetime import datetime, timedelta"
   ]
  },
  {
   "cell_type": "code",
   "execution_count": 12,
   "metadata": {},
   "outputs": [],
   "source": [
    "main = pd.read_csv('main_task.csv')"
   ]
  },
  {
   "cell_type": "code",
   "execution_count": null,
   "metadata": {},
   "outputs": [],
   "source": [
    "main.info()"
   ]
  },
  {
   "cell_type": "code",
   "execution_count": null,
   "metadata": {},
   "outputs": [],
   "source": [
    "main.head(5)"
   ]
  },
  {
   "cell_type": "code",
   "execution_count": null,
   "metadata": {},
   "outputs": [],
   "source": [
    "main.iloc[16]"
   ]
  },
  {
   "cell_type": "code",
   "execution_count": null,
   "metadata": {},
   "outputs": [],
   "source": [
    "list_city = list(main['City'].unique())"
   ]
  },
  {
   "cell_type": "code",
   "execution_count": null,
   "metadata": {},
   "outputs": [],
   "source": [
    "main['City'].value_counts()"
   ]
  },
  {
   "cell_type": "code",
   "execution_count": null,
   "metadata": {},
   "outputs": [],
   "source": [
    "main['Price Range'].value_counts()"
   ]
  },
  {
   "cell_type": "code",
   "execution_count": 13,
   "metadata": {},
   "outputs": [
    {
     "name": "stdout",
     "output_type": "stream",
     "text": [
      "<class 'pandas.core.frame.DataFrame'>\n",
      "RangeIndex: 40000 entries, 0 to 39999\n",
      "Data columns (total 10 columns):\n",
      " #   Column             Non-Null Count  Dtype  \n",
      "---  ------             --------------  -----  \n",
      " 0   Restaurant_id      40000 non-null  object \n",
      " 1   City               40000 non-null  object \n",
      " 2   Cuisine Style      40000 non-null  object \n",
      " 3   Ranking            40000 non-null  float64\n",
      " 4   Rating             40000 non-null  float64\n",
      " 5   Price Range        26114 non-null  object \n",
      " 6   Number of Reviews  37457 non-null  float64\n",
      " 7   Reviews            40000 non-null  object \n",
      " 8   URL_TA             40000 non-null  object \n",
      " 9   ID_TA              40000 non-null  object \n",
      "dtypes: float64(3), object(7)\n",
      "memory usage: 3.1+ MB\n"
     ]
    }
   ],
   "source": [
    "main['Cuisine Style'].fillna(\"['Not data']\", axis=0, inplace=True)\n",
    "main.info()"
   ]
  },
  {
   "cell_type": "code",
   "execution_count": 14,
   "metadata": {},
   "outputs": [],
   "source": [
    "main['Cuisine Style'] = main['Cuisine Style'].apply(lambda x: x[2:-2])"
   ]
  },
  {
   "cell_type": "code",
   "execution_count": 15,
   "metadata": {},
   "outputs": [],
   "source": [
    "main['Cuisine Style'] = main['Cuisine Style'].str.split(\"', '\")"
   ]
  },
  {
   "cell_type": "code",
   "execution_count": null,
   "metadata": {},
   "outputs": [],
   "source": [
    "main['Cuisine Style']"
   ]
  },
  {
   "cell_type": "code",
   "execution_count": 16,
   "metadata": {},
   "outputs": [
    {
     "data": {
      "text/plain": [
       "126"
      ]
     },
     "execution_count": 16,
     "metadata": {},
     "output_type": "execute_result"
    }
   ],
   "source": [
    "cuisins = set()\n",
    "for cuisins_style in main['Cuisine Style']:\n",
    "    for cuisin in cuisins_style:\n",
    "        cuisins.add(cuisin)\n",
    "\n",
    "len(cuisins)"
   ]
  },
  {
   "cell_type": "code",
   "execution_count": 17,
   "metadata": {},
   "outputs": [
    {
     "data": {
      "text/plain": [
       "[('Xinjiang', 1),\n",
       " ('Burmese', 1),\n",
       " ('Latvian', 1),\n",
       " ('Salvadoran', 1),\n",
       " ('Yunnan', 1),\n",
       " ('Fujian', 2),\n",
       " ('Polynesian', 2),\n",
       " ('Welsh', 2),\n",
       " ('Azerbaijani', 2),\n",
       " ('Native American', 4),\n",
       " ('Caucasian', 4),\n",
       " ('Ecuadorean', 4),\n",
       " ('Uzbek', 5),\n",
       " ('Canadian', 5),\n",
       " ('New Zealand', 6),\n",
       " ('Albanian', 8),\n",
       " ('Chilean', 8),\n",
       " ('Romanian', 10),\n",
       " ('Minority Chinese', 11),\n",
       " ('Central Asian', 12),\n",
       " ('Filipino', 12),\n",
       " ('Armenian', 14),\n",
       " ('Mongolian', 14),\n",
       " ('Southwestern', 17),\n",
       " ('Georgian', 17),\n",
       " ('Ukrainian', 18),\n",
       " ('Singaporean', 19),\n",
       " ('Cajun & Creole', 20),\n",
       " ('Colombian', 20),\n",
       " ('Egyptian', 20),\n",
       " ('Cambodian', 20),\n",
       " ('Tunisian', 21),\n",
       " ('Hawaiian', 21),\n",
       " ('Afghani', 22),\n",
       " ('Taiwanese', 22),\n",
       " ('Cuban', 23),\n",
       " ('Australian', 24),\n",
       " ('Tibetan', 24),\n",
       " ('Sri Lankan', 25),\n",
       " ('Jamaican', 25),\n",
       " ('Croatian', 27),\n",
       " ('Malaysian', 31),\n",
       " ('Venezuelan', 40),\n",
       " ('Ethiopian', 42),\n",
       " ('Kosher', 48),\n",
       " ('Arabic', 51),\n",
       " ('Persian', 53),\n",
       " ('Russian', 58),\n",
       " ('Indonesian', 59),\n",
       " ('Slovenian', 68),\n",
       " ('Israeli', 74),\n",
       " ('Norwegian', 75),\n",
       " ('Bangladeshi', 76),\n",
       " ('Nepali', 83),\n",
       " ('Balti', 83),\n",
       " ('Caribbean', 93),\n",
       " ('Peruvian', 94),\n",
       " ('Pakistani', 123),\n",
       " ('Brazilian', 127),\n",
       " ('Central American', 135),\n",
       " ('Moroccan', 141),\n",
       " ('African', 154),\n",
       " ('Scottish', 163),\n",
       " ('Korean', 167),\n",
       " ('Argentinean', 169),\n",
       " ('Swedish', 171),\n",
       " ('Danish', 177),\n",
       " ('Swiss', 178),\n",
       " ('Brew Pub', 225),\n",
       " ('Street Food', 263),\n",
       " ('Belgian', 270),\n",
       " ('Irish', 284),\n",
       " ('Dutch', 294),\n",
       " ('Diner', 295),\n",
       " ('Latin', 302),\n",
       " ('Lebanese', 329),\n",
       " ('Scandinavian', 342),\n",
       " ('Hungarian', 352),\n",
       " ('Polish', 365),\n",
       " ('South American', 372),\n",
       " ('Austrian', 380),\n",
       " ('Delicatessen', 392),\n",
       " ('Turkish', 444),\n",
       " ('Mexican', 445),\n",
       " ('Gastropub', 471),\n",
       " ('Grill', 490),\n",
       " ('Soups', 494),\n",
       " ('Eastern European', 496),\n",
       " ('Vietnamese', 513),\n",
       " ('Contemporary', 523),\n",
       " ('Barbecue', 555),\n",
       " ('Steakhouse', 573),\n",
       " ('Fusion', 577),\n",
       " ('Czech', 595),\n",
       " ('Halal', 598),\n",
       " ('Greek', 604),\n",
       " ('Healthy', 620),\n",
       " ('German', 662),\n",
       " ('Wine Bar', 697),\n",
       " ('Thai', 743),\n",
       " ('Middle Eastern', 782),\n",
       " ('Indian', 1041),\n",
       " ('Portuguese', 1107),\n",
       " ('Chinese', 1145),\n",
       " ('Sushi', 1156),\n",
       " ('American', 1315),\n",
       " ('Central European', 1393),\n",
       " ('Japanese', 1464),\n",
       " ('Seafood', 1505),\n",
       " ('International', 1584),\n",
       " ('British', 1595),\n",
       " ('Fast Food', 1705),\n",
       " ('Cafe', 2325),\n",
       " ('Pub', 2449),\n",
       " ('Spanish', 2798),\n",
       " ('Pizza', 2849),\n",
       " ('Asian', 3011),\n",
       " ('French', 3190),\n",
       " ('Bar', 3297),\n",
       " ('Gluten Free Options', 4113),\n",
       " ('Vegan Options', 4486),\n",
       " ('Italian', 5964),\n",
       " ('Mediterranean', 6277),\n",
       " ('Not data', 9283),\n",
       " ('European', 10060),\n",
       " ('Vegetarian Friendly', 11189)]"
      ]
     },
     "execution_count": 17,
     "metadata": {},
     "output_type": "execute_result"
    }
   ],
   "source": [
    "popular_cuisins = {}\n",
    "for item in cuisins:\n",
    "    popular_cuisins[item] = 0\n",
    "for cuisins in main['Cuisine Style']:\n",
    "    for item in cuisins:\n",
    "        popular_cuisins[item] += 1"
   ]
  },
  {
   "cell_type": "code",
   "execution_count": 25,
   "metadata": {},
   "outputs": [
    {
     "data": {
      "text/plain": [
       "[('Xinjiang', 1),\n",
       " ('Burmese', 1),\n",
       " ('Latvian', 1),\n",
       " ('Salvadoran', 1),\n",
       " ('Yunnan', 1),\n",
       " ('Fujian', 2),\n",
       " ('Polynesian', 2),\n",
       " ('Welsh', 2),\n",
       " ('Azerbaijani', 2),\n",
       " ('Native American', 4),\n",
       " ('Caucasian', 4),\n",
       " ('Ecuadorean', 4),\n",
       " ('Uzbek', 5),\n",
       " ('Canadian', 5),\n",
       " ('New Zealand', 6),\n",
       " ('Albanian', 8),\n",
       " ('Chilean', 8),\n",
       " ('Romanian', 10),\n",
       " ('Minority Chinese', 11),\n",
       " ('Central Asian', 12),\n",
       " ('Filipino', 12),\n",
       " ('Armenian', 14),\n",
       " ('Mongolian', 14),\n",
       " ('Southwestern', 17),\n",
       " ('Georgian', 17),\n",
       " ('Ukrainian', 18),\n",
       " ('Singaporean', 19),\n",
       " ('Cajun & Creole', 20),\n",
       " ('Colombian', 20),\n",
       " ('Egyptian', 20),\n",
       " ('Cambodian', 20),\n",
       " ('Tunisian', 21),\n",
       " ('Hawaiian', 21),\n",
       " ('Afghani', 22),\n",
       " ('Taiwanese', 22),\n",
       " ('Cuban', 23),\n",
       " ('Australian', 24),\n",
       " ('Tibetan', 24),\n",
       " ('Sri Lankan', 25),\n",
       " ('Jamaican', 25),\n",
       " ('Croatian', 27),\n",
       " ('Malaysian', 31),\n",
       " ('Venezuelan', 40),\n",
       " ('Ethiopian', 42),\n",
       " ('Kosher', 48),\n",
       " ('Arabic', 51),\n",
       " ('Persian', 53),\n",
       " ('Russian', 58),\n",
       " ('Indonesian', 59),\n",
       " ('Slovenian', 68)]"
      ]
     },
     "execution_count": 25,
     "metadata": {},
     "output_type": "execute_result"
    }
   ],
   "source": [
    "sorted(popular_cuisins.items(), key=lambda kv: kv[1])[0:50]"
   ]
  },
  {
   "cell_type": "code",
   "execution_count": null,
   "metadata": {},
   "outputs": [],
   "source": [
    "main['Many cuisins'] = main['Cuisine Style'].apply(lambda x: len(x))"
   ]
  },
  {
   "cell_type": "code",
   "execution_count": null,
   "metadata": {},
   "outputs": [],
   "source": [
    "main['Many cuisins'].mean()"
   ]
  },
  {
   "cell_type": "code",
   "execution_count": null,
   "metadata": {},
   "outputs": [],
   "source": [
    "main['Reviews'][0]"
   ]
  },
  {
   "cell_type": "code",
   "execution_count": null,
   "metadata": {},
   "outputs": [],
   "source": [
    "main['Reviews'][3]"
   ]
  },
  {
   "cell_type": "code",
   "execution_count": null,
   "metadata": {},
   "outputs": [],
   "source": [
    "main['Date reviews'] = main['Reviews'].apply(lambda x: re.findall(r'\\d{2}/\\d{2}/\\d{4}', x))"
   ]
  },
  {
   "cell_type": "code",
   "execution_count": null,
   "metadata": {},
   "outputs": [],
   "source": [
    "main['Date reviews'].head(20)"
   ]
  },
  {
   "cell_type": "code",
   "execution_count": null,
   "metadata": {},
   "outputs": [],
   "source": [
    "main.info()"
   ]
  },
  {
   "cell_type": "code",
   "execution_count": null,
   "metadata": {},
   "outputs": [],
   "source": [
    "time_date = set()\n",
    "for date_reviews in main['Date reviews']:\n",
    "    for date in date_reviews:\n",
    "        time_date.add(date)\n",
    "\n",
    "time_date = list(time_date)\n",
    "#time_date = time_date.apply(lambda x: datetime.strptime(x, '%m/%d/%Y'))\n",
    "time_date = [datetime.strptime(x, '%m/%d/%Y') for x in time_date]"
   ]
  },
  {
   "cell_type": "code",
   "execution_count": null,
   "metadata": {},
   "outputs": [],
   "source": [
    "import time\n",
    "\n",
    "time.ctime(max(list(map(datetime.timestamp, time_date))))"
   ]
  },
  {
   "cell_type": "code",
   "execution_count": null,
   "metadata": {},
   "outputs": [],
   "source": [
    "for i in range(len(main['Date reviews'])):\n",
    "    main['Date reviews'][i] = [datetime.strptime(x, '%m/%d/%Y') for x in main['Date reviews'][i]]"
   ]
  },
  {
   "cell_type": "code",
   "execution_count": null,
   "metadata": {},
   "outputs": [],
   "source": [
    "main['Date reviews'][0]"
   ]
  },
  {
   "cell_type": "code",
   "execution_count": null,
   "metadata": {},
   "outputs": [],
   "source": [
    "max_time_delta = 0\n",
    "for date_reviews in main['Date reviews']:\n",
    "    if len(date_reviews) == 2:\n",
    "        delta = abs(date_reviews[0] - date_reviews[1])\n",
    "        if delta.days > max_time_delta:\n",
    "            max_time_delta = delta.days\n",
    "            \n",
    "            \n",
    "max_time_delta"
   ]
  },
  {
   "cell_type": "code",
   "execution_count": null,
   "metadata": {},
   "outputs": [],
   "source": []
  }
 ],
 "metadata": {
  "kernelspec": {
   "display_name": "Python 3",
   "language": "python",
   "name": "python3"
  },
  "language_info": {
   "codemirror_mode": {
    "name": "ipython",
    "version": 3
   },
   "file_extension": ".py",
   "mimetype": "text/x-python",
   "name": "python",
   "nbconvert_exporter": "python",
   "pygments_lexer": "ipython3",
   "version": "3.7.6"
  }
 },
 "nbformat": 4,
 "nbformat_minor": 4
}
