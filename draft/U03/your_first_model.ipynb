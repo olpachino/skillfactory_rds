{
 "cells": [
  {
   "cell_type": "markdown",
   "metadata": {},
   "source": [
    "# Загрузка Pandas и очистка данных"
   ]
  },
  {
   "cell_type": "code",
   "execution_count": null,
   "metadata": {},
   "outputs": [],
   "source": [
    "import pandas as pd"
   ]
  },
  {
   "cell_type": "code",
   "execution_count": null,
   "metadata": {},
   "outputs": [],
   "source": [
    "df = pd.read_csv('main_task.csv')"
   ]
  },
  {
   "cell_type": "code",
   "execution_count": null,
   "metadata": {},
   "outputs": [],
   "source": [
    "# Ваш код по очистке данных и генерации новых признаков\n",
    "# При необходимости добавьте ячейки"
   ]
  },
  {
   "cell_type": "code",
   "execution_count": null,
   "metadata": {},
   "outputs": [],
   "source": [
    "import numpy as np\n",
    "import re\n",
    "from datetime import datetime, timedelta"
   ]
  },
  {
   "cell_type": "code",
   "execution_count": null,
   "metadata": {},
   "outputs": [],
   "source": [
    "df['Cuisine Style'].fillna(\"['Not data']\", axis=0, inplace=True) #замена пропусков кол-во кухонь, нужно изменить"
   ]
  },
  {
   "cell_type": "code",
   "execution_count": null,
   "metadata": {},
   "outputs": [],
   "source": [
    "df['Cuisine Style'] = df['Cuisine Style'].apply(lambda x: x[2:-2])\n",
    "df['Cuisine Style'] = df['Cuisine Style'].str.split(\"', '\")"
   ]
  },
  {
   "cell_type": "code",
   "execution_count": null,
   "metadata": {},
   "outputs": [],
   "source": [
    "cuisins = set()\n",
    "for cuisins_style in df['Cuisine Style']:\n",
    "    for cuisin in cuisins_style:\n",
    "        cuisins.add(cuisin)\n",
    "\n",
    "len(cuisins) #кол-во стилей кухонь, +1 - нет данных"
   ]
  },
  {
   "cell_type": "code",
   "execution_count": null,
   "metadata": {},
   "outputs": [],
   "source": [
    "def find_item(cell):\n",
    "    if item in cell:\n",
    "        return 1\n",
    "    return 0"
   ]
  },
  {
   "cell_type": "code",
   "execution_count": null,
   "metadata": {},
   "outputs": [],
   "source": [
    "for item in cuisins:\n",
    "    df[item] = df['Cuisine Style'].apply(find_item)"
   ]
  },
  {
   "cell_type": "code",
   "execution_count": null,
   "metadata": {},
   "outputs": [],
   "source": [
    "df['Many cuisins'] = df['Cuisine Style'].apply(lambda x: len(x)) #добавляем показатель с кол-вом стилей кухонь в каждом ресторане"
   ]
  },
  {
   "cell_type": "code",
   "execution_count": null,
   "metadata": {},
   "outputs": [],
   "source": [
    "df['Date reviews'] = df['Reviews'].apply(lambda x: re.findall(r'\\d{2}/\\d{2}/\\d{4}', x)) #выделяем даты отзывов"
   ]
  },
  {
   "cell_type": "code",
   "execution_count": null,
   "metadata": {},
   "outputs": [],
   "source": [
    "for i in range(len(df['Date reviews'])):\n",
    "    df['Date reviews'][i] = [datetime.strptime(x, '%m/%d/%Y') for x in df['Date reviews'][i]] #преобразовываем в тип datetime"
   ]
  },
  {
   "cell_type": "code",
   "execution_count": null,
   "metadata": {},
   "outputs": [],
   "source": [
    "import time\n",
    "\n",
    "for i in range(len(df['Date reviews'])):\n",
    "    df['Date reviews'][i] = list(map(datetime.timestamp, df['Date reviews'][i]))"
   ]
  },
  {
   "cell_type": "code",
   "execution_count": null,
   "metadata": {},
   "outputs": [],
   "source": [
    "df['Date reviews']"
   ]
  },
  {
   "cell_type": "code",
   "execution_count": null,
   "metadata": {},
   "outputs": [],
   "source": [
    "#добавляем признак даты последнего отзыва, в днях с 1970г\n",
    "df['Date last review'] = df.apply(lambda x: max(x['Date reviews']) if len(x['Date reviews']) > 0 else 0, axis=1)"
   ]
  },
  {
   "cell_type": "code",
   "execution_count": null,
   "metadata": {},
   "outputs": [],
   "source": [
    "df['Date last review'].head(5)"
   ]
  },
  {
   "cell_type": "code",
   "execution_count": null,
   "metadata": {},
   "outputs": [],
   "source": [
    "#добавить признак с id города\n",
    "df['City ID'] = df['City'].map({'London': 4420, 'Paris': 331, 'Madrid':341, 'Barcelona':343,\n",
    "                               'Berlin':4930, 'Milan':392, 'Rome':396, 'Prague':4202,\n",
    "                               'Lisbon':35121, 'Vienna':431, 'Amsterdam':3120, 'Brussels':322,\n",
    "                               'Hamburg':4940, 'Munich':4989, 'Lyon':33437, 'Stockholm':468,\n",
    "                               'Budapest':361, 'Warsaw':4822, 'Dublin':3531, 'Copenhagen':451,\n",
    "                               'Athens':30210, 'Edinburgh':44131, 'Zurich':411, 'Oporto':3512,\n",
    "                               'Geneva':4122, 'Krakow':4812, 'Oslo':4722, 'Helsinki':3589,\n",
    "                               'Bratislava':4212, 'Luxembourg':352, 'Ljubljana':3861}) "
   ]
  },
  {
   "cell_type": "code",
   "execution_count": null,
   "metadata": {},
   "outputs": [],
   "source": [
    "#добавить признак с населением города\n",
    "df['City population'] = df['City'].map({'London': 8.982, 'Paris': 2.140, 'Madrid':6.642, 'Barcelona':5.575,\n",
    "                                       'Berlin':3.769, 'Milan':1.332, 'Rome':2.870, 'Prague':1.309,\n",
    "                                       'Lisbon':0.507, 'Vienna':1.897, 'Amsterdam':0.825, 'Brussels':1.209,\n",
    "                                       'Hamburg':1.841, 'Munich':1.472, 'Lyon':0.496, 'Stockholm':0.976,\n",
    "                                       'Budapest':1.752, 'Warsaw':1.791, 'Dublin':1.388, 'Copenhagen':1.247,\n",
    "                                       'Athens':3.169, 'Edinburgh':0.525, 'Zurich':0.402, 'Oporto':0.222,\n",
    "                                       'Geneva':0.499, 'Krakow':0.779, 'Oslo':0.681, 'Helsinki':0.655,\n",
    "                                       'Bratislava':0.438, 'Luxembourg':0.122, 'Ljubljana':0.284}) "
   ]
  },
  {
   "cell_type": "code",
   "execution_count": null,
   "metadata": {},
   "outputs": [],
   "source": [
    "#добавить признак с площадью города\n",
    "df['City square'] = df['City'].map({'London': 1572, 'Paris': 105.4, 'Madrid':604.3, 'Barcelona':101.9,\n",
    "                                    'Berlin':891.8, 'Milan':181.8, 'Rome':1285, 'Prague':496,\n",
    "                                    'Lisbon':100, 'Vienna':414.6, 'Amsterdam':219.3, 'Brussels':32.61,\n",
    "                                    'Hamburg':755.2, 'Munich':310.4, 'Lyon':47.87, 'Stockholm':188,\n",
    "                                    'Budapest':525.2, 'Warsaw':517.2, 'Dublin':115, 'Copenhagen':88.25,\n",
    "                                    'Athens':2929, 'Edinburgh':264, 'Zurich':87.88, 'Oporto':41.42,\n",
    "                                    'Geneva':15.93, 'Krakow':327, 'Oslo':454, 'Helsinki':213.8,\n",
    "                                    'Bratislava':367.6, 'Luxembourg':51.46, 'Ljubljana':163.8}) "
   ]
  },
  {
   "cell_type": "code",
   "execution_count": null,
   "metadata": {},
   "outputs": [],
   "source": [
    "def fillna_number_reviews(row):\n",
    "    if np.isnan(row['Number of Reviews']):\n",
    "        row['Number of Reviews'] = df[df['City'] == row['City']]['Number of Reviews'].mean()\n",
    "        return row['Number of Reviews']\n",
    "    return row['Number of Reviews']\n",
    "\n",
    "\n",
    "df['Number of Reviews'] = df.apply(lambda row: fillna_number_reviews(row), axis=1)"
   ]
  },
  {
   "cell_type": "code",
   "execution_count": null,
   "metadata": {},
   "outputs": [],
   "source": [
    "df.head()"
   ]
  },
  {
   "cell_type": "code",
   "execution_count": null,
   "metadata": {},
   "outputs": [],
   "source": [
    "df = df.drop(['City', 'Cuisine Style', 'Price Range', 'Reviews', 'URL_TA', 'ID_TA', 'Date reviews'], axis=1) #удаление не числовых признаков"
   ]
  },
  {
   "cell_type": "markdown",
   "metadata": {},
   "source": [
    "# Разбиваем датафрейм на части, необходимые для обучения и тестирования модели"
   ]
  },
  {
   "cell_type": "code",
   "execution_count": null,
   "metadata": {},
   "outputs": [],
   "source": [
    "# Х - данные с информацией о ресторанах, у - целевая переменная (рейтинги ресторанов)\n",
    "X = df.drop(['Restaurant_id', 'Rating'], axis=1)\n",
    "y = df['Rating']"
   ]
  },
  {
   "cell_type": "code",
   "execution_count": null,
   "metadata": {},
   "outputs": [],
   "source": [
    "# Загружаем специальный инструмент для разбивки:\n",
    "from sklearn.model_selection import train_test_split"
   ]
  },
  {
   "cell_type": "code",
   "execution_count": null,
   "metadata": {},
   "outputs": [],
   "source": [
    "# Наборы данных с меткой \"train\" будут использоваться для обучения модели, \"test\" - для тестирования.\n",
    "# Для тестирования мы будем использовать 25% от исходного датасета.\n",
    "X_train, X_test, y_train, y_test = train_test_split(X, y, test_size=0.25)"
   ]
  },
  {
   "cell_type": "markdown",
   "metadata": {},
   "source": [
    "# Создаём, обучаем и тестируем модель"
   ]
  },
  {
   "cell_type": "code",
   "execution_count": null,
   "metadata": {},
   "outputs": [],
   "source": [
    "# Импортируем необходимые библиотеки:\n",
    "from sklearn.ensemble import RandomForestRegressor # инструмент для создания и обучения модели\n",
    "from sklearn import metrics # инструменты для оценки точности модели"
   ]
  },
  {
   "cell_type": "code",
   "execution_count": null,
   "metadata": {},
   "outputs": [],
   "source": [
    "# Создаём модель\n",
    "regr = RandomForestRegressor(n_estimators=100)\n",
    "\n",
    "# Обучаем модель на тестовом наборе данных\n",
    "regr.fit(X_train, y_train)\n",
    "\n",
    "# Используем обученную модель для предсказания рейтинга ресторанов в тестовой выборке.\n",
    "# Предсказанные значения записываем в переменную y_pred\n",
    "y_pred = np.round(regr.predict(X_test), 1)"
   ]
  },
  {
   "cell_type": "code",
   "execution_count": null,
   "metadata": {},
   "outputs": [],
   "source": [
    "# Сравниваем предсказанные значения (y_pred) с реальными (y_test), и смотрим насколько они в среднем отличаются\n",
    "# Метрика называется Mean Absolute Error (MAE) и показывает среднее отклонение предсказанных значений от фактических.\n",
    "print('MAE:', metrics.mean_absolute_error(y_test, y_pred))"
   ]
  },
  {
   "cell_type": "code",
   "execution_count": null,
   "metadata": {},
   "outputs": [],
   "source": []
  }
 ],
 "metadata": {
  "kernelspec": {
   "display_name": "Python 3",
   "language": "python",
   "name": "python3"
  },
  "language_info": {
   "codemirror_mode": {
    "name": "ipython",
    "version": 3
   },
   "file_extension": ".py",
   "mimetype": "text/x-python",
   "name": "python",
   "nbconvert_exporter": "python",
   "pygments_lexer": "ipython3",
   "version": "3.7.6"
  }
 },
 "nbformat": 4,
 "nbformat_minor": 2
}
