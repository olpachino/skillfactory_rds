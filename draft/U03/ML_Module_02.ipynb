{
 "cells": [
  {
   "cell_type": "code",
   "execution_count": 1,
   "metadata": {},
   "outputs": [],
   "source": [
    "import pandas as pd\n",
    "import numpy as np"
   ]
  },
  {
   "cell_type": "code",
   "execution_count": 6,
   "metadata": {},
   "outputs": [
    {
     "data": {
      "text/html": [
       "<div>\n",
       "<style scoped>\n",
       "    .dataframe tbody tr th:only-of-type {\n",
       "        vertical-align: middle;\n",
       "    }\n",
       "\n",
       "    .dataframe tbody tr th {\n",
       "        vertical-align: top;\n",
       "    }\n",
       "\n",
       "    .dataframe thead th {\n",
       "        text-align: right;\n",
       "    }\n",
       "</style>\n",
       "<table border=\"1\" class=\"dataframe\">\n",
       "  <thead>\n",
       "    <tr style=\"text-align: right;\">\n",
       "      <th></th>\n",
       "      <th>id</th>\n",
       "      <th>full_sq</th>\n",
       "      <th>life_sq</th>\n",
       "      <th>floor</th>\n",
       "      <th>sub_area</th>\n",
       "      <th>preschool_quota</th>\n",
       "      <th>preschool_education_centers_raion</th>\n",
       "      <th>school_quota</th>\n",
       "      <th>school_education_centers_raion</th>\n",
       "      <th>school_education_centers_top_20_raion</th>\n",
       "      <th>...</th>\n",
       "      <th>shopping_centers_km</th>\n",
       "      <th>office_km</th>\n",
       "      <th>additional_education_km</th>\n",
       "      <th>preschool_km</th>\n",
       "      <th>big_church_km</th>\n",
       "      <th>church_synagogue_km</th>\n",
       "      <th>theater_km</th>\n",
       "      <th>museum_km</th>\n",
       "      <th>ecology</th>\n",
       "      <th>price_doc</th>\n",
       "    </tr>\n",
       "  </thead>\n",
       "  <tbody>\n",
       "    <tr>\n",
       "      <th>0</th>\n",
       "      <td>1</td>\n",
       "      <td>43</td>\n",
       "      <td>27.0</td>\n",
       "      <td>4.0</td>\n",
       "      <td>Bibirevo</td>\n",
       "      <td>5001.0</td>\n",
       "      <td>5</td>\n",
       "      <td>11065.0</td>\n",
       "      <td>5</td>\n",
       "      <td>0</td>\n",
       "      <td>...</td>\n",
       "      <td>0.648488</td>\n",
       "      <td>0.637189</td>\n",
       "      <td>0.947962</td>\n",
       "      <td>0.177975</td>\n",
       "      <td>0.625783</td>\n",
       "      <td>0.628187</td>\n",
       "      <td>14.053047</td>\n",
       "      <td>7.389498</td>\n",
       "      <td>good</td>\n",
       "      <td>5850000</td>\n",
       "    </tr>\n",
       "    <tr>\n",
       "      <th>1</th>\n",
       "      <td>2</td>\n",
       "      <td>34</td>\n",
       "      <td>19.0</td>\n",
       "      <td>3.0</td>\n",
       "      <td>Nagatinskij Zaton</td>\n",
       "      <td>3119.0</td>\n",
       "      <td>5</td>\n",
       "      <td>6237.0</td>\n",
       "      <td>8</td>\n",
       "      <td>0</td>\n",
       "      <td>...</td>\n",
       "      <td>0.519311</td>\n",
       "      <td>0.688796</td>\n",
       "      <td>1.072315</td>\n",
       "      <td>0.273345</td>\n",
       "      <td>0.967821</td>\n",
       "      <td>0.471447</td>\n",
       "      <td>6.829889</td>\n",
       "      <td>0.709260</td>\n",
       "      <td>excellent</td>\n",
       "      <td>6000000</td>\n",
       "    </tr>\n",
       "    <tr>\n",
       "      <th>2</th>\n",
       "      <td>3</td>\n",
       "      <td>43</td>\n",
       "      <td>29.0</td>\n",
       "      <td>2.0</td>\n",
       "      <td>Tekstil'shhiki</td>\n",
       "      <td>1463.0</td>\n",
       "      <td>4</td>\n",
       "      <td>5580.0</td>\n",
       "      <td>7</td>\n",
       "      <td>0</td>\n",
       "      <td>...</td>\n",
       "      <td>1.486533</td>\n",
       "      <td>1.543049</td>\n",
       "      <td>0.391957</td>\n",
       "      <td>0.158072</td>\n",
       "      <td>3.178751</td>\n",
       "      <td>0.755946</td>\n",
       "      <td>4.273200</td>\n",
       "      <td>3.156423</td>\n",
       "      <td>poor</td>\n",
       "      <td>5700000</td>\n",
       "    </tr>\n",
       "    <tr>\n",
       "      <th>3</th>\n",
       "      <td>4</td>\n",
       "      <td>89</td>\n",
       "      <td>50.0</td>\n",
       "      <td>9.0</td>\n",
       "      <td>Mitino</td>\n",
       "      <td>6839.0</td>\n",
       "      <td>9</td>\n",
       "      <td>17063.0</td>\n",
       "      <td>10</td>\n",
       "      <td>0</td>\n",
       "      <td>...</td>\n",
       "      <td>0.599914</td>\n",
       "      <td>0.934273</td>\n",
       "      <td>0.892674</td>\n",
       "      <td>0.236455</td>\n",
       "      <td>1.031777</td>\n",
       "      <td>1.561505</td>\n",
       "      <td>16.990677</td>\n",
       "      <td>16.041521</td>\n",
       "      <td>good</td>\n",
       "      <td>13100000</td>\n",
       "    </tr>\n",
       "    <tr>\n",
       "      <th>4</th>\n",
       "      <td>5</td>\n",
       "      <td>77</td>\n",
       "      <td>77.0</td>\n",
       "      <td>4.0</td>\n",
       "      <td>Basmannoe</td>\n",
       "      <td>3240.0</td>\n",
       "      <td>7</td>\n",
       "      <td>7770.0</td>\n",
       "      <td>9</td>\n",
       "      <td>0</td>\n",
       "      <td>...</td>\n",
       "      <td>0.429052</td>\n",
       "      <td>0.077901</td>\n",
       "      <td>0.810801</td>\n",
       "      <td>0.376838</td>\n",
       "      <td>0.378756</td>\n",
       "      <td>0.121681</td>\n",
       "      <td>1.112486</td>\n",
       "      <td>1.800125</td>\n",
       "      <td>excellent</td>\n",
       "      <td>16331452</td>\n",
       "    </tr>\n",
       "  </tbody>\n",
       "</table>\n",
       "<p>5 rows × 56 columns</p>\n",
       "</div>"
      ],
      "text/plain": [
       "   id  full_sq  life_sq  floor           sub_area  preschool_quota  \\\n",
       "0   1       43     27.0    4.0           Bibirevo           5001.0   \n",
       "1   2       34     19.0    3.0  Nagatinskij Zaton           3119.0   \n",
       "2   3       43     29.0    2.0     Tekstil'shhiki           1463.0   \n",
       "3   4       89     50.0    9.0             Mitino           6839.0   \n",
       "4   5       77     77.0    4.0          Basmannoe           3240.0   \n",
       "\n",
       "   preschool_education_centers_raion  school_quota  \\\n",
       "0                                  5       11065.0   \n",
       "1                                  5        6237.0   \n",
       "2                                  4        5580.0   \n",
       "3                                  9       17063.0   \n",
       "4                                  7        7770.0   \n",
       "\n",
       "   school_education_centers_raion  school_education_centers_top_20_raion  ...  \\\n",
       "0                               5                                      0  ...   \n",
       "1                               8                                      0  ...   \n",
       "2                               7                                      0  ...   \n",
       "3                              10                                      0  ...   \n",
       "4                               9                                      0  ...   \n",
       "\n",
       "   shopping_centers_km  office_km  additional_education_km  preschool_km  \\\n",
       "0             0.648488   0.637189                 0.947962      0.177975   \n",
       "1             0.519311   0.688796                 1.072315      0.273345   \n",
       "2             1.486533   1.543049                 0.391957      0.158072   \n",
       "3             0.599914   0.934273                 0.892674      0.236455   \n",
       "4             0.429052   0.077901                 0.810801      0.376838   \n",
       "\n",
       "   big_church_km  church_synagogue_km  theater_km  museum_km    ecology  \\\n",
       "0       0.625783             0.628187   14.053047   7.389498       good   \n",
       "1       0.967821             0.471447    6.829889   0.709260  excellent   \n",
       "2       3.178751             0.755946    4.273200   3.156423       poor   \n",
       "3       1.031777             1.561505   16.990677  16.041521       good   \n",
       "4       0.378756             0.121681    1.112486   1.800125  excellent   \n",
       "\n",
       "   price_doc  \n",
       "0    5850000  \n",
       "1    6000000  \n",
       "2    5700000  \n",
       "3   13100000  \n",
       "4   16331452  \n",
       "\n",
       "[5 rows x 56 columns]"
      ]
     },
     "execution_count": 6,
     "metadata": {},
     "output_type": "execute_result"
    }
   ],
   "source": [
    "data = pd.read_csv('data_flats.csv', sep=';')\n",
    "data.head()"
   ]
  },
  {
   "cell_type": "code",
   "execution_count": 10,
   "metadata": {},
   "outputs": [
    {
     "data": {
      "text/plain": [
       "['Poselenie Sosenskoe',\n",
       " 'Nekrasovka',\n",
       " 'Poselenie Vnukovskoe',\n",
       " 'Poselenie Moskovskij',\n",
       " 'Poselenie Voskresenskoe',\n",
       " 'Mitino',\n",
       " 'Tverskoe',\n",
       " 'Krjukovo',\n",
       " \"Mar'ino\",\n",
       " 'Poselenie Filimonkovskoe',\n",
       " 'Juzhnoe Butovo',\n",
       " 'Poselenie Shherbinka',\n",
       " 'Solncevo',\n",
       " 'Zapadnoe Degunino',\n",
       " 'Poselenie Desjonovskoe',\n",
       " 'Otradnoe',\n",
       " 'Nagatinskij Zaton',\n",
       " 'Nagornoe',\n",
       " 'Bogorodskoe',\n",
       " 'Strogino',\n",
       " 'Izmajlovo',\n",
       " \"Tekstil'shhiki\",\n",
       " 'Ljublino',\n",
       " \"Gol'janovo\",\n",
       " 'Severnoe Tushino',\n",
       " 'Chertanovo Juzhnoe',\n",
       " 'Birjulevo Vostochnoe',\n",
       " 'Vyhino-Zhulebino',\n",
       " 'Horoshevo-Mnevniki',\n",
       " 'Zjuzino',\n",
       " 'Ochakovo-Matveevskoe',\n",
       " 'Perovo',\n",
       " 'Ramenki',\n",
       " 'Jasenevo',\n",
       " 'Kosino-Uhtomskoe',\n",
       " 'Bibirevo',\n",
       " 'Golovinskoe',\n",
       " \"Kuz'minki\",\n",
       " \"Kon'kovo\",\n",
       " 'Caricyno',\n",
       " 'Veshnjaki',\n",
       " 'Akademicheskoe',\n",
       " 'Orehovo-Borisovo Juzhnoe',\n",
       " 'Koptevo',\n",
       " 'Orehovo-Borisovo Severnoe',\n",
       " 'Novogireevo',\n",
       " 'Chertanovo Severnoe',\n",
       " 'Danilovskoe',\n",
       " 'Ivanovskoe',\n",
       " 'Mozhajskoe',\n",
       " \"Chertanovo Central'noe\",\n",
       " 'Pechatniki',\n",
       " 'Presnenskoe',\n",
       " 'Sokolinaja Gora',\n",
       " 'Obruchevskoe',\n",
       " 'Kuncevo',\n",
       " 'Brateevo',\n",
       " 'Severnoe Butovo',\n",
       " 'Rjazanskij',\n",
       " 'Hovrino',\n",
       " 'Losinoostrovskoe',\n",
       " 'Juzhnoe Tushino',\n",
       " 'Dmitrovskoe',\n",
       " 'Taganskoe',\n",
       " 'Severnoe Medvedkovo',\n",
       " 'Beskudnikovskoe',\n",
       " 'Teplyj Stan',\n",
       " 'Pokrovskoe Streshnevo',\n",
       " 'Severnoe Izmajlovo',\n",
       " 'Troickij okrug',\n",
       " 'Cheremushki',\n",
       " 'Nagatino-Sadovniki',\n",
       " 'Shhukino',\n",
       " 'Timirjazevskoe',\n",
       " 'Vostochnoe Izmajlovo',\n",
       " 'Preobrazhenskoe',\n",
       " 'Novo-Peredelkino',\n",
       " 'Poselenie Novofedorovskoe',\n",
       " 'Filevskij Park',\n",
       " 'Kotlovka',\n",
       " 'Lomonosovskoe',\n",
       " 'Poselenie Pervomajskoe',\n",
       " 'Juzhnoe Medvedkovo',\n",
       " 'Novokosino',\n",
       " 'Fili Davydkovo',\n",
       " 'Horoshevskoe',\n",
       " 'Levoberezhnoe',\n",
       " 'Donskoe',\n",
       " 'Vojkovskoe',\n",
       " 'Sviblovo',\n",
       " 'Zjablikovo',\n",
       " 'Lianozovo',\n",
       " 'Troparevo-Nikulino',\n",
       " 'Juzhnoportovoe',\n",
       " 'Ajeroport',\n",
       " 'Babushkinskoe',\n",
       " 'Jaroslavskoe',\n",
       " 'Lefortovo',\n",
       " 'Vostochnoe Degunino',\n",
       " \"Mar'ina Roshha\",\n",
       " 'Birjulevo Zapadnoe',\n",
       " 'Matushkino',\n",
       " 'Savelki',\n",
       " 'Krylatskoe',\n",
       " 'Butyrskoe',\n",
       " 'Silino',\n",
       " 'Prospekt Vernadskogo',\n",
       " 'Alekseevskoe',\n",
       " \"Moskvorech'e-Saburovo\",\n",
       " 'Basmannoe',\n",
       " 'Meshhanskoe',\n",
       " 'Staroe Krjukovo',\n",
       " 'Hamovniki',\n",
       " 'Savelovskoe',\n",
       " 'Marfino',\n",
       " 'Jakimanka',\n",
       " 'Ostankinskoe',\n",
       " 'Gagarinskoe',\n",
       " 'Nizhegorodskoe',\n",
       " 'Sokol',\n",
       " \"Altuf'evskoe\",\n",
       " 'Rostokino',\n",
       " 'Kurkino',\n",
       " \"Sokol'niki\",\n",
       " 'Begovoe',\n",
       " 'Metrogorodok',\n",
       " 'Dorogomilovo',\n",
       " \"Zamoskvorech'e\",\n",
       " 'Kapotnja',\n",
       " 'Vnukovo',\n",
       " 'Severnoe',\n",
       " \"Krasnosel'skoe\",\n",
       " 'Poselenie Rjazanovskoe',\n",
       " 'Poselenie Rogovskoe',\n",
       " 'Poselenie Krasnopahorskoe',\n",
       " 'Poselenie Kokoshkino',\n",
       " 'Poselenie Mosrentgen',\n",
       " 'Arbat',\n",
       " 'Poselenie Voronovskoe',\n",
       " 'Vostochnoe',\n",
       " 'Poselenie Marushkinskoe',\n",
       " 'Molzhaninovskoe',\n",
       " 'Poselenie Kievskij',\n",
       " 'Poselenie Shhapovskoe',\n",
       " 'Poselenie Mihajlovo-Jarcevskoe',\n",
       " 'Poselenie Klenovskoe']"
      ]
     },
     "execution_count": 10,
     "metadata": {},
     "output_type": "execute_result"
    }
   ],
   "source": [
    "list(data.sub_area.value_counts().index)"
   ]
  },
  {
   "cell_type": "code",
   "execution_count": 2,
   "metadata": {},
   "outputs": [],
   "source": [
    "vis_data = pd.read_csv(\"train.csv\", encoding = 'ISO-8859-1', low_memory = False)"
   ]
  },
  {
   "cell_type": "code",
   "execution_count": 3,
   "metadata": {},
   "outputs": [
    {
     "name": "stdout",
     "output_type": "stream",
     "text": [
      "<class 'pandas.core.frame.DataFrame'>\n",
      "RangeIndex: 250306 entries, 0 to 250305\n",
      "Data columns (total 34 columns):\n",
      " #   Column                      Non-Null Count   Dtype  \n",
      "---  ------                      --------------   -----  \n",
      " 0   ticket_id                   250306 non-null  int64  \n",
      " 1   agency_name                 250306 non-null  object \n",
      " 2   inspector_name              250306 non-null  object \n",
      " 3   violator_name               250272 non-null  object \n",
      " 4   violation_street_number     250306 non-null  float64\n",
      " 5   violation_street_name       250306 non-null  object \n",
      " 6   violation_zip_code          0 non-null       float64\n",
      " 7   mailing_address_str_number  246704 non-null  float64\n",
      " 8   mailing_address_str_name    250302 non-null  object \n",
      " 9   city                        250306 non-null  object \n",
      " 10  state                       250213 non-null  object \n",
      " 11  zip_code                    250305 non-null  object \n",
      " 12  non_us_str_code             3 non-null       object \n",
      " 13  country                     250306 non-null  object \n",
      " 14  ticket_issued_date          250306 non-null  object \n",
      " 15  hearing_date                237815 non-null  object \n",
      " 16  violation_code              250306 non-null  object \n",
      " 17  violation_description       250306 non-null  object \n",
      " 18  disposition                 250306 non-null  object \n",
      " 19  fine_amount                 250305 non-null  float64\n",
      " 20  admin_fee                   250306 non-null  float64\n",
      " 21  state_fee                   250306 non-null  float64\n",
      " 22  late_fee                    250306 non-null  float64\n",
      " 23  discount_amount             250306 non-null  float64\n",
      " 24  clean_up_cost               250306 non-null  float64\n",
      " 25  judgment_amount             250306 non-null  float64\n",
      " 26  payment_amount              250306 non-null  float64\n",
      " 27  balance_due                 250306 non-null  float64\n",
      " 28  payment_date                41113 non-null   object \n",
      " 29  payment_status              250306 non-null  object \n",
      " 30  collection_status           36897 non-null   object \n",
      " 31  grafitti_status             1 non-null       object \n",
      " 32  compliance_detail           250306 non-null  object \n",
      " 33  compliance                  159880 non-null  float64\n",
      "dtypes: float64(13), int64(1), object(20)\n",
      "memory usage: 64.9+ MB\n"
     ]
    }
   ],
   "source": [
    "vis_data.info()"
   ]
  },
  {
   "cell_type": "code",
   "execution_count": null,
   "metadata": {},
   "outputs": [],
   "source": [
    "state_max = list(vis_data.state.value_counts().head(1).index)"
   ]
  },
  {
   "cell_type": "code",
   "execution_count": null,
   "metadata": {},
   "outputs": [],
   "source": [
    "result = vis_data.state.fillna(state_max[0])"
   ]
  },
  {
   "cell_type": "code",
   "execution_count": null,
   "metadata": {},
   "outputs": [],
   "source": [
    "result"
   ]
  },
  {
   "cell_type": "code",
   "execution_count": null,
   "metadata": {},
   "outputs": [],
   "source": [
    "data.dropna(axis=0)"
   ]
  },
  {
   "cell_type": "code",
   "execution_count": null,
   "metadata": {},
   "outputs": [],
   "source": [
    "balance = np.array(vis_data.balance_due).reshape(-1, 1)"
   ]
  },
  {
   "cell_type": "code",
   "execution_count": null,
   "metadata": {},
   "outputs": [],
   "source": [
    "from sklearn.preprocessing import MinMaxScaler\n",
    "scaler = MinMaxScaler()\n",
    "scaler.fit_transform(balance).min()"
   ]
  },
  {
   "cell_type": "code",
   "execution_count": null,
   "metadata": {},
   "outputs": [],
   "source": [
    "from sklearn.preprocessing import StandardScaler\n",
    "scaler = StandardScaler()\n",
    "scaler.fit_transform(balance).min()"
   ]
  },
  {
   "cell_type": "code",
   "execution_count": 4,
   "metadata": {},
   "outputs": [
    {
     "data": {
      "text/plain": [
       "<matplotlib.axes._subplots.AxesSubplot at 0x183099366c8>"
      ]
     },
     "execution_count": 4,
     "metadata": {},
     "output_type": "execute_result"
    },
    {
     "data": {
      "image/png": "[encoded data removed]",
      "text/plain": [
       "<Figure size 432x288 with 1 Axes>"
      ]
     },
     "metadata": {
      "needs_background": "light"
     },
     "output_type": "display_data"
    }
   ],
   "source": [
    "np.sqrt(vis_data.balance_due[vis_data.balance_due > 0]).hist()"
   ]
  },
  {
   "cell_type": "code",
   "execution_count": 5,
   "metadata": {},
   "outputs": [
    {
     "data": {
      "text/plain": [
       "0.4525960609393067"
      ]
     },
     "execution_count": 5,
     "metadata": {},
     "output_type": "execute_result"
    }
   ],
   "source": [
    "median_balance = np.sqrt(vis_data.balance_due[vis_data.balance_due > 0]).median()\n",
    "mean_balance = np.sqrt(vis_data.balance_due[vis_data.balance_due > 0]).mean()\n",
    "abs(median_balance - mean_balance)"
   ]
  },
  {
   "cell_type": "code",
   "execution_count": 8,
   "metadata": {},
   "outputs": [],
   "source": [
    "import seaborn as sns"
   ]
  },
  {
   "cell_type": "code",
   "execution_count": 22,
   "metadata": {},
   "outputs": [
    {
     "data": {
      "image/png": "[encoded data removed]",
      "text/plain": [
       "<Figure size 432x288 with 1 Axes>"
      ]
     },
     "metadata": {
      "needs_background": "light"
     },
     "output_type": "display_data"
    }
   ],
   "source": [
    "price = data[['sub_area', 'price_doc']].loc[(data.sub_area=='Perovo')|(data.sub_area=='Basmannoe')|\n",
    "                                            (data.sub_area=='Lefortovo')|(data.sub_area=='Bogorodskoe')]\n",
    "sns.boxplot(x=\"sub_area\", y=\"price_doc\", data=price, palette='rainbow');"
   ]
  },
  {
   "cell_type": "code",
   "execution_count": null,
   "metadata": {},
   "outputs": [],
   "source": []
  }
 ],
 "metadata": {
  "kernelspec": {
   "display_name": "Python 3",
   "language": "python",
   "name": "python3"
  },
  "language_info": {
   "codemirror_mode": {
    "name": "ipython",
    "version": 3
   },
   "file_extension": ".py",
   "mimetype": "text/x-python",
   "name": "python",
   "nbconvert_exporter": "python",
   "pygments_lexer": "ipython3",
   "version": "3.7.6"
  }
 },
 "nbformat": 4,
 "nbformat_minor": 4
}
