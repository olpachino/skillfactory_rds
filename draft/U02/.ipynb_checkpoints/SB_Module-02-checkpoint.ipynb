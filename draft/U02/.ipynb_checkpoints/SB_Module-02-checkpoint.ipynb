{
 "cells": [
  {
   "cell_type": "code",
   "execution_count": 1,
   "metadata": {},
   "outputs": [],
   "source": [
    "from scipy.stats import norm"
   ]
  },
  {
   "cell_type": "code",
   "execution_count": 6,
   "metadata": {},
   "outputs": [
    {
     "data": {
      "text/plain": [
       "0.02"
      ]
     },
     "execution_count": 6,
     "metadata": {},
     "output_type": "execute_result"
    }
   ],
   "source": [
    "round(norm.cdf(1), 2) # P(Z<1)\n",
    "round(norm.cdf(1.12), 2) # P(Z<1.12)\n",
    "round(norm.cdf(-1.87), 2) # P(Z<-1.87)\n",
    "round(1 - norm.cdf(2), 2) # P(Z>2)"
   ]
  },
  {
   "cell_type": "code",
   "execution_count": 11,
   "metadata": {},
   "outputs": [
    {
     "data": {
      "text/plain": [
       "-2.58"
      ]
     },
     "execution_count": 11,
     "metadata": {},
     "output_type": "execute_result"
    }
   ],
   "source": [
    "round(norm.ppf(0.1),2) # P(Z<c)=0.1\n",
    "round(norm.ppf(1 - 0.05),2) # P(Z>c)=0.05\n",
    "round(norm.ppf(0.025),2) # P(Z<c)=0.025\n",
    "round(norm.ppf(1 - 0.01),2) # P(Z>c)=0.01\n",
    "round(norm.ppf(0.005),2) # P(Z<c)=0.005"
   ]
  },
  {
   "cell_type": "markdown",
   "metadata": {},
   "source": [
    "Известно, что вес жителя Гонконга распределен нормально со средним в 70кг и стандартным отклонением 5кг.\n",
    "Лифт в одном бизнес-центре может поднять не более 375кг. Так же на нем указана вместимость не более 5 человек.\n",
    "\n",
    "Какова вероятность, что средний вес случайно подошедших к лифту 5 человек превысит 75кг и не позволит лифту подняться?\n",
    "Ответ округлить до тысячных."
   ]
  },
  {
   "cell_type": "markdown",
   "metadata": {},
   "source": [
    "1. E(x)=70, Сигма(x)=5\n",
    "\n",
    "E(сред.выборки) = 70 \n",
    "\n",
    "Сигма(сред.выборки) = 5**0,5 = 2,236\n",
    "\n",
    "2. Вероятность P(сред.выборки >= 75) = 1 - P(сред.выборки <= 75)"
   ]
  },
  {
   "cell_type": "code",
   "execution_count": 3,
   "metadata": {},
   "outputs": [
    {
     "data": {
      "text/plain": [
       "0.013"
      ]
     },
     "execution_count": 3,
     "metadata": {},
     "output_type": "execute_result"
    }
   ],
   "source": [
    "round(1 - norm.cdf(75, loc=70, scale=2.236), 3)"
   ]
  },
  {
   "cell_type": "markdown",
   "metadata": {},
   "source": [
    "Исвестно, что 20% взрослого населения в городе Пало Альто, Калифорния, обладают машиной Tesla.\n",
    "Допустим, вы берете выборку из 225 взрослых людей из Пало Альто.\n",
    "\n",
    "Какова вероятность, что выборочная пропорция не привысит 16%.\n",
    "Ответ округлить до тысячных."
   ]
  },
  {
   "cell_type": "markdown",
   "metadata": {},
   "source": [
    "p=0.20 n=225 выбор.пропорция <= 0.16\n",
    "\n",
    "E(выбороч.пропорция) = p = 0,20\n",
    "\n",
    "Сигма(выбороч.пропорция) = (0,2*(1-0,2)/225)**0,5"
   ]
  },
  {
   "cell_type": "code",
   "execution_count": 9,
   "metadata": {},
   "outputs": [
    {
     "data": {
      "text/plain": [
       "0.067"
      ]
     },
     "execution_count": 9,
     "metadata": {},
     "output_type": "execute_result"
    }
   ],
   "source": [
    "s = (0.2 * (1 - 0.2) / 225) ** 0.5\n",
    "round(norm.cdf(0.16, loc=0.2, scale=s), 3)"
   ]
  },
  {
   "cell_type": "markdown",
   "metadata": {},
   "source": [
    "Оценки студентов на международной онлайн олимпиаде распределены нормально со средним 700 баллов и стандартным отклонением 120 баллов. Диплом первой категории выдается участникам, набравшим более 820 баллов. Диплом второй категории — участникам, набравшим от 730 до 820 баллов."
   ]
  },
  {
   "cell_type": "code",
   "execution_count": 10,
   "metadata": {},
   "outputs": [
    {
     "data": {
      "text/plain": [
       "0.16"
      ]
     },
     "execution_count": 10,
     "metadata": {},
     "output_type": "execute_result"
    }
   ],
   "source": [
    "# Какая доля участников получает диплом 1 категории?\n",
    "round(1 - norm.cdf(820, loc=700, scale=120), 2)"
   ]
  },
  {
   "cell_type": "code",
   "execution_count": 11,
   "metadata": {},
   "outputs": [
    {
     "data": {
      "text/plain": [
       "0.24"
      ]
     },
     "execution_count": 11,
     "metadata": {},
     "output_type": "execute_result"
    }
   ],
   "source": [
    "# Какая доля участников получает диплом 2 категории?\n",
    "round(norm.cdf(820, loc=700, scale=120) - norm.cdf(730, loc=700, scale=120), 2)"
   ]
  },
  {
   "cell_type": "code",
   "execution_count": 13,
   "metadata": {},
   "outputs": [
    {
     "data": {
      "text/plain": [
       "503.0"
      ]
     },
     "execution_count": 13,
     "metadata": {},
     "output_type": "execute_result"
    }
   ],
   "source": [
    "'''Некоторые участники порой выставляли ответы, даже не пытаясь решить задачу,\n",
    "случайным образом, стремясь набрать минимальное количество баллов лишь для того,\n",
    "чтобы получить сертификат об участии. Оргкомитет олимпиады принял решение не выдавать\n",
    "сертификатов тем, кто попал в 5 % участников с наименьшими баллами. Какое минимальное\n",
    "количество баллов нужно было набрать, чтобы получить сертификат об участии?\n",
    "Количество баллов – это целое число.'''\n",
    "\n",
    "round(norm.ppf(0.05, loc=700, scale=120),0)"
   ]
  }
 ],
 "metadata": {
  "kernelspec": {
   "display_name": "Python 3",
   "language": "python",
   "name": "python3"
  },
  "language_info": {
   "codemirror_mode": {
    "name": "ipython",
    "version": 3
   },
   "file_extension": ".py",
   "mimetype": "text/x-python",
   "name": "python",
   "nbconvert_exporter": "python",
   "pygments_lexer": "ipython3",
   "version": "3.7.6"
  }
 },
 "nbformat": 4,
 "nbformat_minor": 4
}
