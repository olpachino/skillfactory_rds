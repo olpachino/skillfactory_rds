{
 "cells": [
  {
   "cell_type": "code",
   "execution_count": 1,
   "metadata": {},
   "outputs": [],
   "source": [
    "import numpy as np\n",
    "import pandas as pd"
   ]
  },
  {
   "cell_type": "markdown",
   "metadata": {},
   "source": [
    "# Создание массивов "
   ]
  },
  {
   "cell_type": "code",
   "execution_count": 2,
   "metadata": {},
   "outputs": [
    {
     "data": {
      "text/plain": [
       "array([[  1. ,  57. ,  71. , 127. , 141. , 197. , 211. , 267. , 281. ],\n",
       "       [  0.5,  28.5,  35.5,  63.5,  70.5,  98.5, 105.5, 133.5, 140.5],\n",
       "       [-99. , -43. , -29. ,  27. ,  41. ,  97. , 111. , 167. , 181. ]])"
      ]
     },
     "execution_count": 2,
     "metadata": {},
     "output_type": "execute_result"
    }
   ],
   "source": [
    "my_secret = [x for x in range(1, 301, 7) if x%10 == 7 or x%10 == 1] #одномерный массив\n",
    "np.array([my_secret, [x/2 for x in my_secret], [x-100 for x in my_secret]])"
   ]
  },
  {
   "cell_type": "code",
   "execution_count": 8,
   "metadata": {},
   "outputs": [
    {
     "data": {
      "text/plain": [
       "array([[1, 2, 3, 4, 5],\n",
       "       [5, 1, 2, 3, 4],\n",
       "       [4, 5, 1, 2, 3],\n",
       "       [3, 4, 5, 1, 2],\n",
       "       [2, 3, 4, 5, 1]])"
      ]
     },
     "execution_count": 8,
     "metadata": {},
     "output_type": "execute_result"
    }
   ],
   "source": [
    "np.ones(5) #одномерный массив\n",
    "#np.ones(5,5) - Error\n",
    "np.ones((5,5))\n",
    "np.eye(5)\n",
    "np.full((5,5), 1)\n",
    "np.array([[1,2,3,4,5], [5,1,2,3,4], [4,5,1,2,3], [3,4,5,1,2], [2,3,4,5,1]])"
   ]
  },
  {
   "cell_type": "code",
   "execution_count": 16,
   "metadata": {},
   "outputs": [
    {
     "data": {
      "text/plain": [
       "array([0, 1, 4])"
      ]
     },
     "execution_count": 16,
     "metadata": {},
     "output_type": "execute_result"
    }
   ],
   "source": [
    "np.random.randint(0, 4, (3, 3)) #массив 3х3, заполнен числами от 0 до 3\n",
    "np.random.randint(0, 5, (3, 3)) #массив 3х3, заполнен числами от 0 до 4\n",
    "np.random.randint(0, 6, (3, 3)) #массив 3х3, заполнен числами от 0 до 5\n",
    "np.random.randint(0, 5, 3) #одномерный массив"
   ]
  },
  {
   "cell_type": "code",
   "execution_count": 20,
   "metadata": {},
   "outputs": [
    {
     "data": {
      "text/plain": [
       "array([[1, 1, 1, 1],\n",
       "       [1, 1, 1, 1],\n",
       "       [1, 1, 1, 1],\n",
       "       [1, 1, 1, 1]])"
      ]
     },
     "execution_count": 20,
     "metadata": {},
     "output_type": "execute_result"
    }
   ],
   "source": [
    "np.array([[1, 1, 1, 1], [1, 1, 1, 1], [1, 1, 1, 1], [1, 1, 1, 1]]) #массив 4х4 заполнен единицами\n",
    "np.eye(4) #массив 4х4, главная диагональ - 1, остальные - 0\n",
    "np.ones((4, 4), dtype=float) #массив 4х4 заполнен единицами\n",
    "np.full((4, 4), 1) #массив 4х4 заполнен единицами"
   ]
  },
  {
   "cell_type": "code",
   "execution_count": 24,
   "metadata": {},
   "outputs": [
    {
     "data": {
      "text/plain": [
       "array([ 1,  3,  5,  7,  9, 11, 13])"
      ]
     },
     "execution_count": 24,
     "metadata": {},
     "output_type": "execute_result"
    }
   ],
   "source": [
    "np.array(range(9)) #одномерный массив, заполнен числами от 0 до 8\n",
    "np.ones((2,2,2)) #трехмерный массив, заполнен единицами\n",
    "np.array([i for i in range(11) if i%2]) #одномерный массив, заполнен нечетными числами от 0 до 10\n",
    "np.arange(1, 14, 2) #одномерный массив, заполнен числами от 1 до 13 с шагом 2 (нечетные)"
   ]
  },
  {
   "cell_type": "markdown",
   "metadata": {},
   "source": [
    "# Индексация массивов"
   ]
  },
  {
   "cell_type": "code",
   "execution_count": 25,
   "metadata": {},
   "outputs": [],
   "source": [
    "my_array = np.array([x for x in range(10)]) #одномерный массив, заполнен числами от 0 до 9\n",
    "my_array[5] #обращение к 5-му эл-ту массива\n",
    "my_array[-1] #обращение к последнему эл-ту массива\n",
    "my_array[3:6] #срез массива с 3 по 5 индексы\n",
    "my_array[1:8:3] #срез массива с 1 по 7 индексы с шагом 3"
   ]
  },
  {
   "cell_type": "code",
   "execution_count": null,
   "metadata": {},
   "outputs": [],
   "source": [
    "my_array = np.array([[1,2,3,4], [10,11,12,13], [45,46,47,48]]) #двумерный массив\n",
    "my_array[1][2] #обращение к эл-ту в строке с индексом 1, в столбце с индексом 2\n",
    "my_array[1,2]  #обращение к эл-ту в строке с индексом 1, в столбце с индексом 2"
   ]
  },
  {
   "cell_type": "code",
   "execution_count": null,
   "metadata": {},
   "outputs": [],
   "source": [
    "my_array[1] #обращение к строке с индексом 1\n",
    "my_array[:, 2] #обращение к столбцу с индексом 2\n",
    "my_array[1:, 1:3] #срез массива строка с 1 по последнюю, столбцы с 1 по 2 (индексы)"
   ]
  },
  {
   "cell_type": "code",
   "execution_count": 26,
   "metadata": {},
   "outputs": [],
   "source": [
    "first_line = [x*y for x in range(2, 100, 6) for y in range (7, 1, -2)]\n",
    "second_line = [x ** 0.5 for x in range(1000, 1101, 2)]\n",
    "third_line = [x**2 for x in range(51)]\n",
    "\n",
    "big_secret = np.array([first_line, second_line, third_line, second_line, first_line])"
   ]
  },
  {
   "cell_type": "code",
   "execution_count": 27,
   "metadata": {},
   "outputs": [
    {
     "data": {
      "text/plain": [
       "3154.33"
      ]
     },
     "execution_count": 27,
     "metadata": {},
     "output_type": "execute_result"
    }
   ],
   "source": [
    "round(sum(big_secret[:, -1]), 2) #сумма эл-ов последнего столбца массива, округленная до сотых"
   ]
  },
  {
   "cell_type": "code",
   "execution_count": 55,
   "metadata": {},
   "outputs": [
    {
     "data": {
      "text/plain": [
       "-1.0"
      ]
     },
     "execution_count": 55,
     "metadata": {},
     "output_type": "execute_result"
    }
   ],
   "source": [
    "'Вычисление суммы эл-ов главной диагонали'\n",
    "\n",
    "def sum_main(s_array):\n",
    "    sum_main = 0\n",
    "    for i in range(5):\n",
    "        sum_main += s_array[i][i]\n",
    "    return sum_main\n",
    "    \n",
    "round(sum_main(big_secret[:, 0:5]), 2) #округление суммы до сотых"
   ]
  },
  {
   "cell_type": "code",
   "execution_count": 58,
   "metadata": {},
   "outputs": [
    {
     "data": {
      "text/plain": [
       "-1.0"
      ]
     },
     "execution_count": 58,
     "metadata": {},
     "output_type": "execute_result"
    }
   ],
   "source": [
    "'Вычисление произведения главной диагонали'\n",
    "\n",
    "def mult_main(s_array):\n",
    "    mult_main = 1\n",
    "    for i in range(5):\n",
    "        mult_main *= s_array[i][i]\n",
    "    return mult_main\n",
    "\n",
    "mult_main(big_secret[:, 46:])"
   ]
  },
  {
   "cell_type": "code",
   "execution_count": 46,
   "metadata": {},
   "outputs": [],
   "source": [
    "my2_array = np.random.randint(1, 100, (4, 6)) #создание массива с помощью генератора случайных чисел"
   ]
  },
  {
   "cell_type": "code",
   "execution_count": 48,
   "metadata": {},
   "outputs": [
    {
     "data": {
      "text/plain": [
       "array([[43, 36],\n",
       "       [84, 18]])"
      ]
     },
     "execution_count": 48,
     "metadata": {},
     "output_type": "execute_result"
    }
   ],
   "source": [
    "my_slice = my2_array[1:3, 2:4] #срез 2х2\n",
    "my_slice"
   ]
  },
  {
   "cell_type": "code",
   "execution_count": 50,
   "metadata": {},
   "outputs": [
    {
     "data": {
      "text/plain": [
       "array([[24, 26, 85, 84, 82, 93],\n",
       "       [95,  4,  0,  0, 26, 80],\n",
       "       [68, 96,  0,  0, 57, 83],\n",
       "       [ 4, 14, 90, 49, 51,  2]])"
      ]
     },
     "execution_count": 50,
     "metadata": {},
     "output_type": "execute_result"
    }
   ],
   "source": [
    "my_slice[:] = 0 #замена эл-ов среза на 0\n",
    "my2_array"
   ]
  },
  {
   "cell_type": "code",
   "execution_count": 51,
   "metadata": {},
   "outputs": [
    {
     "data": {
      "text/plain": [
       "(5, 51)"
      ]
     },
     "execution_count": 51,
     "metadata": {},
     "output_type": "execute_result"
    }
   ],
   "source": [
    "np.shape(big_secret) #размерность массива"
   ]
  },
  {
   "cell_type": "code",
   "execution_count": 52,
   "metadata": {},
   "outputs": [
    {
     "data": {
      "text/plain": [
       "array([[-1.        , 10.        , -1.        , 56.        , -1.        ],\n",
       "       [31.6227766 ,  1.        , 31.68595904,  1.        , 31.74901573],\n",
       "       [-1.        ,  1.        , -1.        ,  9.        , -1.        ],\n",
       "       [31.6227766 ,  1.        , 31.68595904,  1.        , 31.74901573],\n",
       "       [-1.        , 10.        , -1.        , 56.        , -1.        ]])"
      ]
     },
     "execution_count": 52,
     "metadata": {},
     "output_type": "execute_result"
    }
   ],
   "source": [
    "\"Замена элементов в массиве\"\n",
    "\n",
    "for i in range(5):\n",
    "    for j in range(51):\n",
    "        if (i % 2 == 0) and (j % 2 == 0):\n",
    "            big_secret[i][j] = -1\n",
    "        elif (i % 2 != 0) and (j % 2 != 0):\n",
    "            big_secret[i][j] = 1\n",
    "\n",
    "big_secret[:, 0:5]"
   ]
  },
  {
   "cell_type": "code",
   "execution_count": 59,
   "metadata": {},
   "outputs": [
    {
     "data": {
      "text/plain": [
       "-1.0"
      ]
     },
     "execution_count": 59,
     "metadata": {},
     "output_type": "execute_result"
    }
   ],
   "source": [
    "sum_main(big_secret[:, 0:5]) "
   ]
  },
  {
   "cell_type": "code",
   "execution_count": 60,
   "metadata": {},
   "outputs": [
    {
     "data": {
      "text/plain": [
       "-1.0"
      ]
     },
     "execution_count": 60,
     "metadata": {},
     "output_type": "execute_result"
    }
   ],
   "source": [
    "mult_main(big_secret[:, 46:])"
   ]
  },
  {
   "cell_type": "markdown",
   "metadata": {},
   "source": [
    "# Операции с массивами"
   ]
  },
  {
   "cell_type": "code",
   "execution_count": 61,
   "metadata": {},
   "outputs": [],
   "source": [
    "a = np.array([3,6,9])\n",
    "b = np.array([12,15,18])"
   ]
  },
  {
   "cell_type": "code",
   "execution_count": 62,
   "metadata": {},
   "outputs": [
    {
     "name": "stdout",
     "output_type": "stream",
     "text": [
      "Сумма: [15 21 27]\n",
      "Разность: [9 9 9]\n",
      "Произведение: [ 36  90 162]\n",
      "Частное: [0.25 0.4  0.5 ]\n",
      "Умножение на число: [ 6 12 18]\n"
     ]
    }
   ],
   "source": [
    "result1 = a+b\n",
    "result2 = b-a\n",
    "result3 = a*b\n",
    "result4 = a/b\n",
    "result5 = a*2\n",
    "print('Сумма: {}\\nРазность: {}\\nПроизведение: {}\\nЧастное: {}\\nУмножение на число: {}'.format(result1, result2, result3, result4, result5))"
   ]
  },
  {
   "cell_type": "code",
   "execution_count": 73,
   "metadata": {},
   "outputs": [
    {
     "data": {
      "text/plain": [
       "array([-0.9899925 ,  0.96017029, -0.91113026])"
      ]
     },
     "execution_count": 73,
     "metadata": {},
     "output_type": "execute_result"
    }
   ],
   "source": [
    "np.abs(a) #абсолютное значение\n",
    "np.sqrt(a) #квадратный корень\n",
    "np.exp(a) #экспонента\n",
    "np.log(a) #натуральный логарифм\n",
    "np.log10(a) #десятичный логарифм\n",
    "np.log2(a) #двоичный логарифм\n",
    "np.log1p(a) #ф-ция log(1+x)\n",
    "np.modf(a) #дробные и целые части массива, в виде отдельных массивов\n",
    "np.isnan(a) #массив логич. знач., показ. какие эл-ты явл. NaN\n",
    "np.cos(a) #обычный косинус\n",
    "np.sin(a) #обычный синус\n",
    "np.tan(a) #обычный тангинс\n",
    "np.arccos(a) #обратный косинус"
   ]
  },
  {
   "cell_type": "code",
   "execution_count": 75,
   "metadata": {},
   "outputs": [
    {
     "data": {
      "text/plain": [
       "array([[1, 4],\n",
       "       [2, 5],\n",
       "       [3, 6]])"
      ]
     },
     "execution_count": 75,
     "metadata": {},
     "output_type": "execute_result"
    }
   ],
   "source": [
    "c = np.array([[1, 2, 3], [4, 5, 6]])\n",
    "c.T #транспонирование массива"
   ]
  },
  {
   "cell_type": "code",
   "execution_count": 77,
   "metadata": {},
   "outputs": [
    {
     "data": {
      "text/plain": [
       "array([ 12,  15,  18,  22,  15,  90,  45,  36,  74, 100])"
      ]
     },
     "execution_count": 77,
     "metadata": {},
     "output_type": "execute_result"
    }
   ],
   "source": [
    "d = np.array([12,15,18,22,15,90,45,36,74,100])\n",
    "d.reshape((2, 5)) #изменение размерности массива\n",
    "d.flatten() #преобразование многомерного массива в одномерный"
   ]
  },
  {
   "cell_type": "code",
   "execution_count": 2,
   "metadata": {},
   "outputs": [
    {
     "data": {
      "text/plain": [
       "array([0, 0, 1, 2, 1, 2])"
      ]
     },
     "execution_count": 2,
     "metadata": {},
     "output_type": "execute_result"
    }
   ],
   "source": [
    "my_array = np.random.randint(0, 10, (3,4)) #массив заполненный генератором случайных чисел\n",
    "my_array[my_array<5] #выборка элементов массива, удовлетворяющие условию"
   ]
  },
  {
   "cell_type": "code",
   "execution_count": 3,
   "metadata": {},
   "outputs": [
    {
     "data": {
      "text/plain": [
       "array([[0, 1],\n",
       "       [5, 9],\n",
       "       [6, 1]])"
      ]
     },
     "execution_count": 3,
     "metadata": {},
     "output_type": "execute_result"
    }
   ],
   "source": [
    "mask = np.array([1, 0, 1, 0], dtype=bool) #создание маски, 0-скрыть столбец/строчку, 1-оставить видимой\n",
    "my_array[:, mask] #применение маски в массиву"
   ]
  },
  {
   "cell_type": "code",
   "execution_count": 4,
   "metadata": {},
   "outputs": [
    {
     "data": {
      "text/plain": [
       "array([[0, 0, 0, 7, 1, 0],\n",
       "       [3, 2, 3, 7, 2, 1],\n",
       "       [6, 3, 6, 7, 2, 7],\n",
       "       [7, 8, 8, 9, 6, 9]])"
      ]
     },
     "execution_count": 4,
     "metadata": {},
     "output_type": "execute_result"
    }
   ],
   "source": [
    "my_array = np.random.randint(0, 10, (4, 6)) #массив заполненный генератором случайных чисел\n",
    "\n",
    "np.sort(my_array, axis=1) #сортировка массива для каждой строки\n",
    "\n",
    "np.sort(my_array, axis=0) #сортировка массива для каждого стролбца"
   ]
  },
  {
   "cell_type": "markdown",
   "metadata": {},
   "source": [
    "# Задания для выполнения:"
   ]
  },
  {
   "cell_type": "code",
   "execution_count": 5,
   "metadata": {},
   "outputs": [],
   "source": [
    "first = [x**(1/2) for x in range(100)]\n",
    "second = [x**(1/3) for x in range(100, 200)]\n",
    "third = [x/y for x in range(200,300,2) for y in [3,5]]\n",
    "\n",
    "great_secret = np.array([first, second, third]).T #транспонированная матрица"
   ]
  },
  {
   "cell_type": "code",
   "execution_count": 6,
   "metadata": {},
   "outputs": [
    {
     "data": {
      "text/plain": [
       "(100, 3)"
      ]
     },
     "execution_count": 6,
     "metadata": {},
     "output_type": "execute_result"
    }
   ],
   "source": [
    "np.shape(great_secret) #размерность массива"
   ]
  },
  {
   "cell_type": "code",
   "execution_count": 7,
   "metadata": {},
   "outputs": [
    {
     "data": {
      "text/plain": [
       "0.16"
      ]
     },
     "execution_count": 7,
     "metadata": {},
     "output_type": "execute_result"
    }
   ],
   "source": [
    "round(sum(np.cos(great_secret[0, :])), 2) #сумма cos первой строки массива"
   ]
  },
  {
   "cell_type": "code",
   "execution_count": 8,
   "metadata": {},
   "outputs": [
    {
     "data": {
      "text/plain": [
       "5470.0"
      ]
     },
     "execution_count": 8,
     "metadata": {},
     "output_type": "execute_result"
    }
   ],
   "source": [
    "sum(great_secret[great_secret>50]) #сумма элементов массива >50"
   ]
  },
  {
   "cell_type": "code",
   "execution_count": 10,
   "metadata": {},
   "outputs": [
    {
     "data": {
      "text/plain": [
       "7.0710678118654755"
      ]
     },
     "execution_count": 10,
     "metadata": {},
     "output_type": "execute_result"
    }
   ],
   "source": [
    "s_secret = great_secret.flatten() #преобразование в одномерный массив\n",
    "s_secret[150]"
   ]
  },
  {
   "cell_type": "code",
   "execution_count": 12,
   "metadata": {},
   "outputs": [
    {
     "data": {
      "text/plain": [
       "115.12"
      ]
     },
     "execution_count": 12,
     "metadata": {},
     "output_type": "execute_result"
    }
   ],
   "source": [
    "sort_secret = np.sort(great_secret, axis=0) #сортировка массива по столбцам\n",
    "round(sum(sort_secret[-1, :]), 2) #сумма элементов последней строки отсортированного массива"
   ]
  },
  {
   "cell_type": "markdown",
   "metadata": {},
   "source": [
    "# Математические и статистические операции"
   ]
  },
  {
   "cell_type": "code",
   "execution_count": 14,
   "metadata": {},
   "outputs": [],
   "source": [
    "'''Создадим массив, содержащий информацию об учениках шестого класса.\n",
    "   1 столбец - ID (номер в журнале), 2 - рост, см., 3 - масса тела, кг., 4 - средний балл'''\n",
    "\n",
    "students = np.array([[1,135,34,4], [2,160,43,5], [3,163,40,4.3], [4,147,44,5], [5,138,41,4.7],\n",
    "                    [6,149,54,3.9], [7,136,39,4.2], [8,154,48,4.9], [9,137,35,3.7], [10,165,60,4.6]])"
   ]
  },
  {
   "cell_type": "code",
   "execution_count": 17,
   "metadata": {},
   "outputs": [
    {
     "data": {
      "text/plain": [
       "4.430000000000001"
      ]
     },
     "execution_count": 17,
     "metadata": {},
     "output_type": "execute_result"
    }
   ],
   "source": [
    "mean = np.mean(students[:,-1]) #средняя успеваемость школьников в классе\n",
    "mean"
   ]
  },
  {
   "cell_type": "code",
   "execution_count": 18,
   "metadata": {},
   "outputs": [
    {
     "data": {
      "text/plain": [
       "4.449999999999999"
      ]
     },
     "execution_count": 18,
     "metadata": {},
     "output_type": "execute_result"
    }
   ],
   "source": [
    "median = np.median(students[:,-1]) #медианное значение по успеваемости\n",
    "median"
   ]
  },
  {
   "cell_type": "code",
   "execution_count": 21,
   "metadata": {},
   "outputs": [
    {
     "data": {
      "text/plain": [
       "1.8"
      ]
     },
     "execution_count": 21,
     "metadata": {},
     "output_type": "execute_result"
    }
   ],
   "source": [
    "mean_m = np.mean(students[:, 2]) #средний вес школьников\n",
    "median_m = np.median(students[:, 2]) #медианный вес школьников\n",
    "round(mean_m - median_m, 1)"
   ]
  },
  {
   "cell_type": "code",
   "execution_count": 22,
   "metadata": {},
   "outputs": [
    {
     "data": {
      "text/plain": [
       "array([[1.        , 0.64314431],\n",
       "       [0.64314431, 1.        ]])"
      ]
     },
     "execution_count": 22,
     "metadata": {},
     "output_type": "execute_result"
    }
   ],
   "source": [
    "corr = np.corrcoef(students[:,1], students[:,2]) #как связан рост и вес школьников, посчитав коэффициент корреляции столбцов матрицы\n",
    "corr"
   ]
  },
  {
   "cell_type": "markdown",
   "metadata": {},
   "source": [
    "Полученный нами коэффициент корреляции составляет чуть больше 0.64. Это говорит о том, что между ростом и весом школьников существует положительная связь: более рослые ученики обычно имеют более высокую массу тела."
   ]
  },
  {
   "cell_type": "code",
   "execution_count": 25,
   "metadata": {},
   "outputs": [
    {
     "data": {
      "text/plain": [
       "11.083320801997928"
      ]
     },
     "execution_count": 25,
     "metadata": {},
     "output_type": "execute_result"
    }
   ],
   "source": [
    "std = np.std(students[:,1]) #насколько разный у школьников рост, посчитав стандартное отклонение\n",
    "std"
   ]
  },
  {
   "cell_type": "markdown",
   "metadata": {},
   "source": [
    "Полученный результат показывает, что в этом классе одни дети уже начали активно расти, а другие ещё не вступили в период полового созревания. В результате разброс в росте большинства учеников составляет более 11 см от среднего арифметического."
   ]
  },
  {
   "cell_type": "code",
   "execution_count": 29,
   "metadata": {},
   "outputs": [
    {
     "data": {
      "text/plain": [
       "60.36"
      ]
     },
     "execution_count": 29,
     "metadata": {},
     "output_type": "execute_result"
    }
   ],
   "source": [
    "weight = students[:, 2] #срез столбца с весами школьников\n",
    "mean = np.mean(weight) #среднее арифметическое (математическое ожидание)\n",
    "dev_random = []\n",
    "for i in weight:\n",
    "    dev_random.append((i-mean)**2) #квадрат отклонения случайной величины от ее мат.ожидания\n",
    "np.mean(dev_random) #дисперсия (мат.ожидание от квадрата отклонения случ. велич. от ее мат.ожидания)"
   ]
  },
  {
   "cell_type": "code",
   "execution_count": 30,
   "metadata": {},
   "outputs": [
    {
     "data": {
      "text/plain": [
       "60.36"
      ]
     },
     "execution_count": 30,
     "metadata": {},
     "output_type": "execute_result"
    }
   ],
   "source": [
    "np.var(weight) #дисперция от среза массива по весу школьников"
   ]
  },
  {
   "cell_type": "code",
   "execution_count": 13,
   "metadata": {},
   "outputs": [
    {
     "data": {
      "text/plain": [
       "array([[ 7,  8,  9],\n",
       "       [12, 13, 14],\n",
       "       [17, 18, 19]])"
      ]
     },
     "execution_count": 13,
     "metadata": {},
     "output_type": "execute_result"
    }
   ],
   "source": [
    "my_array = np.array([[1,2,3,4,5],\n",
    "                    [6,7,8,9,10],\n",
    "                    [11,12,13,14,15],\n",
    "                    [16,17,18,19,20],\n",
    "                    [21,22,23,24,25]])\n",
    "\n",
    "my_array[1:4,1:4]"
   ]
  },
  {
   "cell_type": "code",
   "execution_count": 9,
   "metadata": {},
   "outputs": [
    {
     "data": {
      "text/plain": [
       "-0.058"
      ]
     },
     "execution_count": 9,
     "metadata": {},
     "output_type": "execute_result"
    }
   ],
   "source": [
    "my_sin = np.sin(my_array)\n",
    "round(np.sum(my_sin), 3)"
   ]
  },
  {
   "cell_type": "code",
   "execution_count": 10,
   "metadata": {},
   "outputs": [
    {
     "data": {
      "text/plain": [
       "7.572"
      ]
     },
     "execution_count": 10,
     "metadata": {},
     "output_type": "execute_result"
    }
   ],
   "source": [
    "my_sin[1:4,1:4] = 1\n",
    "round(np.sum(my_sin), 3)"
   ]
  },
  {
   "cell_type": "code",
   "execution_count": 15,
   "metadata": {},
   "outputs": [
    {
     "data": {
      "text/plain": [
       "2.406"
      ]
     },
     "execution_count": 15,
     "metadata": {},
     "output_type": "execute_result"
    }
   ],
   "source": [
    "re_sin = my_sin[:,0:4].reshape((10,2))\n",
    "round(np.sum(re_sin[:,0]), 3)"
   ]
  },
  {
   "cell_type": "code",
   "execution_count": 22,
   "metadata": {},
   "outputs": [
    {
     "data": {
      "text/plain": [
       "array([ 10201,  10609,  11025,  11449,  11881,  12321,  12769,  13225,\n",
       "        13689,  14161,  14641,  15129,  15625,  16129,  16641,  17161,\n",
       "        17689,  18225,  18769,  19321,  19881,  20449,  21025,  21609,\n",
       "        22201,  22801,  23409,  24025,  24649,  25281,  25921,  26569,\n",
       "        27225,  27889,  28561,  29241,  29929,  30625,  31329,  32041,\n",
       "        32761,  33489,  34225,  34969,  35721,  36481,  37249,  38025,\n",
       "        38809,  39601,  40401,  41209,  42025,  42849,  43681,  44521,\n",
       "        45369,  46225,  47089,  47961,  48841,  49729,  50625,  51529,\n",
       "        52441,  53361,  54289,  55225,  56169,  57121,  58081,  59049,\n",
       "        60025,  61009,  62001,  63001,  64009,  65025,  66049,  67081,\n",
       "        68121,  69169,  70225,  71289,  72361,  73441,  74529,  75625,\n",
       "        76729,  77841,  78961,  80089,  81225,  82369,  83521,  84681,\n",
       "        85849,  87025,  88209,  89401,  90601,  91809,  93025,  94249,\n",
       "        95481,  96721,  97969,  99225, 100489, 101761, 103041, 104329,\n",
       "       105625, 106929, 108241, 109561, 110889, 112225, 113569, 114921,\n",
       "       116281, 117649, 119025, 120409, 121801, 123201, 124609, 126025,\n",
       "       127449, 128881, 130321, 131769, 133225, 134689, 136161, 137641,\n",
       "       139129, 140625, 142129, 143641, 145161, 146689, 148225, 149769,\n",
       "       151321, 152881, 154449, 156025, 157609, 159201, 160801, 162409,\n",
       "       164025, 165649, 167281, 168921, 170569, 172225, 173889, 175561,\n",
       "       177241, 178929, 180625, 182329, 184041, 185761, 187489, 189225,\n",
       "       190969, 192721, 194481, 196249, 198025, 199809, 201601, 203401,\n",
       "       205209, 207025, 208849, 210681, 212521, 214369, 216225, 218089,\n",
       "       219961, 221841, 223729, 225625, 227529, 229441, 231361, 233289,\n",
       "       235225, 237169, 239121, 241081, 243049, 245025, 247009, 249001,\n",
       "       251001, 253009, 255025, 257049, 259081, 261121, 263169, 265225,\n",
       "       267289, 269361, 271441, 273529, 275625, 277729, 279841, 281961,\n",
       "       284089, 286225, 288369, 290521, 292681, 294849, 297025, 299209,\n",
       "       301401, 303601, 305809, 308025, 310249, 312481, 314721, 316969,\n",
       "       319225, 321489, 323761, 326041, 328329, 330625, 332929, 335241,\n",
       "       337561, 339889, 342225, 344569, 346921, 349281, 351649, 354025,\n",
       "       356409, 358801, 361201, 363609, 366025, 368449, 370881, 373321,\n",
       "       375769, 378225, 380689, 383161, 385641, 388129, 390625, 393129,\n",
       "       395641, 398161, 400689, 403225, 405769, 408321, 410881, 413449,\n",
       "       416025, 418609, 421201, 423801, 426409, 429025, 431649, 434281,\n",
       "       436921, 439569, 442225, 444889, 447561, 450241, 452929, 455625,\n",
       "       458329, 461041, 463761, 466489, 469225, 471969, 474721, 477481,\n",
       "       480249, 483025, 485809, 488601, 491401, 494209, 497025, 499849,\n",
       "       502681, 505521, 508369, 511225, 514089, 516961, 519841, 522729,\n",
       "       525625, 528529, 531441, 534361, 537289, 540225, 543169, 546121,\n",
       "       549081, 552049, 555025, 558009, 561001, 564001, 567009, 570025,\n",
       "       573049, 576081, 579121, 582169, 585225, 588289, 591361, 594441,\n",
       "       597529, 600625, 603729, 606841, 609961, 613089, 616225, 619369,\n",
       "       622521, 625681, 628849, 632025, 635209, 638401, 641601, 644809,\n",
       "       648025, 651249, 654481, 657721, 660969, 664225, 667489, 670761,\n",
       "       674041, 677329, 680625, 683929, 687241, 690561, 693889, 697225,\n",
       "       700569, 703921, 707281, 710649, 714025, 717409, 720801, 724201,\n",
       "       727609, 731025, 734449, 737881, 741321, 744769, 748225, 751689,\n",
       "       755161, 758641, 762129, 765625, 769129, 772641, 776161, 779689,\n",
       "       783225, 786769, 790321, 793881, 797449, 801025, 804609, 808201,\n",
       "       811801, 815409, 819025, 822649, 826281, 829921, 833569, 837225,\n",
       "       840889, 844561, 848241, 851929, 855625, 859329, 863041, 866761,\n",
       "       870489, 874225, 877969, 881721, 885481, 889249, 893025, 896809,\n",
       "       900601, 904401, 908209, 912025, 915849, 919681, 923521, 927369,\n",
       "       931225, 935089, 938961, 942841, 946729, 950625, 954529, 958441,\n",
       "       962361, 966289, 970225, 974169, 978121, 982081, 986049, 990025,\n",
       "       994009, 998001], dtype=int32)"
      ]
     },
     "execution_count": 22,
     "metadata": {},
     "output_type": "execute_result"
    }
   ],
   "source": [
    "bigdata = np.arange(101,1001,2)**2\n",
    "bigdata"
   ]
  },
  {
   "cell_type": "code",
   "execution_count": 19,
   "metadata": {},
   "outputs": [
    {
     "data": {
      "text/plain": [
       "302501.0"
      ]
     },
     "execution_count": 19,
     "metadata": {},
     "output_type": "execute_result"
    }
   ],
   "source": [
    "np.median(bigdata)"
   ]
  },
  {
   "cell_type": "code",
   "execution_count": 21,
   "metadata": {},
   "outputs": [
    {
     "data": {
      "text/plain": [
       "292095.0"
      ]
     },
     "execution_count": 21,
     "metadata": {},
     "output_type": "execute_result"
    }
   ],
   "source": [
    "round(np.std(bigdata), 0)"
   ]
  },
  {
   "cell_type": "markdown",
   "metadata": {},
   "source": [
    "Найти коэффициент корреляции между эллементами под четными и нечетными индексами массива bigdata"
   ]
  },
  {
   "cell_type": "code",
   "execution_count": 31,
   "metadata": {},
   "outputs": [
    {
     "data": {
      "text/plain": [
       "array([[1.        , 0.99999973],\n",
       "       [0.99999973, 1.        ]])"
      ]
     },
     "execution_count": 31,
     "metadata": {},
     "output_type": "execute_result"
    }
   ],
   "source": [
    "a = bigdata[0::2] #выбираем элементы под четными индексами\n",
    "b = bigdata[1::2] #выбираем эл-ты под нечетными индексами\n",
    "c = np.array([a, b])\n",
    "np.corrcoef(c)"
   ]
  }
 ],
 "metadata": {
  "kernelspec": {
   "display_name": "Python 3",
   "language": "python",
   "name": "python3"
  },
  "language_info": {
   "codemirror_mode": {
    "name": "ipython",
    "version": 3
   },
   "file_extension": ".py",
   "mimetype": "text/x-python",
   "name": "python",
   "nbconvert_exporter": "python",
   "pygments_lexer": "ipython3",
   "version": "3.7.6"
  }
 },
 "nbformat": 4,
 "nbformat_minor": 4
}
