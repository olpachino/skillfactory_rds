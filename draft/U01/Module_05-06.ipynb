{
 "cells": [
  {
   "cell_type": "code",
   "execution_count": 1,
   "metadata": {},
   "outputs": [
    {
     "data": {
      "text/html": [
       "<div>\n",
       "<style scoped>\n",
       "    .dataframe tbody tr th:only-of-type {\n",
       "        vertical-align: middle;\n",
       "    }\n",
       "\n",
       "    .dataframe tbody tr th {\n",
       "        vertical-align: top;\n",
       "    }\n",
       "\n",
       "    .dataframe thead th {\n",
       "        text-align: right;\n",
       "    }\n",
       "</style>\n",
       "<table border=\"1\" class=\"dataframe\">\n",
       "  <thead>\n",
       "    <tr style=\"text-align: right;\">\n",
       "      <th></th>\n",
       "      <th>Club</th>\n",
       "      <th>mean</th>\n",
       "      <th>median</th>\n",
       "    </tr>\n",
       "  </thead>\n",
       "  <tbody>\n",
       "    <tr>\n",
       "      <th>168</th>\n",
       "      <td>Cruzeiro</td>\n",
       "      <td>13000</td>\n",
       "      <td>13000</td>\n",
       "    </tr>\n",
       "    <tr>\n",
       "      <th>284</th>\n",
       "      <td>Göztepe SK</td>\n",
       "      <td>7000</td>\n",
       "      <td>7000</td>\n",
       "    </tr>\n",
       "    <tr>\n",
       "      <th>99</th>\n",
       "      <td>Brøndby IF</td>\n",
       "      <td>6000</td>\n",
       "      <td>6000</td>\n",
       "    </tr>\n",
       "    <tr>\n",
       "      <th>567</th>\n",
       "      <td>Sunderland</td>\n",
       "      <td>4000</td>\n",
       "      <td>4000</td>\n",
       "    </tr>\n",
       "    <tr>\n",
       "      <th>108</th>\n",
       "      <td>CD Feirense</td>\n",
       "      <td>4000</td>\n",
       "      <td>4000</td>\n",
       "    </tr>\n",
       "  </tbody>\n",
       "</table>\n",
       "</div>"
      ],
      "text/plain": [
       "            Club   mean  median\n",
       "168     Cruzeiro  13000   13000\n",
       "284   Göztepe SK   7000    7000\n",
       "99    Brøndby IF   6000    6000\n",
       "567   Sunderland   4000    4000\n",
       "108  CD Feirense   4000    4000"
      ]
     },
     "metadata": {},
     "output_type": "display_data"
    }
   ],
   "source": [
    "import pandas as pd\n",
    "football = pd.read_csv('data_sf.csv')\n",
    "df = football.groupby(['Club'])['Wage'].agg(['mean', 'median'])\n",
    "df_df = df.reset_index()\n",
    "df_df = df_df.astype({'mean': int})\n",
    "display(df_df[df_df['mean'] == df_df['median']].sort_values(['mean'], ascending=False).head())"
   ]
  },
  {
   "cell_type": "code",
   "execution_count": null,
   "metadata": {},
   "outputs": [],
   "source": [
    "df = pd.read_csv('data_sf.csv')\n",
    "df2 = df.pivot_table(values=['Name'], index=['Position'], columns=['Club'], aggfunc='count', fill_value=0)\n",
    "s_df2 = df2.loc['CM']['Name'].reset_index()\n",
    "display(len(s_df2.loc[s_df2.CM == 0]))"
   ]
  },
  {
   "cell_type": "code",
   "execution_count": null,
   "metadata": {},
   "outputs": [],
   "source": [
    "df = pd.read_csv('data_sf.csv')\n",
    "df2 = df.pivot_table(values=['Wage'], index=['Nationality'], columns=['Club'], aggfunc='sum', fill_value=0)\n",
    "display(df2.loc['Russia']['Wage']['AS Monaco'])"
   ]
  },
  {
   "cell_type": "code",
   "execution_count": 17,
   "metadata": {},
   "outputs": [
    {
     "data": {
      "text/plain": [
       "Club\n",
       "Vitória              91.000000\n",
       "Sydney FC            88.000000\n",
       "CD Lugo              87.000000\n",
       "Brøndby IF           84.666667\n",
       "Leicester City       84.500000\n",
       "Feyenoord            84.000000\n",
       "FC Bayern München    84.000000\n",
       "FC Zürich            84.000000\n",
       "KRC Genk             84.000000\n",
       "Manchester United    84.000000\n",
       "Name: ST, dtype: float64"
      ]
     },
     "metadata": {},
     "output_type": "display_data"
    }
   ],
   "source": [
    "df = pd.read_csv('data_sf.csv')\n",
    "#df.info()\n",
    "df2 = df.pivot_table(values=['SprintSpeed'], index=['Position'], columns=['Club'], aggfunc='mean', fill_value=0)\n",
    "s_df = df.groupby(['Position'])['SprintSpeed'].mean().sort_values(ascending=False)\n",
    "s_df2 = df2.loc['ST']['SprintSpeed'].sort_values(ascending=False)\n",
    "#ss_df2 = s_df2.reset_index()\n",
    "#ss_df2.ST.sort_values(ascending=False)\n",
    "display(s_df2.head(10))"
   ]
  },
  {
   "cell_type": "code",
   "execution_count": null,
   "metadata": {},
   "outputs": [],
   "source": []
  }
 ],
 "metadata": {
  "kernelspec": {
   "display_name": "Python 3",
   "language": "python",
   "name": "python3"
  },
  "language_info": {
   "codemirror_mode": {
    "name": "ipython",
    "version": 3
   },
   "file_extension": ".py",
   "mimetype": "text/x-python",
   "name": "python",
   "nbconvert_exporter": "python",
   "pygments_lexer": "ipython3",
   "version": "3.7.6"
  }
 },
 "nbformat": 4,
 "nbformat_minor": 4
}
