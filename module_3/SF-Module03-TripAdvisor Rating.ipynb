{
 "cells": [
  {
   "cell_type": "markdown",
   "metadata": {},
   "source": [
    "## Загрузка необходимых библиотек"
   ]
  },
  {
   "cell_type": "code",
   "execution_count": null,
   "metadata": {},
   "outputs": [],
   "source": [
    "import numpy as np # linear algebra\n",
    "import pandas as pd # data processing, CSV file\n",
    "\n",
    "# Библиотеки для визуализации\n",
    "import matplotlib.pyplot as plt\n",
    "import seaborn as sns \n",
    "%matplotlib inline\n",
    "\n",
    "# Библиотеки для обработки дат\n",
    "import re\n",
    "from datetime import datetime, timedelta\n",
    "import time"
   ]
  },
  {
   "cell_type": "code",
   "execution_count": null,
   "metadata": {},
   "outputs": [],
   "source": [
    "# всегда фиксируйте RANDOM_SEED, чтобы ваши эксперименты были воспроизводимы!\n",
    "RANDOM_SEED = 42"
   ]
  },
  {
   "cell_type": "code",
   "execution_count": null,
   "metadata": {},
   "outputs": [],
   "source": [
    "# Загружаем данные\n",
    "data = pd.read_csv('main_task.csv')"
   ]
  },
  {
   "cell_type": "code",
   "execution_count": null,
   "metadata": {},
   "outputs": [],
   "source": [
    "data.head()"
   ]
  },
  {
   "cell_type": "code",
   "execution_count": null,
   "metadata": {},
   "outputs": [],
   "source": [
    "data.info()"
   ]
  },
  {
   "cell_type": "markdown",
   "metadata": {},
   "source": [
    "Подробнее по признакам:\n",
    "* City: Город \n",
    "* Cuisine Style: Кухня\n",
    "* Ranking: Ранг ресторана относительно других ресторанов в этом городе\n",
    "* Price Range: Цены в ресторане в 3 категориях\n",
    "* Number of Reviews: Количество отзывов\n",
    "* Reviews: 2 последних отзыва и даты этих отзывов\n",
    "* URL_TA: страница ресторана на 'www.tripadvisor.com' \n",
    "* ID_TA: ID ресторана в TripAdvisor\n",
    "* Rating: Рейтинг ресторана"
   ]
  },
  {
   "cell_type": "markdown",
   "metadata": {},
   "source": [
    "## 1. Обработка NAN "
   ]
  },
  {
   "cell_type": "markdown",
   "metadata": {},
   "source": [
    "По информации о полученных данных мы видим, что в 3-х столбцах есть пропущенные значение: 'Cuisine Style', 'Price Range', 'Number of Reviews'. Эти пропуски необходимо обработкать, заполнить какими-то значениями или удалить."
   ]
  },
  {
   "cell_type": "code",
   "execution_count": null,
   "metadata": {},
   "outputs": [],
   "source": [
    "# Функция заполняет пропуски в столбце 'Number of Reviews' средним значением по городу\n",
    "def fillna_number_reviews(row):\n",
    "    if np.isnan(row['Number of Reviews']):\n",
    "        row['Number of Reviews'] = round(data[data['City'] == row['City']]['Number of Reviews'].mean(),0)\n",
    "        return row['Number of Reviews']\n",
    "    return row['Number of Reviews']"
   ]
  },
  {
   "cell_type": "code",
   "execution_count": null,
   "metadata": {},
   "outputs": [],
   "source": [
    "# Применяем функция для заполнения пропусков\n",
    "data['Number of Reviews'] = data.apply(lambda row: fillna_number_reviews(row), axis=1)"
   ]
  },
  {
   "cell_type": "code",
   "execution_count": null,
   "metadata": {},
   "outputs": [],
   "source": [
    "# Заменяем пропуски в 'Cuisine Style' на значение 'Not data'\n",
    "data['Cuisine Style'].fillna(\"['Not data']\", axis=0, inplace=True)"
   ]
  },
  {
   "cell_type": "code",
   "execution_count": null,
   "metadata": {},
   "outputs": [],
   "source": [
    "# Заменяем пропуски в 'Price Range' на значение 0\n",
    "data['Price Range'].fillna('0', axis=0, inplace=True)"
   ]
  },
  {
   "cell_type": "markdown",
   "metadata": {},
   "source": [
    "## 2. Обработка признаков и создание новых"
   ]
  },
  {
   "cell_type": "markdown",
   "metadata": {},
   "source": [
    "***Рассмотрим признак \"Price Range\"***"
   ]
  },
  {
   "cell_type": "code",
   "execution_count": null,
   "metadata": {},
   "outputs": [],
   "source": [
    "data['Price Range'].value_counts()"
   ]
  },
  {
   "cell_type": "code",
   "execution_count": null,
   "metadata": {},
   "outputs": [],
   "source": [
    "# Преобразовыем категориальные данные в числовой формат\n",
    "data['Price Range'] = data['Price Range'].map({'$$ - $$$': 2, '$': 1, '$$$$':3, '0':0})"
   ]
  },
  {
   "cell_type": "code",
   "execution_count": null,
   "metadata": {},
   "outputs": [],
   "source": [
    "# Посмотрим на распределение признака\n",
    "plt.rcParams['figure.figsize'] = (10,7)\n",
    "data['Price Range'].hist()"
   ]
  },
  {
   "cell_type": "markdown",
   "metadata": {},
   "source": [
    "***Обработка признака 'Cuisine Style'***"
   ]
  },
  {
   "cell_type": "code",
   "execution_count": null,
   "metadata": {},
   "outputs": [],
   "source": [
    "# Пребразование строки в список стилей кухонь, представленных в ресторанах\n",
    "data['Cuisine Style'] = data['Cuisine Style'].apply(lambda x: x[2:-2])\n",
    "data['Cuisine Style'] = data['Cuisine Style'].str.split(\"', '\")"
   ]
  },
  {
   "cell_type": "code",
   "execution_count": null,
   "metadata": {},
   "outputs": [],
   "source": [
    "# Создаем множество стилей кухонь\n",
    "cuisins = set()\n",
    "for cuisins_style in data['Cuisine Style']:\n",
    "    for cuisin in cuisins_style:\n",
    "        cuisins.add(cuisin)\n",
    "        \n",
    "len(cuisins) #кол-во стилей кухонь, +1 - нет данных        "
   ]
  },
  {
   "cell_type": "code",
   "execution_count": null,
   "metadata": {},
   "outputs": [],
   "source": [
    "# Создаем функцию для преобразования в dummy-переменные\n",
    "def find_item(cell):\n",
    "    if item in cell:\n",
    "        return 1\n",
    "    return 0"
   ]
  },
  {
   "cell_type": "code",
   "execution_count": null,
   "metadata": {},
   "outputs": [],
   "source": [
    "# Применяем функцию для преобразования 'Cuisine Style' в dummy-переменные\n",
    "for item in cuisins:\n",
    "    data[item] = data['Cuisine Style'].apply(find_item)"
   ]
  },
  {
   "cell_type": "code",
   "execution_count": null,
   "metadata": {},
   "outputs": [],
   "source": [
    "# Удаляем столбцы с наименьшей информативностью\n",
    "columns_cuisins_drop = [s for s in cuisins if data[s].sum() < 50]\n",
    "data.drop(columns_cuisins_drop, axis = 1, inplace=True)"
   ]
  },
  {
   "cell_type": "code",
   "execution_count": null,
   "metadata": {},
   "outputs": [],
   "source": [
    "# Преобразеум признак 'Cuisine Style' в признак с количеством стилей кухонь, представленных в ресторанах\n",
    "data['Cuisine Style'] = data['Cuisine Style'].apply(lambda x: len(x))"
   ]
  },
  {
   "cell_type": "code",
   "execution_count": null,
   "metadata": {},
   "outputs": [],
   "source": [
    "data.info()"
   ]
  },
  {
   "cell_type": "markdown",
   "metadata": {},
   "source": [
    "***Обработка признака Reviews***"
   ]
  },
  {
   "cell_type": "code",
   "execution_count": null,
   "metadata": {},
   "outputs": [],
   "source": [
    "# Выделяем значения дат отзывов в остельный столбец\n",
    "data['Date reviews'] = data['Reviews'].apply(lambda x: re.findall(r'\\d{2}/\\d{2}/\\d{4}', x))"
   ]
  },
  {
   "cell_type": "code",
   "execution_count": null,
   "metadata": {},
   "outputs": [],
   "source": [
    "# Преобразовываем строки с информацией о датах отзывов в список со значениями в формате datetime\n",
    "for i in range(len(data['Date reviews'])):\n",
    "    data['Date reviews'][i] = [datetime.strptime(x, '%m/%d/%Y') for x in data['Date reviews'][i]]"
   ]
  },
  {
   "cell_type": "code",
   "execution_count": null,
   "metadata": {},
   "outputs": [],
   "source": [
    "# Для удобства вычисления преобразуем даты в формат \"кол-во дней с 1970 года\"\n",
    "for i in range(len(data['Date reviews'])):\n",
    "    data['Date reviews'][i] = list(map(datetime.timestamp, data['Date reviews'][i]))"
   ]
  },
  {
   "cell_type": "code",
   "execution_count": null,
   "metadata": {},
   "outputs": [],
   "source": [
    "# Добавляем признак даты последнего отзыва, в формате \"кол-во дней с 1970 года\"\n",
    "data['Date last review'] = data.apply(lambda x: max(x['Date reviews']) if len(x['Date reviews']) > 0 else 0, axis=1)"
   ]
  },
  {
   "cell_type": "code",
   "execution_count": null,
   "metadata": {},
   "outputs": [],
   "source": [
    "# Посмотрим на распределение признака\n",
    "data['Date last review'].hist(bins=100)"
   ]
  },
  {
   "cell_type": "markdown",
   "metadata": {},
   "source": [
    "***Обработка признака City и добавление новых признаков***"
   ]
  },
  {
   "cell_type": "code",
   "execution_count": null,
   "metadata": {},
   "outputs": [],
   "source": [
    "data['City'].value_counts()"
   ]
  },
  {
   "cell_type": "code",
   "execution_count": null,
   "metadata": {},
   "outputs": [],
   "source": [
    "# Посмотрим на распределение признака\n",
    "data['City'].hist(bins=100)"
   ]
  },
  {
   "cell_type": "code",
   "execution_count": null,
   "metadata": {},
   "outputs": [],
   "source": [
    "# Создаем новый признак с id города, на основании телефонного кода\n",
    "data['City ID'] = data['City'].map({'London': 4420, 'Paris': 331, 'Madrid':341, 'Barcelona':343,\n",
    "                                   'Berlin':4930, 'Milan':392, 'Rome':396, 'Prague':4202,\n",
    "                                   'Lisbon':35121, 'Vienna':431, 'Amsterdam':3120, 'Brussels':322,\n",
    "                                   'Hamburg':4940, 'Munich':4989, 'Lyon':33437, 'Stockholm':468,\n",
    "                                   'Budapest':361, 'Warsaw':4822, 'Dublin':3531, 'Copenhagen':451,\n",
    "                                   'Athens':30210, 'Edinburgh':44131, 'Zurich':411, 'Oporto':3512,\n",
    "                                   'Geneva':4122, 'Krakow':4812, 'Oslo':4722, 'Helsinki':3589,\n",
    "                                   'Bratislava':4212, 'Luxembourg':352, 'Ljubljana':3861})"
   ]
  },
  {
   "cell_type": "code",
   "execution_count": null,
   "metadata": {},
   "outputs": [],
   "source": [
    "# Создаем новый признак с населением города, млн.чел.\n",
    "data['City population'] = data['City'].map({'London': 8.982, 'Paris': 2.140, 'Madrid':6.642, 'Barcelona':5.575,\n",
    "                                           'Berlin':3.769, 'Milan':1.332, 'Rome':2.870, 'Prague':1.309,\n",
    "                                           'Lisbon':0.507, 'Vienna':1.897, 'Amsterdam':0.825, 'Brussels':1.209,\n",
    "                                           'Hamburg':1.841, 'Munich':1.472, 'Lyon':0.496, 'Stockholm':0.976,\n",
    "                                           'Budapest':1.752, 'Warsaw':1.791, 'Dublin':1.388, 'Copenhagen':1.247,\n",
    "                                           'Athens':3.169, 'Edinburgh':0.525, 'Zurich':0.402, 'Oporto':0.222,\n",
    "                                           'Geneva':0.499, 'Krakow':0.779, 'Oslo':0.681, 'Helsinki':0.655,\n",
    "                                           'Bratislava':0.438, 'Luxembourg':0.122, 'Ljubljana':0.284}) "
   ]
  },
  {
   "cell_type": "code",
   "execution_count": null,
   "metadata": {},
   "outputs": [],
   "source": [
    "# Создаем новый с площадью города, км.кв.\n",
    "data['City square'] = data['City'].map({'London': 1572, 'Paris': 105.4, 'Madrid':604.3, 'Barcelona':101.9,\n",
    "                                       'Berlin':891.8, 'Milan':181.8, 'Rome':1285, 'Prague':496,\n",
    "                                       'Lisbon':100, 'Vienna':414.6, 'Amsterdam':219.3, 'Brussels':32.61,\n",
    "                                       'Hamburg':755.2, 'Munich':310.4, 'Lyon':47.87, 'Stockholm':188,\n",
    "                                       'Budapest':525.2, 'Warsaw':517.2, 'Dublin':115, 'Copenhagen':88.25,\n",
    "                                       'Athens':2929, 'Edinburgh':264, 'Zurich':87.88, 'Oporto':41.42,\n",
    "                                       'Geneva':15.93, 'Krakow':327, 'Oslo':454, 'Helsinki':213.8,\n",
    "                                       'Bratislava':367.6, 'Luxembourg':51.46, 'Ljubljana':163.8}) "
   ]
  },
  {
   "cell_type": "markdown",
   "metadata": {},
   "source": [
    "### Посмотрим распределение целевой переменной"
   ]
  },
  {
   "cell_type": "code",
   "execution_count": null,
   "metadata": {},
   "outputs": [],
   "source": [
    "data['Rating'].value_counts(ascending=True).plot(kind='barh')"
   ]
  },
  {
   "cell_type": "markdown",
   "metadata": {},
   "source": [
    "### Посмотрим распределение целевой переменной относительно признака"
   ]
  },
  {
   "cell_type": "code",
   "execution_count": null,
   "metadata": {},
   "outputs": [],
   "source": [
    "data['Ranking'][data['Rating'] == 5].hist(bins=100)"
   ]
  },
  {
   "cell_type": "code",
   "execution_count": null,
   "metadata": {},
   "outputs": [],
   "source": [
    "data['Ranking'][data['Rating'] < 4].hist(bins=100)"
   ]
  },
  {
   "cell_type": "markdown",
   "metadata": {},
   "source": [
    "### Корреляция признаков\n",
    "На этом графике уже сейчас вы сможете заметить, как признаки связаны между собой и с целевой переменной."
   ]
  },
  {
   "cell_type": "code",
   "execution_count": null,
   "metadata": {},
   "outputs": [],
   "source": [
    "plt.rcParams['figure.figsize'] = (15,10)\n",
    "sns.heatmap(data[['Ranking', 'Rating', 'Price Range', 'Number of Reviews', 'Cuisine Style', \n",
    "                 'Date last review', 'City ID', 'City population', 'City square']].corr(),)"
   ]
  },
  {
   "cell_type": "code",
   "execution_count": null,
   "metadata": {},
   "outputs": [],
   "source": [
    "# модель на признаках с dtypes \"object\" обучаться не будет, просто выберим их и удалим\n",
    "object_columns = [s for s in data.columns if data[s].dtypes == 'object']\n",
    "data.drop(object_columns, axis = 1, inplace=True)"
   ]
  },
  {
   "cell_type": "markdown",
   "metadata": {},
   "source": [
    "# Разбиваем датафрейм на части, необходимые для обучения и тестирования модели"
   ]
  },
  {
   "cell_type": "code",
   "execution_count": null,
   "metadata": {},
   "outputs": [],
   "source": [
    "# Х - данные с информацией о ресторанах, у - целевая переменная (рейтинги ресторанов)\n",
    "X = data.drop(['Rating'], axis=1)\n",
    "y = data['Rating']"
   ]
  },
  {
   "cell_type": "code",
   "execution_count": null,
   "metadata": {},
   "outputs": [],
   "source": [
    "# Загружаем специальный инструмент для разбивки:\n",
    "from sklearn.model_selection import train_test_split"
   ]
  },
  {
   "cell_type": "code",
   "execution_count": null,
   "metadata": {},
   "outputs": [],
   "source": [
    "# Наборы данных с меткой \"train\" будут использоваться для обучения модели, \"test\" - для тестирования.\n",
    "# Для тестирования мы будем использовать 25% от исходного датасета.\n",
    "X_train, X_test, y_train, y_test = train_test_split(X, y, test_size=0.25)"
   ]
  },
  {
   "cell_type": "markdown",
   "metadata": {},
   "source": [
    "# Создаём, обучаем и тестируем модель"
   ]
  },
  {
   "cell_type": "code",
   "execution_count": null,
   "metadata": {},
   "outputs": [],
   "source": [
    "# Импортируем необходимые библиотеки:\n",
    "from sklearn.ensemble import RandomForestRegressor # инструмент для создания и обучения модели\n",
    "from sklearn import metrics # инструменты для оценки точности модели"
   ]
  },
  {
   "cell_type": "code",
   "execution_count": null,
   "metadata": {},
   "outputs": [],
   "source": [
    "# Создаём модель\n",
    "regr = RandomForestRegressor(n_estimators=100)\n",
    "\n",
    "# Обучаем модель на тестовом наборе данных\n",
    "regr.fit(X_train, y_train)\n",
    "\n",
    "# Используем обученную модель для предсказания рейтинга ресторанов в тестовой выборке.\n",
    "# Предсказанные значения записываем в переменную y_pred\n",
    "y_pred = np.round(regr.predict(X_test), 1)"
   ]
  },
  {
   "cell_type": "code",
   "execution_count": null,
   "metadata": {},
   "outputs": [],
   "source": [
    "# Сравниваем предсказанные значения (y_pred) с реальными (y_test), и смотрим насколько они в среднем отличаются\n",
    "# Метрика называется Mean Absolute Error (MAE) и показывает среднее отклонение предсказанных значений от фактических.\n",
    "print('MAE:', metrics.mean_absolute_error(y_test, y_pred))"
   ]
  },
  {
   "cell_type": "code",
   "execution_count": null,
   "metadata": {},
   "outputs": [],
   "source": []
  }
 ],
 "metadata": {
  "kernelspec": {
   "display_name": "Python 3",
   "language": "python",
   "name": "python3"
  },
  "language_info": {
   "codemirror_mode": {
    "name": "ipython",
    "version": 3
   },
   "file_extension": ".py",
   "mimetype": "text/x-python",
   "name": "python",
   "nbconvert_exporter": "python",
   "pygments_lexer": "ipython3",
   "version": "3.7.6"
  }
 },
 "nbformat": 4,
 "nbformat_minor": 4
}
